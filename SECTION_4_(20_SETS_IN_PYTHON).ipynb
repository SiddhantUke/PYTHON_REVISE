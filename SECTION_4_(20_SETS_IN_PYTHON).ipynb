{
  "nbformat": 4,
  "nbformat_minor": 0,
  "metadata": {
    "colab": {
      "provenance": [],
      "authorship_tag": "ABX9TyPyt+0Cb1Y6x1zA3th8JhiV",
      "include_colab_link": true
    },
    "kernelspec": {
      "name": "python3",
      "display_name": "Python 3"
    },
    "language_info": {
      "name": "python"
    }
  },
  "cells": [
    {
      "cell_type": "markdown",
      "metadata": {
        "id": "view-in-github",
        "colab_type": "text"
      },
      "source": [
        "<a href=\"https://colab.research.google.com/github/SiddhantUke/PYTHON_REVISE/blob/main/SECTION_4_(20_SETS_IN_PYTHON).ipynb\" target=\"_parent\"><img src=\"https://colab.research.google.com/assets/colab-badge.svg\" alt=\"Open In Colab\"/></a>"
      ]
    },
    {
      "cell_type": "markdown",
      "source": [
        "##INBUILT DATA STRUCTURES IN PYTHON"
      ],
      "metadata": {
        "id": "LHgoGsTGCqIf"
      }
    },
    {
      "cell_type": "markdown",
      "source": [
        "\n",
        "\n",
        "---\n",
        "\n"
      ],
      "metadata": {
        "id": "LY-S7MRLvhNO"
      }
    },
    {
      "cell_type": "markdown",
      "source": [
        "## Sets\n",
        "\n",
        "Sets are a built-in data type in Python used to store collections of unique items. They are unordered, meaning that the elements do not follow a specific order, and they do not allow duplicate elements. Sets are useful for membership tests, eliminating duplicate entries, and performing mathematical set operations like union, intersection, difference, and symmetric difference."
      ],
      "metadata": {
        "id": "bR7D-avEvYt9"
      }
    },
    {
      "cell_type": "code",
      "source": [
        "##create a set\n",
        "\n",
        "my_set={1,2,3,4,5} ## ----------> Actucally curly bracket represent the set!\n",
        "\n",
        "print(my_set)\n",
        "\n",
        "print(type(my_set))"
      ],
      "metadata": {
        "colab": {
          "base_uri": "https://localhost:8080/"
        },
        "id": "J8ecZa7DvdnQ",
        "outputId": "7146898f-f872-4d5e-f5c9-05eb4c06dc8d"
      },
      "execution_count": 2,
      "outputs": [
        {
          "output_type": "stream",
          "name": "stdout",
          "text": [
            "{1, 2, 3, 4, 5}\n",
            "<class 'set'>\n"
          ]
        }
      ]
    },
    {
      "cell_type": "code",
      "source": [
        "my_empty_set=set()\n",
        "print(type(my_empty_set))"
      ],
      "metadata": {
        "colab": {
          "base_uri": "https://localhost:8080/"
        },
        "id": "1mrJdV5JvkJi",
        "outputId": "28b5a3ff-63d5-4a95-b88e-758215b40b16"
      },
      "execution_count": 3,
      "outputs": [
        {
          "output_type": "stream",
          "name": "stdout",
          "text": [
            "<class 'set'>\n"
          ]
        }
      ]
    },
    {
      "cell_type": "code",
      "source": [
        "\n",
        "my_set=set([1,2,3,4,5,6]) ### INSIDE THIS WE CAN GIVE TUPLES/LIST/\n",
        "print(my_set)"
      ],
      "metadata": {
        "colab": {
          "base_uri": "https://localhost:8080/"
        },
        "id": "r0C087sOvkF9",
        "outputId": "0f410df1-5de9-4788-9ab9-b97f47cabe97"
      },
      "execution_count": 4,
      "outputs": [
        {
          "output_type": "stream",
          "name": "stdout",
          "text": [
            "{1, 2, 3, 4, 5, 6}\n"
          ]
        }
      ]
    },
    {
      "cell_type": "code",
      "source": [
        "\n",
        "\n",
        "my_empty_set=set([1,2,3,6,5,4,5,6])\n",
        "print(my_empty_set) ### WHAT IF WE HAVE HERE DUPLICATE ELEMENT SO IT WILL NOT TAKE THAT ELEMENT IN O/P.\n"
      ],
      "metadata": {
        "colab": {
          "base_uri": "https://localhost:8080/"
        },
        "id": "vgO75pUbvkD9",
        "outputId": "7e05ab1b-2d2f-48e0-ee26-6b707ede7ecd"
      },
      "execution_count": 5,
      "outputs": [
        {
          "output_type": "stream",
          "name": "stdout",
          "text": [
            "{1, 2, 3, 4, 5, 6}\n"
          ]
        }
      ]
    },
    {
      "cell_type": "code",
      "source": [],
      "metadata": {
        "id": "ykXHHnCVvkB0"
      },
      "execution_count": 6,
      "outputs": []
    },
    {
      "cell_type": "markdown",
      "source": [
        "\n",
        "## Basics Sets Operation\n",
        "## Adding and Removing Elements\n"
      ],
      "metadata": {
        "id": "G0foJEM66EEo"
      }
    },
    {
      "cell_type": "code",
      "source": [
        "my_set.add(7) ## ----------> if we add that same element again then it will ignore the repeated element !\n",
        "print(my_set)\n",
        "my_set.remove(1)\n",
        "print(my_set)"
      ],
      "metadata": {
        "colab": {
          "base_uri": "https://localhost:8080/"
        },
        "id": "oHkdfuY55Oho",
        "outputId": "7327b8f2-e702-4af8-c5b0-28be35a998e0"
      },
      "execution_count": 10,
      "outputs": [
        {
          "output_type": "stream",
          "name": "stdout",
          "text": [
            "{1, 2, 3, 4, 6, 7}\n",
            "{2, 3, 4, 6, 7}\n"
          ]
        }
      ]
    },
    {
      "cell_type": "code",
      "source": [
        "my_set.discard(11) ## --------> DISCARD THE ELEMENT IF IT IS NOT THERE IN THE LIST THEN  IT WILL NOT GIVE ERROR !\n",
        "print(my_set)"
      ],
      "metadata": {
        "colab": {
          "base_uri": "https://localhost:8080/"
        },
        "id": "omtHzP0R5QM6",
        "outputId": "4d60acd1-3599-491a-b819-8c3a57cae999"
      },
      "execution_count": 11,
      "outputs": [
        {
          "output_type": "stream",
          "name": "stdout",
          "text": [
            "{2, 3, 4, 6, 7}\n"
          ]
        }
      ]
    },
    {
      "cell_type": "code",
      "source": [],
      "metadata": {
        "id": "8zysPn2D5QSc"
      },
      "execution_count": null,
      "outputs": []
    },
    {
      "cell_type": "markdown",
      "source": [
        "### pop method"
      ],
      "metadata": {
        "id": "3iH9zg_IBb1X"
      }
    },
    {
      "cell_type": "code",
      "source": [
        "\n",
        "## pop method\n",
        "\n",
        "removed_element=my_set.pop() ## basically first in first out element !\n",
        "\n",
        "print(removed_element)\n",
        "\n",
        "print(my_set)"
      ],
      "metadata": {
        "colab": {
          "base_uri": "https://localhost:8080/"
        },
        "id": "IWAZnIot5QVK",
        "outputId": "51ec4a77-87f5-4023-b145-1e61ab73f7ed"
      },
      "execution_count": 14,
      "outputs": [
        {
          "output_type": "stream",
          "name": "stdout",
          "text": [
            "4\n",
            "{6, 7}\n"
          ]
        }
      ]
    },
    {
      "cell_type": "code",
      "source": [
        "## FOR CLEARING THE ELEMENT\n",
        "\n",
        "\n",
        "## clear all the elements\n",
        "my_set.clear()\n",
        "print(my_set)"
      ],
      "metadata": {
        "colab": {
          "base_uri": "https://localhost:8080/"
        },
        "id": "VkTPBO1k5RgE",
        "outputId": "16285e71-cb62-417c-9280-4d7e80a1d601"
      },
      "execution_count": 15,
      "outputs": [
        {
          "output_type": "stream",
          "name": "stdout",
          "text": [
            "set()\n"
          ]
        }
      ]
    },
    {
      "cell_type": "code",
      "source": [],
      "metadata": {
        "id": "JLNXP5RD5OeO"
      },
      "execution_count": null,
      "outputs": []
    },
    {
      "cell_type": "code",
      "source": [
        "## SET MEMBERSHIP TEST\n",
        "\n",
        "my_set={1,2,3,4,5}\n",
        "print(3 in my_set)\n",
        "print(10 in my_set)"
      ],
      "metadata": {
        "colab": {
          "base_uri": "https://localhost:8080/"
        },
        "id": "5LDIPKSf5OcG",
        "outputId": "503b4da2-70c2-4aa8-d307-7c0941a40582"
      },
      "execution_count": 17,
      "outputs": [
        {
          "output_type": "stream",
          "name": "stdout",
          "text": [
            "True\n",
            "False\n"
          ]
        }
      ]
    },
    {
      "cell_type": "code",
      "source": [
        "\n",
        "## MAthematical Operation\n",
        "set1={1,2,3,4,5,6}\n",
        "set2={4,5,6,7,8,9}\n",
        "\n",
        "### Union -----------> COMBINE ALL THE SET !\n",
        "union_set=set1.union(set2)\n",
        "print(union_set)\n",
        "\n",
        "## Intersection -------------> COMMON ELEMENT FROM  BOTH THE SETS\n",
        "intersection_set=set1.intersection(set2)\n",
        "print(intersection_set)\n",
        "\n",
        "\n",
        "## INTERSECTION UPDATE -------------> TAKE COMMON ELEMENT AND UPDATES THAT ALL IN SET 1\n",
        "set1.intersection_update(set2)\n",
        "print(set1)"
      ],
      "metadata": {
        "colab": {
          "base_uri": "https://localhost:8080/"
        },
        "id": "s9Mz3WvM5OZw",
        "outputId": "066ee93c-7910-4f4d-8a26-bacbf14f2e2d"
      },
      "execution_count": 18,
      "outputs": [
        {
          "output_type": "stream",
          "name": "stdout",
          "text": [
            "{1, 2, 3, 4, 5, 6, 7, 8, 9}\n",
            "{4, 5, 6}\n",
            "{4, 5, 6}\n"
          ]
        }
      ]
    },
    {
      "cell_type": "code",
      "source": [
        "\n",
        "set1={1,2,3,4,5,6}\n",
        "set2={4,5,6,7,8,9}\n",
        "\n",
        "## Difference -------------> REMOVED COMMON ELEMENT FROM SET 1 WITH RESPECT TO SET 2\n",
        "print(set1.difference(set2))\n",
        "\n",
        "\n",
        "set2.difference(set1)"
      ],
      "metadata": {
        "colab": {
          "base_uri": "https://localhost:8080/"
        },
        "id": "Xubm9veT5OXb",
        "outputId": "f73f668d-eecf-4e17-d91f-a3ec7ff1b3eb"
      },
      "execution_count": 20,
      "outputs": [
        {
          "output_type": "stream",
          "name": "stdout",
          "text": [
            "{1, 2, 3}\n"
          ]
        },
        {
          "output_type": "execute_result",
          "data": {
            "text/plain": [
              "{7, 8, 9}"
            ]
          },
          "metadata": {},
          "execution_count": 20
        }
      ]
    },
    {
      "cell_type": "code",
      "source": [
        "## Symmetric Difference ----------> BOTH UNIQUE ELEMENT ARE COMBINE AND COMMON ELEMENT REMOVED\n",
        "set1.symmetric_difference(set2)"
      ],
      "metadata": {
        "colab": {
          "base_uri": "https://localhost:8080/"
        },
        "id": "C3k3jzs75OUH",
        "outputId": "7b1f149c-3f4b-49a1-d4f5-c16f4a343804"
      },
      "execution_count": 21,
      "outputs": [
        {
          "output_type": "execute_result",
          "data": {
            "text/plain": [
              "{1, 2, 3, 7, 8, 9}"
            ]
          },
          "metadata": {},
          "execution_count": 21
        }
      ]
    },
    {
      "cell_type": "code",
      "source": [
        "\n",
        "## Sets Methods\n",
        "set1={1,2,3,4,5}\n",
        "set2={3,4,5}\n",
        "\n",
        "## is subset\n",
        "print(set1.issubset(set2)) ### ---------> parent element means from set1 all the element of set2 is available.\n",
        "\n",
        "print(set1.issuperset(set2)) ### ----------> whether it has all the element of set2"
      ],
      "metadata": {
        "colab": {
          "base_uri": "https://localhost:8080/"
        },
        "id": "2EIhUv1i5OSP",
        "outputId": "ea238aaa-cef7-4bb1-9e7d-23ae43255aeb"
      },
      "execution_count": 25,
      "outputs": [
        {
          "output_type": "stream",
          "name": "stdout",
          "text": [
            "False\n",
            "True\n"
          ]
        }
      ]
    },
    {
      "cell_type": "code",
      "source": [
        "lst=[1,2,2,3,4,4,5] ## if we want to removed the duplicate from the list.\n",
        "\n",
        "set(lst) ## then we have to convert that into a set!\n"
      ],
      "metadata": {
        "colab": {
          "base_uri": "https://localhost:8080/"
        },
        "id": "TDZTJkV_vj_0",
        "outputId": "9753eff2-9e9a-4e55-afb1-ef1b01eec7ee"
      },
      "execution_count": 26,
      "outputs": [
        {
          "output_type": "execute_result",
          "data": {
            "text/plain": [
              "{1, 2, 3, 4, 5}"
            ]
          },
          "metadata": {},
          "execution_count": 26
        }
      ]
    },
    {
      "cell_type": "code",
      "source": [
        "### Counting Unique words in text\n",
        "\n",
        "text=\"In this tutorial we are discussing about sets\"\n",
        "words=text.split()\n",
        "\n",
        "## convert list of words to set to get unique words\n",
        "\n",
        "unique_words=set(words)\n",
        "print(unique_words)\n",
        "print(len(unique_words))"
      ],
      "metadata": {
        "colab": {
          "base_uri": "https://localhost:8080/"
        },
        "id": "cTMaAX7qvj8m",
        "outputId": "5100a556-1933-499a-d5af-cc0356de1414"
      },
      "execution_count": 27,
      "outputs": [
        {
          "output_type": "stream",
          "name": "stdout",
          "text": [
            "{'discussing', 'tutorial', 'we', 'this', 'about', 'sets', 'are', 'In'}\n",
            "8\n"
          ]
        }
      ]
    },
    {
      "cell_type": "code",
      "source": [],
      "metadata": {
        "id": "1Z03fjeDvjwf"
      },
      "execution_count": null,
      "outputs": []
    }
  ]
}