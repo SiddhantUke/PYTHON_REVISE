{
  "nbformat": 4,
  "nbformat_minor": 0,
  "metadata": {
    "colab": {
      "provenance": [],
      "authorship_tag": "ABX9TyM3zH/XfglbP2TJObHJLlWD",
      "include_colab_link": true
    },
    "kernelspec": {
      "name": "python3",
      "display_name": "Python 3"
    },
    "language_info": {
      "name": "python"
    }
  },
  "cells": [
    {
      "cell_type": "markdown",
      "metadata": {
        "id": "view-in-github",
        "colab_type": "text"
      },
      "source": [
        "<a href=\"https://colab.research.google.com/github/SiddhantUke/PYTHON_REVISE/blob/main/SECTION_4_(18_TUPLE).ipynb\" target=\"_parent\"><img src=\"https://colab.research.google.com/assets/colab-badge.svg\" alt=\"Open In Colab\"/></a>"
      ]
    },
    {
      "cell_type": "markdown",
      "source": [
        "##INBUILT DATA STRUCTURES IN PYTHON"
      ],
      "metadata": {
        "id": "LHgoGsTGCqIf"
      }
    },
    {
      "cell_type": "markdown",
      "source": [
        "\n",
        "##Tuples\n",
        "\n",
        "\n",
        "Introduction to Tuples\n",
        "Creating Tuples\n",
        "Accessing Tuple Elements\n",
        "Tuple Operations\n",
        "Immutable Nature of Tuples\n",
        "Tuple Methods\n",
        "Packing and Unpacking Tuples\n",
        "Nested Tuples\n",
        "Practical Examples and Common Errors\n",
        "\n"
      ],
      "metadata": {
        "id": "bZ_jQgsHBiUa"
      }
    },
    {
      "cell_type": "code",
      "source": [],
      "metadata": {
        "id": "Q0Vx6S6MCdaX"
      },
      "execution_count": null,
      "outputs": []
    },
    {
      "cell_type": "markdown",
      "source": [
        "## Introduction to Tuples\n",
        "\n",
        "Explanation:\n",
        "\n",
        "Tuples are ordered collections of items that are immutable. They are similar to lists, but their immutability makes them different."
      ],
      "metadata": {
        "id": "E4Xp6WAhCeI3"
      }
    },
    {
      "cell_type": "code",
      "source": [
        "## creating a tuple\n",
        "empty_tuple=()\n",
        "print(empty_tuple)\n",
        "print(type(empty_tuple))"
      ],
      "metadata": {
        "colab": {
          "base_uri": "https://localhost:8080/"
        },
        "id": "1THPwvGjCicx",
        "outputId": "3d0fe365-29d2-4201-c225-2c0df5119013"
      },
      "execution_count": 1,
      "outputs": [
        {
          "output_type": "stream",
          "name": "stdout",
          "text": [
            "()\n",
            "<class 'tuple'>\n"
          ]
        }
      ]
    },
    {
      "cell_type": "code",
      "execution_count": 2,
      "metadata": {
        "colab": {
          "base_uri": "https://localhost:8080/"
        },
        "id": "_TFkRSsrooH6",
        "outputId": "157b949e-9e61-4298-9bcd-87b5a2282c1a"
      },
      "outputs": [
        {
          "output_type": "stream",
          "name": "stdout",
          "text": [
            "<class 'list'>\n",
            "<class 'tuple'>\n"
          ]
        }
      ],
      "source": [
        "lst = list()\n",
        "print(type(lst))\n",
        "tpl=tuple()\n",
        "print(type(tpl))"
      ]
    },
    {
      "cell_type": "code",
      "source": [
        "## this list converted in tuple !\n",
        "\n",
        "numbers=tuple([1,2,3,4,5,6])\n",
        "numbers"
      ],
      "metadata": {
        "colab": {
          "base_uri": "https://localhost:8080/"
        },
        "id": "2ajemWLrLepU",
        "outputId": "7c1f27ac-6489-46ca-97ff-b749fa273d85"
      },
      "execution_count": 4,
      "outputs": [
        {
          "output_type": "execute_result",
          "data": {
            "text/plain": [
              "(1, 2, 3, 4, 5, 6)"
            ]
          },
          "metadata": {},
          "execution_count": 4
        }
      ]
    },
    {
      "cell_type": "code",
      "source": [
        "## tuple can converted into list!!\n",
        "\n",
        "list((1,2,3,4,5,6))"
      ],
      "metadata": {
        "colab": {
          "base_uri": "https://localhost:8080/"
        },
        "id": "0bPU-o7wLema",
        "outputId": "13b40c12-ea51-4c5a-d707-4983be76aef5"
      },
      "execution_count": 5,
      "outputs": [
        {
          "output_type": "execute_result",
          "data": {
            "text/plain": [
              "[1, 2, 3, 4, 5, 6]"
            ]
          },
          "metadata": {},
          "execution_count": 5
        }
      ]
    },
    {
      "cell_type": "code",
      "source": [
        "mixed_tuple=(1,\"Hello World\",3.14, True)\n",
        "print(mixed_tuple)"
      ],
      "metadata": {
        "colab": {
          "base_uri": "https://localhost:8080/"
        },
        "id": "Xw2RRSFPLekd",
        "outputId": "64f79854-ce26-454e-b1b7-29b85c1d7ca4"
      },
      "execution_count": 6,
      "outputs": [
        {
          "output_type": "stream",
          "name": "stdout",
          "text": [
            "(1, 'Hello World', 3.14, True)\n"
          ]
        }
      ]
    },
    {
      "cell_type": "code",
      "source": [
        "## ACCESSING TUPLES ELEMENTS !\n",
        "\n",
        "numbers"
      ],
      "metadata": {
        "colab": {
          "base_uri": "https://localhost:8080/"
        },
        "id": "73UdtSaKLeii",
        "outputId": "ceaedd03-efdb-4947-9327-9787af49abd3"
      },
      "execution_count": 7,
      "outputs": [
        {
          "output_type": "execute_result",
          "data": {
            "text/plain": [
              "(1, 2, 3, 4, 5, 6)"
            ]
          },
          "metadata": {},
          "execution_count": 7
        }
      ]
    },
    {
      "cell_type": "code",
      "source": [
        "print(numbers[2])\n",
        "print(numbers[-1])"
      ],
      "metadata": {
        "colab": {
          "base_uri": "https://localhost:8080/"
        },
        "id": "t75A30sjLegp",
        "outputId": "9d4241fa-4880-4ffd-be84-f5f0cf6e801c"
      },
      "execution_count": 8,
      "outputs": [
        {
          "output_type": "stream",
          "name": "stdout",
          "text": [
            "3\n",
            "6\n"
          ]
        }
      ]
    },
    {
      "cell_type": "code",
      "source": [
        "numbers [0:3]\n"
      ],
      "metadata": {
        "colab": {
          "base_uri": "https://localhost:8080/"
        },
        "id": "_LYBGZL4Leey",
        "outputId": "3ab4551b-2dd1-4734-c97b-3520a04acd23"
      },
      "execution_count": 11,
      "outputs": [
        {
          "output_type": "execute_result",
          "data": {
            "text/plain": [
              "(1, 2, 3)"
            ]
          },
          "metadata": {},
          "execution_count": 11
        }
      ]
    },
    {
      "cell_type": "code",
      "source": [
        "## Tuple Operations\n",
        "\n",
        "concatenation_tuple=numbers + mixed_tuple\n",
        "print(concatenation_tuple)"
      ],
      "metadata": {
        "colab": {
          "base_uri": "https://localhost:8080/"
        },
        "id": "y8voNzSGLec6",
        "outputId": "879fa8da-d227-4460-a4a7-4eca80d0e461"
      },
      "execution_count": 12,
      "outputs": [
        {
          "output_type": "stream",
          "name": "stdout",
          "text": [
            "(1, 2, 3, 4, 5, 6, 1, 'Hello World', 3.14, True)\n"
          ]
        }
      ]
    },
    {
      "cell_type": "markdown",
      "source": [
        "#### Multiplication In Tuples\n",
        "\n"
      ],
      "metadata": {
        "id": "BorXVDOisEHM"
      }
    },
    {
      "cell_type": "code",
      "source": [
        "mixed_tuple * 3\n"
      ],
      "metadata": {
        "colab": {
          "base_uri": "https://localhost:8080/"
        },
        "id": "6KvTrW6WLeaD",
        "outputId": "1c4b0bf3-dc62-45c3-816a-1295ad126586"
      },
      "execution_count": 18,
      "outputs": [
        {
          "output_type": "execute_result",
          "data": {
            "text/plain": [
              "(1,\n",
              " 'Hello World',\n",
              " 3.14,\n",
              " True,\n",
              " 1,\n",
              " 'Hello World',\n",
              " 3.14,\n",
              " True,\n",
              " 1,\n",
              " 'Hello World',\n",
              " 3.14,\n",
              " True)"
            ]
          },
          "metadata": {},
          "execution_count": 18
        }
      ]
    },
    {
      "cell_type": "code",
      "source": [
        "\n",
        "\n",
        "numbers *3"
      ],
      "metadata": {
        "colab": {
          "base_uri": "https://localhost:8080/"
        },
        "id": "wLi7HTT9LeYG",
        "outputId": "93e8905b-6dfd-4f02-961e-257e1516baa9"
      },
      "execution_count": 16,
      "outputs": [
        {
          "output_type": "execute_result",
          "data": {
            "text/plain": [
              "(1, 2, 3, 4, 5, 6, 1, 2, 3, 4, 5, 6, 1, 2, 3, 4, 5, 6)"
            ]
          },
          "metadata": {},
          "execution_count": 16
        }
      ]
    },
    {
      "cell_type": "markdown",
      "source": [
        "#### Immutable Nature Of Tuples\n",
        "\n",
        "#### Tuples are immutable, meaning their elements cannot be changed once assigned."
      ],
      "metadata": {
        "id": "WnEMCUkBspeo"
      }
    },
    {
      "cell_type": "code",
      "source": [
        "lst=[1,2,3,4,5]\n",
        "print(lst)\n",
        "\n",
        "## CONVER INTO A LIST THEN REPLACED IT !\n",
        "\n",
        "lst[1]=\"Krish HERE WE ACTUCLLY DO THE REPLACEMENT \"  ##REPLACEMENTS\n",
        "print(lst)"
      ],
      "metadata": {
        "colab": {
          "base_uri": "https://localhost:8080/"
        },
        "id": "TaBr6trLLeWK",
        "outputId": "e9ee04d8-b98a-4a94-d4d0-cdd79e7b78f1"
      },
      "execution_count": 21,
      "outputs": [
        {
          "output_type": "stream",
          "name": "stdout",
          "text": [
            "[1, 2, 3, 4, 5]\n",
            "[1, 'Krish HERE WE ACTUCLLY DO THE REPLACEMENT ', 3, 4, 5]\n"
          ]
        }
      ]
    },
    {
      "cell_type": "markdown",
      "source": [
        "####WE CANT DIRECTLY DO THE REPLACEMENT OR CHNAGES IN TUPLES !\n",
        "\n"
      ],
      "metadata": {
        "id": "WGz4ZxUst2uh"
      }
    },
    {
      "cell_type": "code",
      "source": [
        "\n",
        "numbers"
      ],
      "metadata": {
        "colab": {
          "base_uri": "https://localhost:8080/"
        },
        "id": "415vvxyHLeUK",
        "outputId": "24a4c9bc-9af6-421b-d690-84b6b6c34d40"
      },
      "execution_count": 22,
      "outputs": [
        {
          "output_type": "execute_result",
          "data": {
            "text/plain": [
              "(1, 2, 3, 4, 5, 6)"
            ]
          },
          "metadata": {},
          "execution_count": 22
        }
      ]
    },
    {
      "cell_type": "markdown",
      "source": [
        "INDEX AND COUNT !"
      ],
      "metadata": {
        "id": "kKKAjVunu-Q_"
      }
    },
    {
      "cell_type": "code",
      "source": [
        "## Tuple Methods\n",
        "print(numbers.count(1))  ## COUNTING  HOW MANY THIS NO. IS PRESENT !\n",
        "\n",
        "print(numbers.index(3)) ## WHERE THE NO. 3 IS PRESENT IN THE TUPLES !\n",
        "\n",
        "\n"
      ],
      "metadata": {
        "colab": {
          "base_uri": "https://localhost:8080/"
        },
        "id": "nOA3ANk-LeQw",
        "outputId": "f2bdd114-fa0d-4794-f653-4aaf7824805e"
      },
      "execution_count": 23,
      "outputs": [
        {
          "output_type": "stream",
          "name": "stdout",
          "text": [
            "1\n",
            "2\n"
          ]
        }
      ]
    },
    {
      "cell_type": "code",
      "source": [
        "## PACKING AND UNPACKING TUPLES\n",
        "\n",
        "##PACKING\n",
        "\n",
        "packed_tuple=1,\"Hello\",3.14\n",
        "print(packed_tuple)"
      ],
      "metadata": {
        "colab": {
          "base_uri": "https://localhost:8080/"
        },
        "id": "7WwkBzJMvDuC",
        "outputId": "0602673c-7f43-4c4d-b5a3-34c6d42b425d"
      },
      "execution_count": 24,
      "outputs": [
        {
          "output_type": "stream",
          "name": "stdout",
          "text": [
            "(1, 'Hello', 3.14)\n"
          ]
        }
      ]
    },
    {
      "cell_type": "code",
      "source": [
        "##unpacking a tuple\n",
        "\n",
        "a,b,c=packed_tuple\n",
        "\n",
        "print(a)\n",
        "print(b)\n",
        "print(c)"
      ],
      "metadata": {
        "colab": {
          "base_uri": "https://localhost:8080/"
        },
        "id": "oVrop5movDrE",
        "outputId": "3bd1e9c9-d493-45b5-e44a-1e85ca21e216"
      },
      "execution_count": 26,
      "outputs": [
        {
          "output_type": "stream",
          "name": "stdout",
          "text": [
            "1\n",
            "Hello\n",
            "3.14\n"
          ]
        }
      ]
    },
    {
      "cell_type": "code",
      "source": [
        "## uNPACKING WITH STAR * -----------> FROM THE STAR WHEREVER WE PUT TILL THE LAST ELEMENT IT PICKED UP !\n",
        "\n",
        "numbers=(1,2,3,4,5,6)\n",
        "first,*middle,last=numbers\n",
        "print(first)\n",
        "print(middle)\n",
        "print(last)"
      ],
      "metadata": {
        "colab": {
          "base_uri": "https://localhost:8080/"
        },
        "id": "PxM-hwnzvDpA",
        "outputId": "1a995001-d83e-4221-ae5b-add537bf4cc6"
      },
      "execution_count": 29,
      "outputs": [
        {
          "output_type": "stream",
          "name": "stdout",
          "text": [
            "1\n",
            "[2, 3, 4, 5]\n",
            "6\n"
          ]
        }
      ]
    },
    {
      "cell_type": "code",
      "source": [
        "\n",
        "## Nested Tuple\n",
        "\n",
        "## Nested List\n",
        "\n",
        "lst=[[1,2,3,4],[6,7,8,9],[1,\"Hello\",3.14,\"c\"]] ## LIST INSIDE A LIST !\n",
        "\n",
        "lst[1][0:3] ## HERE THE FIRST BRACKET INDICATE WHICH LIST WE ACTUALLY WANT.\n",
        "            ## 2ND BRACKET INDICATE THAT FROM WHICH TO WHICH.\n",
        "\n",
        "\n"
      ],
      "metadata": {
        "colab": {
          "base_uri": "https://localhost:8080/"
        },
        "id": "nW1cI0A7vDm0",
        "outputId": "8eeb302a-7930-4e54-9023-6146aee61d56"
      },
      "execution_count": 40,
      "outputs": [
        {
          "output_type": "execute_result",
          "data": {
            "text/plain": [
              "[6, 7, 8]"
            ]
          },
          "metadata": {},
          "execution_count": 40
        }
      ]
    },
    {
      "cell_type": "code",
      "source": [
        "\n",
        "lst=[[1,2,3,4],[6,7,8,9],(1,\"Hello\",3.14,\"c\")]  ## INSIDE LIST WE HAVE TUPLES ALSO !\n",
        "lst[2][0:3]"
      ],
      "metadata": {
        "colab": {
          "base_uri": "https://localhost:8080/"
        },
        "id": "DuvumADxvDkD",
        "outputId": "269110eb-3dbf-4300-8d89-73eb10c2b860"
      },
      "execution_count": 41,
      "outputs": [
        {
          "output_type": "execute_result",
          "data": {
            "text/plain": [
              "(1, 'Hello', 3.14)"
            ]
          },
          "metadata": {},
          "execution_count": 41
        }
      ]
    },
    {
      "cell_type": "code",
      "source": [
        "\n",
        "nested_tuple = ((1, 2, 3), (\"a\", \"b\", \"c\"), (True, False))\n",
        "\n",
        "## access the elements inside a tuple\n",
        "\n",
        "print(nested_tuple[0]) ## INDICATE THE FIRST\n",
        "\n",
        "print(nested_tuple[2][1]) ## INDICATE THE 0/1/2 WITH FROM THAT WHICH WE WANT ACTUCALLY !"
      ],
      "metadata": {
        "colab": {
          "base_uri": "https://localhost:8080/"
        },
        "id": "7p7uoAMO5JaG",
        "outputId": "be5858e5-5057-48c9-d827-0316023e9ff2"
      },
      "execution_count": 46,
      "outputs": [
        {
          "output_type": "stream",
          "name": "stdout",
          "text": [
            "(1, 2, 3)\n",
            "False\n"
          ]
        }
      ]
    },
    {
      "cell_type": "code",
      "source": [
        "## iterating over nested tuples\n",
        "for sub_tuple in nested_tuple:\n",
        "    for item in sub_tuple:\n",
        "        print(item,end=\" \")\n",
        "    print()"
      ],
      "metadata": {
        "colab": {
          "base_uri": "https://localhost:8080/"
        },
        "id": "whRFMWR_5JW_",
        "outputId": "11a5291e-1e12-49b8-cb5e-63d8706f74a4"
      },
      "execution_count": 47,
      "outputs": [
        {
          "output_type": "stream",
          "name": "stdout",
          "text": [
            "1 2 3 \n",
            "a b c \n",
            "True False \n"
          ]
        }
      ]
    },
    {
      "cell_type": "code",
      "source": [],
      "metadata": {
        "id": "JQYvOJHm5JU8"
      },
      "execution_count": null,
      "outputs": []
    },
    {
      "cell_type": "code",
      "source": [],
      "metadata": {
        "id": "L2ZPyVy85JSo"
      },
      "execution_count": null,
      "outputs": []
    },
    {
      "cell_type": "code",
      "source": [],
      "metadata": {
        "id": "uESTVLjE5JP-"
      },
      "execution_count": null,
      "outputs": []
    }
  ]
}