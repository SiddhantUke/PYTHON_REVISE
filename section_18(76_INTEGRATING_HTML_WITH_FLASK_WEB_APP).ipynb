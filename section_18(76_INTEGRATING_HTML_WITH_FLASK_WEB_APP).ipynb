{
  "nbformat": 4,
  "nbformat_minor": 0,
  "metadata": {
    "colab": {
      "provenance": [],
      "authorship_tag": "ABX9TyPRud3JItHaRdPEbx0uLK//",
      "include_colab_link": true
    },
    "kernelspec": {
      "name": "python3",
      "display_name": "Python 3"
    },
    "language_info": {
      "name": "python"
    }
  },
  "cells": [
    {
      "cell_type": "markdown",
      "metadata": {
        "id": "view-in-github",
        "colab_type": "text"
      },
      "source": [
        "<a href=\"https://colab.research.google.com/github/SiddhantUke/PYTHON_REVISE/blob/main/section_18(76_INTEGRATING_HTML_WITH_FLASK_WEB_APP).ipynb\" target=\"_parent\"><img src=\"https://colab.research.google.com/assets/colab-badge.svg\" alt=\"Open In Colab\"/></a>"
      ]
    },
    {
      "cell_type": "code",
      "source": [],
      "metadata": {
        "id": "IgMnHVnVurcr"
      },
      "execution_count": null,
      "outputs": []
    },
    {
      "cell_type": "code",
      "source": [],
      "metadata": {
        "id": "NPvGsrLZurY3"
      },
      "execution_count": null,
      "outputs": []
    },
    {
      "cell_type": "code",
      "source": [
        "## LECTURE 76. INTEGRATING HTML WITH FLASK WEB APP ! !\n",
        "\n",
        "@app.route(\"/\")\n",
        "def welcome():\n",
        "    return \"<html><H1>Welcome to the flask course</H1></html>\"\n",
        "\n",
        "\n",
        " ## lIKE THSI\n",
        "\n",
        "\n",
        "# H1 IS BASICALLLY THE HEADER\n",
        "\n",
        "## It look for the folder which is called templates !\n",
        "\n"
      ],
      "metadata": {
        "id": "eI-CGDh5urWz"
      },
      "execution_count": null,
      "outputs": []
    },
    {
      "cell_type": "code",
      "source": [
        "## render_template is responsible for  redirecting to that html page !\n",
        "\n",
        "## Accordingly we actucally need to  Create a @@templates then in that subfolder we\n",
        "\n",
        "## need to create a index.html\n",
        "\n",
        "## then in that index.html we need to write our message as\n",
        "\n",
        "<!DOCTYPE html>\n",
        "<html lang=\"en\">\n",
        "<head>\n",
        "    <meta charset=\"UTF-8\">\n",
        "    <title>Flask App</title>\n",
        "</head>\n",
        "<body>\n",
        "    <h1>Welcome to My Flask App!</h1>\n",
        "    <p>This is a simple web application built with Flask.</p>\n",
        "</body>\n",
        "</html>\n",
        "\n",
        "\n",
        "\n",
        "\n",
        "## Need a Basic Knowlegde of HTML is fine !\n",
        "\n"
      ],
      "metadata": {
        "id": "7paWABbCurUr"
      },
      "execution_count": null,
      "outputs": []
    },
    {
      "cell_type": "code",
      "source": [],
      "metadata": {
        "id": "OwM9hJ3durRp"
      },
      "execution_count": null,
      "outputs": []
    },
    {
      "cell_type": "code",
      "source": [
        "## Here we need to create a main.py file\n",
        "\n",
        "# this is the code we need to put in that !\n",
        "\n",
        "from flask import Flask,render_template\n",
        "'''\n",
        " It creates an instance of the Flask class,\n",
        " which will be your WSGI (Web Server Gateway Interface) application.\n",
        "'''\n",
        "###WSGI Application\n",
        "app=Flask(__name__)\n",
        "\n",
        "@app.route(\"/\")\n",
        "def welcome():\n",
        "    return \"<html><H1>Welcome to the flask course</H1></html>\"\n",
        "\n",
        "@app.route(\"/index\")\n",
        "def index():\n",
        "    return render_template('index.html')\n",
        "\n",
        "@app.route('/about')\n",
        "def about():\n",
        "    return render_template('about.html')\n",
        "\n",
        "## Here we need to create a about.html file in the\n",
        "## templates folder\n",
        "\n",
        "## WE firstly create a index file then\n",
        "\n",
        "## about.file\n",
        "\n",
        "# in this file we need to write a code\n",
        "\n",
        "\n",
        "if __name__==\"__main__\":\n",
        "    app.run(debug=True)"
      ],
      "metadata": {
        "colab": {
          "base_uri": "https://localhost:8080/"
        },
        "id": "hCLzYfLxurPQ",
        "outputId": "a7cb584c-6673-4056-e700-ee4fec783c7e"
      },
      "execution_count": 1,
      "outputs": [
        {
          "output_type": "stream",
          "name": "stdout",
          "text": [
            " * Serving Flask app '__main__'\n",
            " * Debug mode: on\n"
          ]
        },
        {
          "output_type": "stream",
          "name": "stderr",
          "text": [
            "INFO:werkzeug:\u001b[31m\u001b[1mWARNING: This is a development server. Do not use it in a production deployment. Use a production WSGI server instead.\u001b[0m\n",
            " * Running on http://127.0.0.1:5000\n",
            "INFO:werkzeug:\u001b[33mPress CTRL+C to quit\u001b[0m\n",
            "INFO:werkzeug: * Restarting with stat\n"
          ]
        }
      ]
    },
    {
      "cell_type": "code",
      "source": [
        "## about.html\n",
        "\n",
        "<!DOCTYPE html>\n",
        "<html lang=\"en\">\n",
        "<head>\n",
        "    <meta charset=\"UTF-8\">\n",
        "    <title>About</title>\n",
        "</head>\n",
        "<body>\n",
        "    <h1>About</h1>\n",
        "    <p>This is the about page of my Flask app.</p>\n",
        "</body>\n",
        "</html>"
      ],
      "metadata": {
        "id": "wNaYggBFurND"
      },
      "execution_count": null,
      "outputs": []
    },
    {
      "cell_type": "code",
      "source": [],
      "metadata": {
        "id": "uxNvXeXlurKR"
      },
      "execution_count": null,
      "outputs": []
    },
    {
      "cell_type": "code",
      "source": [
        "# how the folder actually look like !\n",
        "'''\n",
        "\n",
        "\n",
        "-------templates\n",
        "         --------about.html\n",
        "         --------index.html\n",
        "-------app.py\n",
        "-------main.py\n",
        "\n",
        "\n",
        "till the 76 LECTURE THIS IS THE FOLDER STRUCTURE !\n",
        "\n",
        "'''"
      ],
      "metadata": {
        "id": "xIyIPr9Rn-NF"
      },
      "execution_count": null,
      "outputs": []
    },
    {
      "cell_type": "code",
      "source": [],
      "metadata": {
        "id": "9e4WXtaXn-K6"
      },
      "execution_count": null,
      "outputs": []
    },
    {
      "cell_type": "code",
      "source": [],
      "metadata": {
        "id": "7loDJivkn-Il"
      },
      "execution_count": null,
      "outputs": []
    },
    {
      "cell_type": "code",
      "source": [],
      "metadata": {
        "id": "L91jQGGNn-GD"
      },
      "execution_count": null,
      "outputs": []
    },
    {
      "cell_type": "code",
      "source": [],
      "metadata": {
        "id": "0Mz5DqGHn-Ds"
      },
      "execution_count": null,
      "outputs": []
    }
  ]
}