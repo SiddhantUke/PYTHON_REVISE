{
  "nbformat": 4,
  "nbformat_minor": 0,
  "metadata": {
    "colab": {
      "provenance": [],
      "authorship_tag": "ABX9TyN8XZL7OPuQ5+13pOca0s3L",
      "include_colab_link": true
    },
    "kernelspec": {
      "name": "python3",
      "display_name": "Python 3"
    },
    "language_info": {
      "name": "python"
    }
  },
  "cells": [
    {
      "cell_type": "markdown",
      "metadata": {
        "id": "view-in-github",
        "colab_type": "text"
      },
      "source": [
        "<a href=\"https://colab.research.google.com/github/SiddhantUke/PYTHON_REVISE/blob/main/section_18(78_BUILDING_DYN_URL%2CVARIABLES_RULE_AND_JINJA_2_TEMPL_).ipynb\" target=\"_parent\"><img src=\"https://colab.research.google.com/assets/colab-badge.svg\" alt=\"Open In Colab\"/></a>"
      ]
    },
    {
      "cell_type": "code",
      "source": [
        "## Building URL dynamically !\n",
        "\n",
        "## Variable Rule !\n",
        "\n",
        "## Jinja 2 Template Engine !\n"
      ],
      "metadata": {
        "id": "IgMnHVnVurcr"
      },
      "execution_count": null,
      "outputs": []
    },
    {
      "cell_type": "code",
      "source": [
        "\n",
        "from flask import Flask,render_template,request,redirect,url_for\n",
        "'''\n",
        " It creates an instance of the Flask class,\n",
        " which will be your WSGI (Web Server Gateway Interface) application.\n",
        "'''\n",
        "###WSGI Application\n",
        "app=Flask(__name__)\n",
        "\n",
        "@app.route(\"/\")\n",
        "def welcome():\n",
        "    return \"<html><H1>Welcome to the flask course</H1></html>\"\n",
        "\n",
        "@app.route(\"/index\",methods=['GET'])\n",
        "def index():\n",
        "    return render_template('index.html')\n",
        "\n",
        "@app.route('/about')\n",
        "def about():\n",
        "    return render_template('about.html')\n",
        "\n",
        "\n",
        "@app.route('/submit',methods=['GET','POST'])\n",
        "def submit():\n",
        "    if request.method=='POST':\n",
        "        name=request.form['name']\n",
        "        return f'Hello {name}!'\n",
        "    return render_template('form.html')\n",
        "\n",
        "\n",
        "\n",
        "##  1ST TOPIC THAT IS VARIABLE RULES !\n",
        "\n",
        "## Lecture start from here\n",
        "\n",
        "@app.route('/success/<score>')  ## THis is url\n",
        "\n",
        "## Lets pas some parameter\n",
        "## Lets pass some value and write score !\n",
        "def success(score):\n",
        "  return \"The marks you got is \"+score\n",
        "\n",
        "### After this just run the code ! done write in command prompt python jinja.py\n",
        "\n",
        "# ......\n",
        "'''\n",
        "    open the link and write /success/55\n",
        "\n",
        "    as a o/p will see that The Marks you got is 55\n",
        "\n",
        "    '''\n",
        "\n",
        "## THe value we specifying here a default a string value !\n",
        "\n",
        "# @app.route('/success/<score>')   what if write this statement like this !\n",
        "\n",
        "\n",
        "# see ------------------> @app.route('/success/<int:score>')\n",
        "\n",
        "\n",
        "## As an Ouput here we get the error !\n",
        "\n",
        "\n",
        "\n",
        "\n",
        "\n",
        "\n",
        "if __name__==\"__main__\":\n",
        "    app.run(debug=True)\n"
      ],
      "metadata": {
        "colab": {
          "base_uri": "https://localhost:8080/"
        },
        "id": "8njLDRckyHcB",
        "outputId": "f43dee43-a186-4a55-fc43-9f194a55f07f"
      },
      "execution_count": 4,
      "outputs": [
        {
          "output_type": "stream",
          "name": "stdout",
          "text": [
            " * Serving Flask app '__main__'\n",
            " * Debug mode: on\n"
          ]
        },
        {
          "output_type": "stream",
          "name": "stderr",
          "text": [
            "INFO:werkzeug:\u001b[31m\u001b[1mWARNING: This is a development server. Do not use it in a production deployment. Use a production WSGI server instead.\u001b[0m\n",
            " * Running on http://127.0.0.1:5000\n",
            "INFO:werkzeug:\u001b[33mPress CTRL+C to quit\u001b[0m\n",
            "INFO:werkzeug: * Restarting with stat\n"
          ]
        }
      ]
    },
    {
      "cell_type": "markdown",
      "source": [
        "So we need to type cast the parameter !\n",
        "\n",
        ".\n",
        "\n",
        ".\n",
        "\n",
        "if we are passing a parameter and rules to variable !\n",
        "\n",
        ".\n",
        ".\n",
        ".\n",
        ".\n",
        "parmater dene k bad wo aisa hnga ki waha sirf integer hi chiye string nahi !\n",
        "\n",
        "so we need to type the paramter that is  \n",
        "\n",
        "return \"The marks you got is \"+str(score)\n",
        "\n",
        "\n",
        "\n",
        "THIS IS CALLED VARIABLE RULES !  \n",
        "\n",
        "\n",
        ".\n",
        "\n",
        ".\n",
        "\n",
        ".\n",
        "\n",
        ".\n",
        "\n",
        ".\n",
        "\n",
        ".\n",
        "\n",
        ".\n",
        "\n",
        ".\n",
        "\n",
        ".\n",
        "\n",
        "\n",
        ".\n",
        "\n",
        ".\n",
        "## Variable Rule\n",
        "@app.route('/success/<int:score>')\n",
        "def success(score):\n",
        "    res=\"\"\n",
        "    if score>=50:\n",
        "        res=\"PASSED\"\n",
        "    else:\n",
        "        res=\"FAILED\"\n",
        "\n",
        "    return render_template('result.html',results=res)"
      ],
      "metadata": {
        "id": "Ky9y3ITMg2C3"
      }
    },
    {
      "cell_type": "code",
      "source": [
        "## Variable Rule\n",
        "@app.route('/success/<int:score>')\n",
        "def success(score):\n",
        "    res=\"\"\n",
        "    if score>=50:\n",
        "        res=\"PASSED\"\n",
        "    else:\n",
        "        res=\"FAILED\"\n",
        "\n",
        "    return render_template('result.html',results=res)\n",
        "\n",
        "\n",
        "\n",
        "\n",
        "##WHAT ACTUCALLY HAPPEND WITH THIS HERE !\n",
        "\n",
        "\n",
        "## HERE WE ACTUCLLY CREATE A RESULT.HTML FILE AND PUT THIS TYPE OF THAT THERE !\n",
        "\n",
        "## fOR THE EXECUTION OF THIS ABOVE CODE !\n",
        "\n",
        "## res have some value in that and render for returning the html page !\n",
        "\n",
        "\n",
        "\n",
        "\n",
        "\n",
        "\n",
        "<h1>\n",
        "\n",
        "  Based on the marks You have  {{ results }}\n",
        "\n",
        "  # {% if results>=50 %}\n",
        "  # <h1>You have passed with marks {{results}}</h1>\n",
        "  # {% else %}\n",
        "  # <h2>You have failed with marks {{results}} </h2>\n",
        "  # {% endif %}\n",
        "\n",
        "</h1>\n",
        "\n",
        "\n",
        "\n",
        "\n",
        "# AND IN THE O/P OF WHILE RUN AND OPEN IN CHROME WILL GET THIS !\n",
        "\n"
      ],
      "metadata": {
        "id": "njZgjACByHYa"
      },
      "execution_count": null,
      "outputs": []
    },
    {
      "cell_type": "code",
      "source": [
        "## jINJA2 TEMPLATES ENGINE\n",
        "\n",
        "'''\n",
        "\n",
        "THERE ARE MULTIPLE WAY TO REDIRECT THE BACKEND IN THE HTML PAGE !\n",
        "\n",
        "{{  }} expressions to print output in html\n",
        "{%...%} conditions, for loops\n",
        "{#...#} this is for comments\n",
        "\n",
        "\n",
        "'''\n",
        "\n",
        "\n",
        "## Variable Rule\n",
        "@app.route('/success/<int:score>')\n",
        "def success(score):\n",
        "    res=\"\"\n",
        "    if score>=50:\n",
        "        res=\"PASSED\"\n",
        "    else:\n",
        "        res=\"FAILED\"\n",
        "\n",
        "\n",
        "    exp = {'score': score , \"res\":res}  ## here are two paramter with this key values\n",
        "\n",
        "    return render_template('result.html',results=res)\n",
        "\n",
        "\n",
        "## Write a expression and return with some dictionary !\n",
        "\n",
        "\n",
        "## create an result1.html page\n",
        "\n",
        "# write in that file this below code !\n",
        "\n",
        "<html>\n",
        "<h2>\n",
        "    Final Results\n",
        "</h2>\n",
        "<body>\n",
        "\n",
        "\n",
        "     {% for key,value in results.items()   %}\n",
        "\n",
        "      {# This is the comment section #}\n",
        "      <h1>{{ key }}<h1>\n",
        "      <h2>{{ value }}</h2>\n",
        "\n",
        "\n",
        "     {% endfor %}\n",
        "\n",
        "\n",
        "</body>\n",
        "</html>\n",
        "\n",
        "\n",
        "\n",
        "\n",
        "\n",
        "       ## Output\n",
        "\n",
        "\n",
        "\n",
        "      #  final\n",
        "      #  score\n",
        "      #  55\n",
        "      #  res\n",
        "      #  passed\n"
      ],
      "metadata": {
        "id": "F5gSO8EIyHV4"
      },
      "execution_count": null,
      "outputs": []
    },
    {
      "cell_type": "code",
      "source": [
        "## If Condition !\n",
        "\n",
        "\n",
        "@app.route('/successif/<int:score>')\n",
        "def successif(score): ## Make sure that funtn name must be same !\n",
        "\n",
        "\n",
        "    # exp = {'score': score , \"res\":res}  ## here are two paramter with this key values\n",
        "\n",
        "    return render_template('result.html',results=score)  ## Here we directly passed the score !\n",
        "\n",
        "\n",
        "\n",
        "\n",
        "# in the file of result.and\n",
        "\n",
        "<h1>\n",
        "\n",
        "  Based on the marks You have  {{ results }}\n",
        "\n",
        "  {% if results>=50 %}\n",
        "  <h1>You have passed with marks {{results}}</h1>\n",
        "  {% else %}\n",
        "  <h2>You have failed with marks {{results}} </h2>\n",
        "  {% endif %}\n",
        "\n",
        "</h1>\n",
        "\n"
      ],
      "metadata": {
        "id": "f2qAJxRiyHTN"
      },
      "execution_count": null,
      "outputs": []
    },
    {
      "cell_type": "code",
      "source": [],
      "metadata": {
        "id": "wsJVcB8FQ904"
      },
      "execution_count": null,
      "outputs": []
    },
    {
      "cell_type": "markdown",
      "source": [
        "URL_FOR FOR BUILDING DYNAMIC URL !\n",
        "\n"
      ],
      "metadata": {
        "id": "QomKeF8ZgmVV"
      }
    },
    {
      "cell_type": "code",
      "source": [
        "@app.route('/success/<int:score>')\n",
        "def fail(score):\n",
        "\n",
        "\n",
        "    # exp = {'score': score , \"res\":res}  ## here are two paramter with this key values\n",
        "\n",
        "    return render_template('result.html',results=score)\n",
        "\n",
        "    ## Instead of directly go to html why can't we go ahead ! and do the things\n",
        "\n",
        "@app.route('/submit',method=['POST','GET'])\n",
        "def submit():\n",
        "    total_score=0\n",
        "    if request.method=='POST':\n",
        "        science=float(request.form['science'])\n",
        "        maths=float(request.form['maths'])\n",
        "        c=float(request.form['c'])\n",
        "        data_science=float(request.form['datascience'])\n",
        "\n",
        "        total_score=(science+maths+c+data_science)/4\n",
        "    else:\n",
        "        return render_template('getresult.html')\n",
        "    return redirect(url_for('successres',score=total_score))\n",
        "\n",
        "\n",
        "\n",
        "## Create in a template file getresult.html\n",
        "\n",
        "\n",
        "# then putting all the code in this file\n",
        "\n",
        "# code -------->=\n",
        "\n",
        "\n",
        "########################################Here new page ####################################\n",
        "\n",
        "<!DOCTYPE html>\n",
        "<html>\n",
        "<head>\n",
        "<link rel=\"stylesheet\" href=\"{{ url_for('static',filename='css/style.css') }}\">\n",
        "<script type=\"text/javascript\" src=\"{{ url_for('static',filename='script/script.js') }}\">\n",
        "\n",
        "</script>\n",
        "\n",
        "</head>\n",
        "<body>\n",
        "\n",
        "<h2>HTML Forms</h2>\n",
        "\n",
        "<form action=\"/submit\" method='post'>\n",
        "  <label for=\"Science\">Science:</label><br>\n",
        "  <input type=\"text\" id=\"science\" name=\"science\" value=\"0\"><br>\n",
        "  <label for=\"Maths\">Maths:</label><br>\n",
        "  <input type=\"text\" id=\"maths\" name=\"maths\" value=\"0\"><br><br>\n",
        "  <label for=\"C \">C:</label><br>\n",
        "  <input type=\"text\" id=\"c\" name=\"c\" value=\"0\"><br><br>\n",
        "  <label for=\"datascience\">Data Science:</label><br>\n",
        "  <input type=\"text\" id=\"datascience\" name=\"datascience\" value=\"0\"><br><br>\n",
        "  <input type=\"submit\" value=\"Submit\">\n",
        "</form>\n",
        "\n",
        "<p>If you click the \"Submit\" button, the form-data will be sent to a page called \"/submit\".</p>\n",
        "\n",
        "</body>\n",
        "</html>\n"
      ],
      "metadata": {
        "id": "hFIMBu_UQ9xT"
      },
      "execution_count": null,
      "outputs": []
    },
    {
      "cell_type": "code",
      "source": [
        "###################################HERE !\n",
        "\n",
        "\n",
        "#  well we connect the submit button to the url of this\n",
        "\n",
        "# /success 0r  /fail ?\n",
        "\n",
        "whatever the situation would be !\n",
        "\n"
      ],
      "metadata": {
        "id": "Do8WfLZqQ9vT"
      },
      "execution_count": null,
      "outputs": []
    },
    {
      "cell_type": "code",
      "source": [],
      "metadata": {
        "id": "emfyINPzQ9tA"
      },
      "execution_count": null,
      "outputs": []
    },
    {
      "cell_type": "code",
      "source": [],
      "metadata": {
        "id": "kB-R2jA8Q9qk"
      },
      "execution_count": null,
      "outputs": []
    },
    {
      "cell_type": "code",
      "source": [],
      "metadata": {
        "id": "t6GpV5Q5Q9nf"
      },
      "execution_count": null,
      "outputs": []
    },
    {
      "cell_type": "code",
      "source": [],
      "metadata": {
        "id": "K7L0g8CGQ9lb"
      },
      "execution_count": null,
      "outputs": []
    },
    {
      "cell_type": "code",
      "source": [],
      "metadata": {
        "id": "tSCP73R5Q9i2"
      },
      "execution_count": null,
      "outputs": []
    },
    {
      "cell_type": "code",
      "source": [],
      "metadata": {
        "id": "vqEqRgmHQ9gV"
      },
      "execution_count": null,
      "outputs": []
    },
    {
      "cell_type": "code",
      "source": [],
      "metadata": {
        "id": "wvi3nEkHQ9d5"
      },
      "execution_count": null,
      "outputs": []
    },
    {
      "cell_type": "code",
      "source": [],
      "metadata": {
        "id": "87XEba3aQ9bk"
      },
      "execution_count": null,
      "outputs": []
    },
    {
      "cell_type": "code",
      "source": [],
      "metadata": {
        "id": "sKDY2Nt2Q9Yq"
      },
      "execution_count": null,
      "outputs": []
    },
    {
      "cell_type": "code",
      "source": [],
      "metadata": {
        "id": "Oj2qWn2TQ9WD"
      },
      "execution_count": null,
      "outputs": []
    },
    {
      "cell_type": "code",
      "source": [],
      "metadata": {
        "id": "DSqPG3LLQ9Tb"
      },
      "execution_count": null,
      "outputs": []
    },
    {
      "cell_type": "code",
      "source": [],
      "metadata": {
        "id": "B3g1OjQnQ9Qv"
      },
      "execution_count": null,
      "outputs": []
    },
    {
      "cell_type": "code",
      "source": [
        "# how the folder actually look like !\n",
        "'''\n",
        "\n",
        "\n",
        "-------templates\n",
        "         --------about.html\n",
        "         --------index.html\n",
        "         --------form.html\n",
        "\n",
        "-------app.py\n",
        "-------main.py\n",
        "\n",
        "\n",
        "till the 77 LECTURE THIS IS THE FOLDER STRUCTURE !\n",
        "\n",
        "'''"
      ],
      "metadata": {
        "id": "xIyIPr9Rn-NF"
      },
      "execution_count": null,
      "outputs": []
    },
    {
      "cell_type": "code",
      "source": [],
      "metadata": {
        "id": "9e4WXtaXn-K6"
      },
      "execution_count": null,
      "outputs": []
    },
    {
      "cell_type": "code",
      "source": [],
      "metadata": {
        "id": "7loDJivkn-Il"
      },
      "execution_count": null,
      "outputs": []
    },
    {
      "cell_type": "code",
      "source": [],
      "metadata": {
        "id": "L91jQGGNn-GD"
      },
      "execution_count": null,
      "outputs": []
    },
    {
      "cell_type": "code",
      "source": [],
      "metadata": {
        "id": "0Mz5DqGHn-Ds"
      },
      "execution_count": null,
      "outputs": []
    }
  ]
}