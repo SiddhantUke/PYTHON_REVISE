{
  "nbformat": 4,
  "nbformat_minor": 0,
  "metadata": {
    "colab": {
      "provenance": [],
      "authorship_tag": "ABX9TyP4K30IHcsk0pNajhAzzGAq",
      "include_colab_link": true
    },
    "kernelspec": {
      "name": "python3",
      "display_name": "Python 3"
    },
    "language_info": {
      "name": "python"
    }
  },
  "cells": [
    {
      "cell_type": "markdown",
      "metadata": {
        "id": "view-in-github",
        "colab_type": "text"
      },
      "source": [
        "<a href=\"https://colab.research.google.com/github/SiddhantUke/PYTHON_REVISE/blob/main/Sect_11_(39_Classes_AND_Objects_In_Python).ipynb\" target=\"_parent\"><img src=\"https://colab.research.google.com/assets/colab-badge.svg\" alt=\"Open In Colab\"/></a>"
      ]
    },
    {
      "cell_type": "markdown",
      "source": [
        "### Classes and Objects\n",
        "\n",
        "\n",
        "Object-Oriented Programming (OOP) is a programming paradigm that uses \"objects\" to design applications and computer programs. OOP allows for modeling real-world scenarios using classes and objects. This lesson covers the basics of creating classes and objects, including instance variables and methods."
      ],
      "metadata": {
        "id": "DLmtSPWOrgo_"
      }
    },
    {
      "cell_type": "markdown",
      "source": [
        "\n",
        "\n",
        "---\n",
        "\n",
        "--\n",
        "\n",
        "---\n",
        "\n"
      ],
      "metadata": {
        "id": "p7S1G-o1_Aic"
      }
    },
    {
      "cell_type": "code",
      "source": [
        "### A class is a blue print for creating objects. Attributes,methods\n",
        "\n",
        "\n",
        "class Car:  ## WHERE CAR IS class  and it is the blue prinnt of creating object ! ## ALSO KNOWN AS BLUE PRINT !\n",
        "  pass\n",
        "\n",
        "## we can say that car may be of different different type so here is the object!\n",
        "\n",
        "audi = Car()\n",
        "bmw = Car()\n",
        "\n",
        "print(type(audi))  ## actucallt a class but this is a object over here !\n",
        "\n",
        "\n"
      ],
      "metadata": {
        "colab": {
          "base_uri": "https://localhost:8080/"
        },
        "id": "nhT89rf4wW_c",
        "outputId": "71e6100f-dd74-42c4-d131-c2cc234f6ede"
      },
      "execution_count": 3,
      "outputs": [
        {
          "output_type": "stream",
          "name": "stdout",
          "text": [
            "<class '__main__.Car'>\n"
          ]
        }
      ]
    },
    {
      "cell_type": "code",
      "source": [
        "print(audi)\n",
        "\n",
        "print(bmw)\n",
        "\n",
        "\n",
        "# 0x7dcfa770d310 ------> this is a memory location\n"
      ],
      "metadata": {
        "colab": {
          "base_uri": "https://localhost:8080/"
        },
        "id": "eM_Uw-PPwW74",
        "outputId": "6cf1fdb7-20ff-42a4-b26b-44e954f49537"
      },
      "execution_count": 7,
      "outputs": [
        {
          "output_type": "stream",
          "name": "stdout",
          "text": [
            "<__main__.Car object at 0x7dcfa770d310>\n",
            "<__main__.Car object at 0x7dcfa770ee50>\n"
          ]
        }
      ]
    },
    {
      "cell_type": "code",
      "source": [
        "audi.windows = 4\n",
        "\n",
        "\n",
        "\n",
        "print(audi.windows)\n",
        "\n",
        "## here audi have 4 windows where the\n",
        "\n",
        "## Windows --------> Attribute that is present in the car !\n",
        "\n",
        "## Initialize the attribute is that proper way  !\n",
        "\n"
      ],
      "metadata": {
        "id": "IgBQNY-YwW5i"
      },
      "execution_count": null,
      "outputs": []
    },
    {
      "cell_type": "code",
      "source": [
        "tata = Car()\n",
        "\n",
        "tata.doors = 4\n",
        "\n",
        "print(tata.windows)"
      ],
      "metadata": {
        "colab": {
          "base_uri": "https://localhost:8080/",
          "height": 183
        },
        "id": "XRpHUTuc0S9c",
        "outputId": "fdd236ac-4c10-4738-bd9d-f7c98b51b519"
      },
      "execution_count": 8,
      "outputs": [
        {
          "output_type": "error",
          "ename": "AttributeError",
          "evalue": "'Car' object has no attribute 'windows'",
          "traceback": [
            "\u001b[0;31m---------------------------------------------------------------------------\u001b[0m",
            "\u001b[0;31mAttributeError\u001b[0m                            Traceback (most recent call last)",
            "\u001b[0;32m<ipython-input-8-8da3a092faca>\u001b[0m in \u001b[0;36m<cell line: 0>\u001b[0;34m()\u001b[0m\n\u001b[1;32m      3\u001b[0m \u001b[0mtata\u001b[0m\u001b[0;34m.\u001b[0m\u001b[0mdoors\u001b[0m \u001b[0;34m=\u001b[0m \u001b[0;36m4\u001b[0m\u001b[0;34m\u001b[0m\u001b[0;34m\u001b[0m\u001b[0m\n\u001b[1;32m      4\u001b[0m \u001b[0;34m\u001b[0m\u001b[0m\n\u001b[0;32m----> 5\u001b[0;31m \u001b[0mprint\u001b[0m\u001b[0;34m(\u001b[0m\u001b[0mtata\u001b[0m\u001b[0;34m.\u001b[0m\u001b[0mwindows\u001b[0m\u001b[0;34m)\u001b[0m\u001b[0;34m\u001b[0m\u001b[0;34m\u001b[0m\u001b[0m\n\u001b[0m",
            "\u001b[0;31mAttributeError\u001b[0m: 'Car' object has no attribute 'windows'"
          ]
        }
      ]
    },
    {
      "cell_type": "code",
      "source": [
        "dir(tata)\n",
        "\n",
        "\n",
        "## lot of different-different inbuild method !"
      ],
      "metadata": {
        "colab": {
          "base_uri": "https://localhost:8080/"
        },
        "id": "NHwSDmh80S5y",
        "outputId": "4e899643-185f-4ee5-af11-a78a474baffa"
      },
      "execution_count": 10,
      "outputs": [
        {
          "output_type": "execute_result",
          "data": {
            "text/plain": [
              "['__class__',\n",
              " '__delattr__',\n",
              " '__dict__',\n",
              " '__dir__',\n",
              " '__doc__',\n",
              " '__eq__',\n",
              " '__format__',\n",
              " '__ge__',\n",
              " '__getattribute__',\n",
              " '__getstate__',\n",
              " '__gt__',\n",
              " '__hash__',\n",
              " '__init__',\n",
              " '__init_subclass__',\n",
              " '__le__',\n",
              " '__lt__',\n",
              " '__module__',\n",
              " '__ne__',\n",
              " '__new__',\n",
              " '__reduce__',\n",
              " '__reduce_ex__',\n",
              " '__repr__',\n",
              " '__setattr__',\n",
              " '__sizeof__',\n",
              " '__str__',\n",
              " '__subclasshook__',\n",
              " '__weakref__',\n",
              " 'doors']"
            ]
          },
          "metadata": {},
          "execution_count": 10
        }
      ]
    },
    {
      "cell_type": "code",
      "source": [],
      "metadata": {
        "id": "Po0KZmTJ0S3b"
      },
      "execution_count": null,
      "outputs": []
    },
    {
      "cell_type": "markdown",
      "source": [
        "## What is __init__ from the from given inbuilt method !\n"
      ],
      "metadata": {
        "id": "vKSUQqYk1AF-"
      }
    },
    {
      "cell_type": "code",
      "source": [],
      "metadata": {
        "id": "F-1Meb-10S0k"
      },
      "execution_count": null,
      "outputs": []
    },
    {
      "cell_type": "markdown",
      "source": [
        "\n",
        "\n",
        "---\n",
        "\n",
        "Instance VAriable and Methods !\n",
        "\n",
        "---\n",
        "\n"
      ],
      "metadata": {
        "id": "XIrsrmXHzHca"
      }
    },
    {
      "cell_type": "code",
      "source": [
        "class Dog:\n",
        "\n",
        "  ## Constructor\n",
        "\n",
        "  def __init__(self,name,age):     ## will define all attribute that is available inside the particular class !\n",
        "\n",
        "## during run time i have to give this attribute when i created the object !\n",
        "\n",
        "## name , age ==========> parameter\n",
        "\n",
        "              ## we can anything on self but for good pratice we use this self keyword is responsible for accessing  the instant  variable that is inside the dog class !\n",
        "\n",
        "# now we are creating some instance variable !\n",
        "\n",
        "\n",
        "      self.name = name,\n",
        "      self.age = age    ## initialize this with the constructor !\n",
        "\n",
        "\n",
        "## Create the object !\n",
        "\n",
        "dog1 = Dog(\"Buddy\",3)\n",
        "\n",
        "print(dog1)\n",
        "print(dog1.name)\n",
        "print(dog1.age)\n"
      ],
      "metadata": {
        "colab": {
          "base_uri": "https://localhost:8080/"
        },
        "id": "KKJpf-Y_wW3c",
        "outputId": "1d78f4ce-37c2-4a2f-f692-43b2b59cedd7"
      },
      "execution_count": 13,
      "outputs": [
        {
          "output_type": "stream",
          "name": "stdout",
          "text": [
            "<__main__.Dog object at 0x7dcfa6a946d0>\n",
            "('Buddy',)\n",
            "3\n"
          ]
        }
      ]
    },
    {
      "cell_type": "markdown",
      "source": [
        "\n",
        "\n",
        "---\n",
        "\n"
      ],
      "metadata": {
        "id": "CZ_HG-6l4r33"
      }
    },
    {
      "cell_type": "markdown",
      "source": [
        "### If the no. of variable available in contructor only those no. of Instance Variable is Created !\n",
        "\n"
      ],
      "metadata": {
        "id": "NMKaA4zN4Ddb"
      }
    },
    {
      "cell_type": "markdown",
      "source": [],
      "metadata": {
        "id": "Wi7IPBBE4rXb"
      }
    },
    {
      "cell_type": "code",
      "source": [],
      "metadata": {
        "id": "45g2uwK0wW09"
      },
      "execution_count": null,
      "outputs": []
    },
    {
      "cell_type": "markdown",
      "source": [
        "\n",
        "\n",
        "---\n",
        "\n",
        "## Define a Class With an Instance Method !\n",
        "\n",
        "---\n",
        "\n"
      ],
      "metadata": {
        "id": "GQjjStzU4tMX"
      }
    },
    {
      "cell_type": "code",
      "source": [
        "class Dog:\n",
        "  def __init__(self,name,age):\n",
        "    self.name = name\n",
        "    self.age = age\n",
        "\n",
        "  def bark(self):\n",
        "      print(f\"{self.name} says woof\")\n",
        "\n",
        "\n",
        "dog1=Dog(\"Buddy\",3)\n",
        "dog1.bark()\n",
        "dog2=Dog(\"Lucy\",4)\n",
        "dog2.bark()"
      ],
      "metadata": {
        "colab": {
          "base_uri": "https://localhost:8080/"
        },
        "id": "Tc7J3WzEwWyh",
        "outputId": "779ab797-7db3-4ca0-b360-c7a7fe816b72"
      },
      "execution_count": 17,
      "outputs": [
        {
          "output_type": "stream",
          "name": "stdout",
          "text": [
            "Buddy says woof\n",
            "Lucy says woof\n"
          ]
        }
      ]
    },
    {
      "cell_type": "code",
      "source": [
        "## Modeling A Bank Account !\n",
        "\n",
        "\n",
        "## Define  a class for bank account !\n",
        "\n",
        "class BankAccount:\n",
        "  def __init__ (self,owner,balance = 0):\n",
        "    self.owner = owner\n",
        "    self.balance = balance\n",
        "\n",
        "  def deposit(self,amount):\n",
        "    self.balance+=amount\n",
        "    print(f\"{amount} is deposited. New balance is {self.balance}\")\n",
        "\n",
        "  def withdraw(self,amount):\n",
        "\n",
        "    if amount>self.balance:\n",
        "        print(\"Insufficient funds!\")\n",
        "\n",
        "    else:\n",
        "            self.balance-=amount\n",
        "            print(f\"{amount} is withdrawn. New Balance is {self.balance}\")\n",
        "\n",
        "    def get_balance(self):\n",
        "        return self.balance\n",
        "\n",
        "## create an account\n",
        "\n",
        "account=BankAccount(\"Sidd\",15048)\n",
        "print(account.balance)\n",
        "\n",
        "\n",
        "\n",
        "\n",
        ""
      ],
      "metadata": {
        "colab": {
          "base_uri": "https://localhost:8080/"
        },
        "id": "k0uZ9OzuwWwH",
        "outputId": "eabb9a70-a629-4714-dbbb-1c784c862f3a"
      },
      "execution_count": 21,
      "outputs": [
        {
          "output_type": "stream",
          "name": "stdout",
          "text": [
            "15048\n"
          ]
        }
      ]
    },
    {
      "cell_type": "code",
      "source": [
        "## Call isntance methods\n",
        "account.deposit(100)"
      ],
      "metadata": {
        "colab": {
          "base_uri": "https://localhost:8080/"
        },
        "id": "XWfTVnjBwWtj",
        "outputId": "ef8142df-a442-4428-a48a-1cfee62eb3df"
      },
      "execution_count": 19,
      "outputs": [
        {
          "output_type": "stream",
          "name": "stdout",
          "text": [
            "100 is deposited. New balance is 5100\n"
          ]
        }
      ]
    },
    {
      "cell_type": "code",
      "source": [
        "account.withdraw(300)"
      ],
      "metadata": {
        "colab": {
          "base_uri": "https://localhost:8080/"
        },
        "id": "hZptgO55wWrk",
        "outputId": "e6d32177-f43d-4682-af4d-a3851decc767"
      },
      "execution_count": 22,
      "outputs": [
        {
          "output_type": "stream",
          "name": "stdout",
          "text": [
            "300 is withdrawn. New Balance is 14748\n"
          ]
        }
      ]
    },
    {
      "cell_type": "code",
      "source": [
        "print(account.get_balance())"
      ],
      "metadata": {
        "id": "1ORJcAehwWo3"
      },
      "execution_count": null,
      "outputs": []
    },
    {
      "cell_type": "markdown",
      "source": [
        "## Conclusion\n",
        "\n",
        "Object-Oriented Programming (OOP) allows you to model real-world scenarios using classes and objects. In this lesson, you learned how to create classes and objects, define instance variables and methods, and use them to perform various operations. Understanding these concepts is fundamental to writing effective and maintainable Python code."
      ],
      "metadata": {
        "id": "Eatai18FCvvY"
      }
    }
  ]
}