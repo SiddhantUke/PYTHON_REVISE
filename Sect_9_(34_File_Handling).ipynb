{
  "nbformat": 4,
  "nbformat_minor": 0,
  "metadata": {
    "colab": {
      "provenance": [],
      "authorship_tag": "ABX9TyPS6VgOB4oFNgjvRCaR3jpH",
      "include_colab_link": true
    },
    "kernelspec": {
      "name": "python3",
      "display_name": "Python 3"
    },
    "language_info": {
      "name": "python"
    }
  },
  "cells": [
    {
      "cell_type": "markdown",
      "metadata": {
        "id": "view-in-github",
        "colab_type": "text"
      },
      "source": [
        "<a href=\"https://colab.research.google.com/github/SiddhantUke/PYTHON_REVISE/blob/main/Sect_9_(34_File_Handling).ipynb\" target=\"_parent\"><img src=\"https://colab.research.google.com/assets/colab-badge.svg\" alt=\"Open In Colab\"/></a>"
      ]
    },
    {
      "cell_type": "markdown",
      "source": [
        "### File Operation- Read And Write Files\n",
        "\n",
        "\n",
        "File handling is a crucial part of any programming language. Python provides built-in functions and methods to read from and write to files, both text and binary. This lesson will cover the basics of file handling, including reading and writing text files and binary files."
      ],
      "metadata": {
        "id": "DLmtSPWOrgo_"
      }
    },
    {
      "cell_type": "code",
      "execution_count": 9,
      "metadata": {
        "colab": {
          "base_uri": "https://localhost:8080/"
        },
        "id": "wTj1c0VErfBX",
        "outputId": "b608e776-22aa-44fb-fe34-e5f169c6779b"
      },
      "outputs": [
        {
          "output_type": "stream",
          "name": "stdout",
          "text": [
            "Hello world\n",
            "This is a new line w+ wala example hai ye !   \n",
            "\n"
          ]
        }
      ],
      "source": [
        "## READ THE WHOLE FILE !\n",
        "\n",
        "with open(\"/content/project notes.txt\",'r') as file:\n",
        "  content = file.read()\n",
        "  print(content)"
      ]
    },
    {
      "cell_type": "code",
      "source": [
        "## READ A FILE LINE BY LINE !\n",
        "\n",
        "with open(\"/content/project notes.txt\",'r') as file:\n",
        "\n",
        "  for line in file:\n",
        "\n",
        "\n",
        "    print(line)    ## if we use print(line.strip()) then we actually removed the spaced line !"
      ],
      "metadata": {
        "colab": {
          "base_uri": "https://localhost:8080/"
        },
        "id": "NtK6DdCKrx9z",
        "outputId": "4e71caaf-cd7e-4f12-914d-c1ac35c69756"
      },
      "execution_count": 10,
      "outputs": [
        {
          "output_type": "stream",
          "name": "stdout",
          "text": [
            "Hello world\n",
            "\n",
            "This is a new line w+ wala example hai ye !   \n",
            "\n"
          ]
        }
      ]
    },
    {
      "cell_type": "code",
      "source": [
        "## writing a file (overwriting)\n",
        "\n",
        "with open(\"/content/project notes.txt\", 'w') as file:\n",
        "  file.write('Hello World\\n')\n",
        "  file.write('thos is new file and  that overwritten ! ')"
      ],
      "metadata": {
        "id": "zw9G7TVXr5CW"
      },
      "execution_count": 11,
      "outputs": []
    },
    {
      "cell_type": "code",
      "source": [
        " ## Write a File  Without Overwriting ( ANother Approch for this one)\n",
        "\n",
        "# # APPEND MODE ##\n",
        "\n",
        "with open (\"/content/project notes.txt\", 'a') as file:\n",
        "  file.write(\"rewrite it with append method !\\n\")"
      ],
      "metadata": {
        "id": "5dSLrcWyr7FU"
      },
      "execution_count": 12,
      "outputs": []
    },
    {
      "cell_type": "markdown",
      "source": [
        "\n",
        "\n",
        "---\n",
        "\n",
        "### This is With  respect to text file.\n",
        "\n",
        "\n",
        "---\n",
        "\n"
      ],
      "metadata": {
        "id": "KqqKssqBr8pk"
      }
    },
    {
      "cell_type": "code",
      "source": [
        "## WRITING A  LIST OF LINE TO A FILE !\n",
        "\n",
        "lines = ['First line \\n', 'Second line \\n', 'Third line \\n']\n",
        "with open ('/content/project notes.txt', 'a') as file:\n",
        "  file.writelines(lines)"
      ],
      "metadata": {
        "id": "L5umzQ-Yr8Tf"
      },
      "execution_count": 13,
      "outputs": []
    },
    {
      "cell_type": "code",
      "source": [],
      "metadata": {
        "id": "3-BLxwamr8P3"
      },
      "execution_count": 13,
      "outputs": []
    },
    {
      "cell_type": "markdown",
      "source": [
        "### BINARY FILE"
      ],
      "metadata": {
        "id": "YQKY5B-Sr78v"
      }
    },
    {
      "cell_type": "code",
      "source": [
        "\n",
        "### Binary Files\n",
        "\n",
        "# Writing to a binary file\n",
        "data = b'\\x00\\x01\\x02\\x03\\x04'    ## HEXA CODE\n",
        "\n",
        "with open('exPLE.bin', 'wb') as file:\n",
        "\n",
        "    file.write(data)"
      ],
      "metadata": {
        "id": "qqPIqOVesJFm"
      },
      "execution_count": 14,
      "outputs": []
    },
    {
      "cell_type": "code",
      "source": [
        "\n",
        "# Reading a binary file\n",
        "with open('exPLE.bin', 'rb') as file:\n",
        "    content = file.read()\n",
        "    print(content)"
      ],
      "metadata": {
        "colab": {
          "base_uri": "https://localhost:8080/"
        },
        "id": "78bamY8ksJ3I",
        "outputId": "5470d9f1-ece9-40b4-b3de-4dcabf910bf8"
      },
      "execution_count": 15,
      "outputs": [
        {
          "output_type": "stream",
          "name": "stdout",
          "text": [
            "b'\\x00\\x01\\x02\\x03\\x04'\n"
          ]
        }
      ]
    },
    {
      "cell_type": "markdown",
      "source": [
        "\n",
        "\n",
        "---\n",
        "\n",
        "\n",
        "\n",
        "---\n",
        "\n"
      ],
      "metadata": {
        "id": "B2rgN8ORsqWE"
      }
    },
    {
      "cell_type": "code",
      "source": [
        "\n",
        "### Read the content froma  source text fiile and write to a destination text file\n",
        "\n",
        "### Copying a text file\n",
        "\n",
        "with open('/content/project notes.txt', 'r') as source_file:\n",
        "    content = source_file.read()\n",
        "\n",
        "with open('destination.txt', 'w') as destination_file:\n",
        "    destination_file.write(content)"
      ],
      "metadata": {
        "id": "Us6FsmhbsJzr"
      },
      "execution_count": 16,
      "outputs": []
    },
    {
      "cell_type": "code",
      "source": [
        "## Read a text file and count the number of lines, words, and characters.\n",
        "\n",
        "## Counting lines, words, and characters in a text file\n",
        "def count_text_file(file_path):\n",
        "\n",
        "    with open(file_path, 'r') as file:\n",
        "\n",
        "        lines = file.readlines()\n",
        "\n",
        "        line_count = len(lines)\n",
        "\n",
        "        word_count = sum(len(line.split()) for line in lines)\n",
        "\n",
        "        char_count = sum(len(line) for line in lines)\n",
        "\n",
        "    return line_count, word_count, char_count\n",
        "\n",
        "file_path = '/content/project notes.txt'\n",
        "\n",
        "lines, words, characters = count_text_file(file_path)\n",
        "\n",
        "print(f'Lines: {lines}, Words: {words}, Characters: {characters}')"
      ],
      "metadata": {
        "colab": {
          "base_uri": "https://localhost:8080/"
        },
        "id": "tAh7kZ9GsJxM",
        "outputId": "9bd5a5af-34d9-47ea-e5b8-488d5b148a17"
      },
      "execution_count": 17,
      "outputs": [
        {
          "output_type": "stream",
          "name": "stdout",
          "text": [
            "Lines: 5, Words: 22, Characters: 122\n"
          ]
        }
      ]
    },
    {
      "cell_type": "markdown",
      "source": [
        "\n",
        "\n",
        "---\n",
        "\n"
      ],
      "metadata": {
        "id": "ok-D3a_QxJ38"
      }
    },
    {
      "cell_type": "markdown",
      "source": [
        "\n",
        "\n",
        "---\n",
        "\n"
      ],
      "metadata": {
        "id": "vXbOiTBVxLpr"
      }
    },
    {
      "cell_type": "markdown",
      "source": [
        "The w+ mode in Python is used to open a file for both reading and writing. If the file does not exist, it will be created. If the file exists, its content is truncated (i.e., the file is overwritten).\n",
        "\n",
        "---\n",
        "\n"
      ],
      "metadata": {
        "id": "0WRRT-ygxG33"
      }
    },
    {
      "cell_type": "markdown",
      "source": [
        "file.seek(offset, whence)\n",
        "\n",
        "\n",
        "offset: How many bytes to move\n",
        "\n",
        "whence (optional):\n",
        "\n",
        "0 = from beginning of file (default)\n",
        "\n",
        "1 = from current position\n",
        "\n",
        "\n",
        "Moves the file pointer to the start of the file\n",
        "\n",
        "Useful when you want to read the file after writing to it"
      ],
      "metadata": {
        "id": "x8DP8y3gxv-b"
      }
    },
    {
      "cell_type": "code",
      "source": [
        "\n",
        "### Writing and then reading a file\n",
        "\n",
        "with open('/content/project notes.txt','w+') as file:\n",
        "    file.write(\"Hello world\\n\")\n",
        "    file.write(\"This is a new line w+ wala example hai ye !   \\n\")\n",
        "\n",
        "    ## Move the file cursor to the beginning\n",
        "    file.seek(0) # Go back to the beginning\n",
        "\n",
        "    ## Read the content of the file\n",
        "    content=file.read()\n",
        "    print(content)"
      ],
      "metadata": {
        "colab": {
          "base_uri": "https://localhost:8080/"
        },
        "id": "Cotf-qxIsJty",
        "outputId": "884ca2b4-be57-47f4-9412-94c69ff39dcd"
      },
      "execution_count": 18,
      "outputs": [
        {
          "output_type": "stream",
          "name": "stdout",
          "text": [
            "Hello world\n",
            "This is a new line w+ wala example hai ye !   \n",
            "\n"
          ]
        }
      ]
    },
    {
      "cell_type": "code",
      "source": [],
      "metadata": {
        "id": "eUgk9qZExM2Z"
      },
      "execution_count": 18,
      "outputs": []
    }
  ]
}