{
  "nbformat": 4,
  "nbformat_minor": 0,
  "metadata": {
    "colab": {
      "provenance": [],
      "authorship_tag": "ABX9TyNLkYN0Wu1jd8MbK1C6sB/M",
      "include_colab_link": true
    },
    "kernelspec": {
      "name": "python3",
      "display_name": "Python 3"
    },
    "language_info": {
      "name": "python"
    }
  },
  "cells": [
    {
      "cell_type": "markdown",
      "metadata": {
        "id": "view-in-github",
        "colab_type": "text"
      },
      "source": [
        "<a href=\"https://colab.research.google.com/github/SiddhantUke/PYTHON_REVISE/blob/main/SECT_5(25_FUNCTN).ipynb\" target=\"_parent\"><img src=\"https://colab.research.google.com/assets/colab-badge.svg\" alt=\"Open In Colab\"/></a>"
      ]
    },
    {
      "cell_type": "markdown",
      "source": [
        "#### Functions in Python\n",
        "\n",
        "\n",
        "1. Introduction to Functions\n",
        "2. Defining Functions\n",
        "3. Calling Functions\n",
        "4. Function Parameters\n",
        "5. Default Parameters\n",
        "6. Variable-Length Arguments\n",
        "7. Return Statement"
      ],
      "metadata": {
        "id": "hyIp-khncDHp"
      }
    },
    {
      "cell_type": "markdown",
      "source": [
        "\\\n",
        "\n",
        "---\n",
        "\n"
      ],
      "metadata": {
        "id": "sa6VvTrfcGfE"
      }
    },
    {
      "cell_type": "markdown",
      "source": [
        "##### Introduction to Functions\n",
        "Definition:\n",
        "\n",
        "A function is a block of code that performs a specific task.\n",
        "Functions help in organizing code, reusing code, and improving readability.\n",
        "\n"
      ],
      "metadata": {
        "id": "jOa57QUScL4F"
      }
    },
    {
      "cell_type": "code",
      "source": [
        "## BEST SYNTAX AND EMPTY FUNCTION !\n",
        "\n",
        "## syntax\\\n",
        "\n",
        "def function_name(parameters):\n",
        "\n",
        "    \"\"\"Docstring --------->\"\"\"  ## BASICALLY  A COMMENT WHATS THE FUNCTION SPECIFICALLY DOES !\n",
        "\n",
        "    # Function body -------> ## ALL CODE USE INSIDE THE FUNCTION !\n",
        "\n",
        "    return expression\n"
      ],
      "metadata": {
        "id": "mWTssz16cIHI"
      },
      "execution_count": null,
      "outputs": []
    },
    {
      "cell_type": "markdown",
      "source": [
        "\n",
        "\n",
        "---\n",
        "\n"
      ],
      "metadata": {
        "id": "ZDSDcGyFdLFx"
      }
    },
    {
      "cell_type": "markdown",
      "source": [
        "WHY DOW WE REQUIRED FUNCTION !\n"
      ],
      "metadata": {
        "id": "zOR-moaBdEWK"
      }
    },
    {
      "cell_type": "code",
      "source": [
        "num = 221\n",
        "if num%2 == 0:\n",
        "  print  (\"the number is even\")\n",
        "else:\n",
        "  print (\"the numbber is odd \")\n",
        "\n",
        "  ##suppose i want to reuse this type of code then what i am gonna do is this !"
      ],
      "metadata": {
        "colab": {
          "base_uri": "https://localhost:8080/"
        },
        "id": "spS8ACppdMrX",
        "outputId": "90d25eb2-d9f0-4e33-9291-43390ec30a37"
      },
      "execution_count": 5,
      "outputs": [
        {
          "output_type": "stream",
          "name": "stdout",
          "text": [
            "the numbber is odd \n"
          ]
        }
      ]
    },
    {
      "cell_type": "markdown",
      "source": [
        "this entire code we write inside the function ?\n"
      ],
      "metadata": {
        "id": "k5wq5EEhhCWW"
      }
    },
    {
      "cell_type": "code",
      "source": [
        "def even_or_odd(num):\n",
        "  \"\"\"THIS FNTN PERFROM EVEN OR ODD\"\"\"\n",
        "  if num%2 == 0:\n",
        "    print(\"the no is even \")\n",
        "  else:\n",
        "    print (\"the no is not even \")\n"
      ],
      "metadata": {
        "id": "k3Ax4GdjZBBk"
      },
      "execution_count": 8,
      "outputs": []
    },
    {
      "cell_type": "markdown",
      "source": [
        "\n",
        "\n",
        "in orderr to call this funtion  ! where  ever we want to  use this function !\n",
        "\n",
        "\n"
      ],
      "metadata": {
        "id": "M7VEfCWWh37M"
      }
    },
    {
      "cell_type": "code",
      "source": [
        "even_or_odd(245)"
      ],
      "metadata": {
        "colab": {
          "base_uri": "https://localhost:8080/"
        },
        "id": "JEc-0WJ0ZA_O",
        "outputId": "ab28617a-f810-48b9-9b66-009b95cce32c"
      },
      "execution_count": 9,
      "outputs": [
        {
          "output_type": "stream",
          "name": "stdout",
          "text": [
            "the no is not even \n"
          ]
        }
      ]
    },
    {
      "cell_type": "markdown",
      "source": [
        "\n",
        "\n",
        "---\n",
        "\n",
        "\n",
        "\n",
        "---\n",
        "\n"
      ],
      "metadata": {
        "id": "m3N7OJ_ykIoP"
      }
    },
    {
      "cell_type": "markdown",
      "source": [
        "what if we have multiple parameter !\n",
        "    "
      ],
      "metadata": {
        "id": "W3Wp5YZDkKS5"
      }
    },
    {
      "cell_type": "code",
      "source": [
        "## CREAET A ADD FNTN TO CREATE ADD TWO NUMBER !\n",
        ""
      ],
      "metadata": {
        "id": "1jnI6o9FZA8g"
      },
      "execution_count": null,
      "outputs": []
    },
    {
      "cell_type": "code",
      "source": [
        "def add(a,b):\n",
        "  c=a+b\n",
        "  return c\n",
        "\n",
        "\n",
        "\n",
        "  ## instead of this write like this for better code\n",
        "\n",
        "def add(a,b):\n",
        "  return a-b\n",
        "\n",
        "\n",
        "## create a variable and add a,b in that variable !\n",
        "\n",
        "result = add(4,5)\n",
        "print (result)"
      ],
      "metadata": {
        "colab": {
          "base_uri": "https://localhost:8080/"
        },
        "id": "aEmpMQ5AZA5-",
        "outputId": "d141648e-440a-4d8c-9725-3ed8bf94d8bd"
      },
      "execution_count": 12,
      "outputs": [
        {
          "output_type": "stream",
          "name": "stdout",
          "text": [
            "-1\n"
          ]
        }
      ]
    },
    {
      "cell_type": "markdown",
      "source": [
        "\n",
        "\n",
        "---\n",
        "\n",
        "\n",
        "\n",
        "---\n",
        "\n"
      ],
      "metadata": {
        "id": "poBGBikUlndp"
      }
    },
    {
      "cell_type": "markdown",
      "source": [
        "DEFAULT PARAMETER !"
      ],
      "metadata": {
        "id": "aataIYC1lpFO"
      }
    },
    {
      "cell_type": "code",
      "source": [
        "def greet(name): ## responsible for welcoming  someone !\n",
        "\n",
        "  print(f\"hello {name}\")\n",
        "\n",
        "\n",
        "## call this function !\n",
        "\n",
        "greet(\"sidd\")"
      ],
      "metadata": {
        "colab": {
          "base_uri": "https://localhost:8080/"
        },
        "id": "MMTYwAIvZA3e",
        "outputId": "ba2f3b85-42a4-4039-e6dc-3e6efd870be7"
      },
      "execution_count": 17,
      "outputs": [
        {
          "output_type": "stream",
          "name": "stdout",
          "text": [
            "hello sidd\n"
          ]
        }
      ]
    },
    {
      "cell_type": "code",
      "source": [
        "## also give some parameter with the default value\n",
        "\n",
        "def greet(name= \"GUEST\"): ## responsible for welcoming  someone !\n",
        "\n",
        "  print(f\"hello {name} HOW ARE YOU!\")\n",
        "\n",
        "\n",
        "## call this function !\n",
        "\n",
        "greet()"
      ],
      "metadata": {
        "colab": {
          "base_uri": "https://localhost:8080/"
        },
        "id": "hEV-v8WMZA1G",
        "outputId": "a9e53d80-3663-415b-e309-5cd10d0ea452"
      },
      "execution_count": 23,
      "outputs": [
        {
          "output_type": "stream",
          "name": "stdout",
          "text": [
            "hello GUEST HOW ARE YOU!\n"
          ]
        }
      ]
    },
    {
      "cell_type": "markdown",
      "source": [
        "\n",
        "\n",
        "---\n",
        "\n",
        "\n",
        "\n",
        "---\n",
        "\n"
      ],
      "metadata": {
        "id": "52zn7KJAs0pL"
      }
    },
    {
      "cell_type": "markdown",
      "source": [
        "VATIABLE LENGTH ARGUMENT !\n",
        "\n",
        "## positional and keyword arugument !\n",
        "\n"
      ],
      "metadata": {
        "id": "mGFEOe7Us159"
      }
    },
    {
      "cell_type": "code",
      "source": [
        "# def print_numbers (numb1,numb2,numb3,numb4):\n",
        "\n",
        "def print_numbers (*args): ## positional argument given by *args\n",
        "  for number in args:\n",
        "    print(number)"
      ],
      "metadata": {
        "id": "TNtz53cEZAyg"
      },
      "execution_count": 26,
      "outputs": []
    },
    {
      "cell_type": "code",
      "source": [
        "print_numbers(1,2,3,4,5,6,7,8,\"ARGS\")  ## this are nothing but a positional argument\n",
        "\n",
        "\n",
        "## *args REFER TO THIS !"
      ],
      "metadata": {
        "colab": {
          "base_uri": "https://localhost:8080/"
        },
        "id": "mpwMriB7ZAwG",
        "outputId": "a108894b-13d1-4708-b5ed-9b4c54496075"
      },
      "execution_count": 29,
      "outputs": [
        {
          "output_type": "stream",
          "name": "stdout",
          "text": [
            "1\n",
            "2\n",
            "3\n",
            "4\n",
            "5\n",
            "6\n",
            "7\n",
            "8\n",
            "ARGS\n"
          ]
        }
      ]
    },
    {
      "cell_type": "markdown",
      "source": [
        "\n",
        "\n",
        "---\n",
        "\n",
        "\n",
        "\n",
        "---\n",
        "\n"
      ],
      "metadata": {
        "id": "PGRr_OvrvAT6"
      }
    },
    {
      "cell_type": "markdown",
      "source": [
        "KEYWORD ARGUMENT\n",
        "\n",
        "  "
      ],
      "metadata": {
        "id": "ToQjBNxCZAtg"
      }
    },
    {
      "cell_type": "code",
      "source": [
        "def print_details (**kwargs): ## this is keyword argumnt by double star !\n",
        "\n",
        "    for key,value in kwargs.items():\n",
        "\n",
        "        print(f\"{key}:{value}\")\n",
        "\n",
        "   ## in kwargs all parameter  in the form of key value pair !\n",
        "\n"
      ],
      "metadata": {
        "id": "CDZEUNGXu_X4"
      },
      "execution_count": 33,
      "outputs": []
    },
    {
      "cell_type": "code",
      "source": [
        "print_details(name=\"Krish\",age=\"32\",country=\"India\")"
      ],
      "metadata": {
        "colab": {
          "base_uri": "https://localhost:8080/"
        },
        "id": "DvSteAucZArP",
        "outputId": "9f88b6df-5854-4709-df11-346fa02b0b7f"
      },
      "execution_count": 34,
      "outputs": [
        {
          "output_type": "stream",
          "name": "stdout",
          "text": [
            "name:Krish\n",
            "age:32\n",
            "country:India\n"
          ]
        }
      ]
    },
    {
      "cell_type": "markdown",
      "source": [
        "\n",
        "\n",
        "---\n",
        "\n",
        "\n",
        "\n",
        "---\n",
        "\n"
      ],
      "metadata": {
        "id": "uRHNYt4nwjM-"
      }
    },
    {
      "cell_type": "markdown",
      "source": [
        "LETS COMBINE ARG AND KWARGS !"
      ],
      "metadata": {
        "id": "A45An_hKwkt5"
      }
    },
    {
      "cell_type": "code",
      "source": [
        "def print_details(*args,**kwargs):\n",
        "\n",
        "    for val in args:\n",
        "\n",
        "        print(f\" Positional arGument :{val}\")\n",
        "\n",
        "\n",
        "\n",
        "    for key,value in kwargs.items():\n",
        "        print(f\"{key}:{value}\")"
      ],
      "metadata": {
        "id": "2SV9urTuZAo7"
      },
      "execution_count": 36,
      "outputs": []
    },
    {
      "cell_type": "code",
      "source": [
        "print_details"
      ],
      "metadata": {
        "id": "ggZOLLH6wfoM",
        "outputId": "e7c8cf50-2c8a-4750-9d3f-ca16c1840395",
        "colab": {
          "base_uri": "https://localhost:8080/",
          "height": 104
        }
      },
      "execution_count": 37,
      "outputs": [
        {
          "output_type": "execute_result",
          "data": {
            "text/plain": [
              "<function __main__.print_details(*args, **kwargs)>"
            ],
            "text/html": [
              "<div style=\"max-width:800px; border: 1px solid var(--colab-border-color);\"><style>\n",
              "      pre.function-repr-contents {\n",
              "        overflow-x: auto;\n",
              "        padding: 8px 12px;\n",
              "        max-height: 500px;\n",
              "      }\n",
              "\n",
              "      pre.function-repr-contents.function-repr-contents-collapsed {\n",
              "        cursor: pointer;\n",
              "        max-height: 100px;\n",
              "      }\n",
              "    </style>\n",
              "    <pre style=\"white-space: initial; background:\n",
              "         var(--colab-secondary-surface-color); padding: 8px 12px;\n",
              "         border-bottom: 1px solid var(--colab-border-color);\"><b>print_details</b><br/>def print_details(*args, **kwargs)</pre><pre class=\"function-repr-contents function-repr-contents-collapsed\" style=\"\"><a class=\"filepath\" style=\"display:none\" href=\"#\">/content/&lt;ipython-input-36-6feae0eb56f9&gt;</a>&lt;no docstring&gt;</pre></div>"
            ]
          },
          "metadata": {},
          "execution_count": 37
        }
      ]
    },
    {
      "cell_type": "code",
      "source": [
        "print_details(1,2,3,4,\"kakarot\",name=\"sidd\",age=\"1014\",country=\"India\")"
      ],
      "metadata": {
        "id": "yA3vXuHEwgAO",
        "outputId": "c5d1ab77-9041-4a61-b8f8-9e1cfd241ab3",
        "colab": {
          "base_uri": "https://localhost:8080/"
        }
      },
      "execution_count": 41,
      "outputs": [
        {
          "output_type": "stream",
          "name": "stdout",
          "text": [
            " Positional arGument :1\n",
            " Positional arGument :2\n",
            " Positional arGument :3\n",
            " Positional arGument :4\n",
            " Positional arGument :kakarot\n",
            "name:sidd\n",
            "age:1014\n",
            "country:India\n"
          ]
        }
      ]
    },
    {
      "cell_type": "markdown",
      "source": [
        "\n",
        "\n",
        "---\n",
        "\n",
        "\n",
        "\n",
        "---\n",
        "\n",
        "\n",
        "\n",
        "---\n",
        "\n"
      ],
      "metadata": {
        "id": "vVgK4rHoxtS7"
      }
    },
    {
      "cell_type": "markdown",
      "source": [
        "### return statement"
      ],
      "metadata": {
        "id": "dG-va-jJxu3q"
      }
    },
    {
      "cell_type": "code",
      "source": [
        "## the function written something after the entire execution is completed !\n",
        "\n",
        "def multiply(a,b):\n",
        "  return a*b or a*b,a ## also written multiple value you can see as well !\n",
        "\n",
        "multiply(7,4)"
      ],
      "metadata": {
        "id": "7aLA308vwgXU",
        "outputId": "75729812-42ac-4d29-d0d5-c22ed5cb17ec",
        "colab": {
          "base_uri": "https://localhost:8080/"
        }
      },
      "execution_count": 46,
      "outputs": [
        {
          "output_type": "execute_result",
          "data": {
            "text/plain": [
              "(28, 7)"
            ]
          },
          "metadata": {},
          "execution_count": 46
        }
      ]
    },
    {
      "cell_type": "code",
      "source": [],
      "metadata": {
        "id": "2hcbCfQpZAmd"
      },
      "execution_count": null,
      "outputs": []
    },
    {
      "cell_type": "code",
      "source": [],
      "metadata": {
        "id": "3LT62b7dZAkC"
      },
      "execution_count": null,
      "outputs": []
    },
    {
      "cell_type": "code",
      "source": [],
      "metadata": {
        "id": "A52YzPRsZAhd"
      },
      "execution_count": null,
      "outputs": []
    },
    {
      "cell_type": "code",
      "source": [],
      "metadata": {
        "id": "qVn6tUmYZAfH"
      },
      "execution_count": null,
      "outputs": []
    },
    {
      "cell_type": "code",
      "source": [],
      "metadata": {
        "id": "0yGnTO1hZAc2"
      },
      "execution_count": null,
      "outputs": []
    },
    {
      "cell_type": "code",
      "source": [],
      "metadata": {
        "id": "Lx8M-iBWZAad"
      },
      "execution_count": null,
      "outputs": []
    },
    {
      "cell_type": "code",
      "source": [],
      "metadata": {
        "id": "r_uS4vPGZAXu"
      },
      "execution_count": null,
      "outputs": []
    },
    {
      "cell_type": "code",
      "source": [],
      "metadata": {
        "id": "fzNsRIlUZAVU"
      },
      "execution_count": null,
      "outputs": []
    },
    {
      "cell_type": "code",
      "source": [],
      "metadata": {
        "id": "PRyZHk28ZAS9"
      },
      "execution_count": null,
      "outputs": []
    },
    {
      "cell_type": "code",
      "source": [],
      "metadata": {
        "id": "5UIgbYE5ZAQp"
      },
      "execution_count": null,
      "outputs": []
    },
    {
      "cell_type": "code",
      "source": [],
      "metadata": {
        "id": "6Qc6-SPnZAOI"
      },
      "execution_count": null,
      "outputs": []
    },
    {
      "cell_type": "code",
      "source": [],
      "metadata": {
        "id": "w1GfamWDZAL5"
      },
      "execution_count": null,
      "outputs": []
    },
    {
      "cell_type": "code",
      "source": [],
      "metadata": {
        "id": "c4qcMJ7RZAJx"
      },
      "execution_count": null,
      "outputs": []
    },
    {
      "cell_type": "code",
      "source": [],
      "metadata": {
        "id": "SWpwxWYOZAHj"
      },
      "execution_count": null,
      "outputs": []
    },
    {
      "cell_type": "code",
      "source": [],
      "metadata": {
        "id": "4tdyzb5fZAFF"
      },
      "execution_count": null,
      "outputs": []
    },
    {
      "cell_type": "code",
      "source": [],
      "metadata": {
        "id": "3v4nENegZAC2"
      },
      "execution_count": null,
      "outputs": []
    },
    {
      "cell_type": "code",
      "source": [],
      "metadata": {
        "id": "tKPyx3cBZAAg"
      },
      "execution_count": null,
      "outputs": []
    },
    {
      "cell_type": "code",
      "source": [],
      "metadata": {
        "id": "zu9u46-OY_-Q"
      },
      "execution_count": null,
      "outputs": []
    },
    {
      "cell_type": "code",
      "source": [],
      "metadata": {
        "id": "sDmq3tz6Y_8A"
      },
      "execution_count": null,
      "outputs": []
    },
    {
      "cell_type": "code",
      "source": [],
      "metadata": {
        "id": "Myd58PlAY_5x"
      },
      "execution_count": null,
      "outputs": []
    },
    {
      "cell_type": "code",
      "source": [],
      "metadata": {
        "id": "5-YtW8riY_2-"
      },
      "execution_count": null,
      "outputs": []
    },
    {
      "cell_type": "code",
      "source": [],
      "metadata": {
        "id": "hamJKPRYY_1B"
      },
      "execution_count": null,
      "outputs": []
    },
    {
      "cell_type": "code",
      "source": [],
      "metadata": {
        "id": "-RRNVP5oY8Gy"
      },
      "execution_count": null,
      "outputs": []
    },
    {
      "cell_type": "code",
      "source": [],
      "metadata": {
        "id": "kO3b8I3qY8zx"
      },
      "execution_count": null,
      "outputs": []
    },
    {
      "cell_type": "code",
      "source": [],
      "metadata": {
        "id": "ibC6o0ZhY8-_"
      },
      "execution_count": null,
      "outputs": []
    },
    {
      "cell_type": "code",
      "source": [],
      "metadata": {
        "id": "_zDWfYRZY9B2"
      },
      "execution_count": null,
      "outputs": []
    },
    {
      "cell_type": "markdown",
      "source": [],
      "metadata": {
        "id": "QwZKUba3Y9Kg"
      }
    }
  ]
}