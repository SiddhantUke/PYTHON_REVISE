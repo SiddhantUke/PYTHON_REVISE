{
  "nbformat": 4,
  "nbformat_minor": 0,
  "metadata": {
    "colab": {
      "provenance": [],
      "authorship_tag": "ABX9TyMrt//r9YE3UUUkQDoxOjbR",
      "include_colab_link": true
    },
    "kernelspec": {
      "name": "python3",
      "display_name": "Python 3"
    },
    "language_info": {
      "name": "python"
    }
  },
  "cells": [
    {
      "cell_type": "markdown",
      "metadata": {
        "id": "view-in-github",
        "colab_type": "text"
      },
      "source": [
        "<a href=\"https://colab.research.google.com/github/SiddhantUke/PYTHON_REVISE/blob/main/Sect_13_(54_Numpy_in_Python).ipynb\" target=\"_parent\"><img src=\"https://colab.research.google.com/assets/colab-badge.svg\" alt=\"Open In Colab\"/></a>"
      ]
    },
    {
      "cell_type": "markdown",
      "source": [
        "### Numpy\n",
        "\n",
        "NumPy is a fundamental library for scientific computing in Python. It provides support for arrays and matrices, along with a collection of mathematical functions to operate on these data structures. In this lesson, we will cover the basics of NumPy, focusing on arrays and vectorized operations."
      ],
      "metadata": {
        "id": "DLmtSPWOrgo_"
      }
    },
    {
      "cell_type": "code",
      "source": [
        " ## For installation of numpy\n"
      ],
      "metadata": {
        "id": "_y06DUZAQL4X"
      },
      "execution_count": 1,
      "outputs": []
    },
    {
      "cell_type": "code",
      "source": [
        "!pip install numpy\n",
        "\n"
      ],
      "metadata": {
        "colab": {
          "base_uri": "https://localhost:8080/"
        },
        "id": "48jXAvOv1Sdb",
        "outputId": "2973b79c-c45d-4fe1-b629-c5ecb0a5ff64"
      },
      "execution_count": 2,
      "outputs": [
        {
          "output_type": "stream",
          "name": "stdout",
          "text": [
            "Requirement already satisfied: numpy in /usr/local/lib/python3.11/dist-packages (2.0.2)\n"
          ]
        }
      ]
    },
    {
      "cell_type": "code",
      "source": [
        "## Provide  support for arrays and matrices !\n",
        "\n",
        "# for import\n",
        "\n",
        "import numpy as np\n",
        "\n"
      ],
      "metadata": {
        "id": "abJGro8v1Sao"
      },
      "execution_count": 3,
      "outputs": []
    },
    {
      "cell_type": "code",
      "source": [
        "## Create array using Numpy\n",
        "## Create 1D array\n",
        "\n",
        "\n",
        "arr1 = np.array([1,2,3,4,5]) ## This actually help to create an array ie np.array() ie called functn !\n",
        "\n",
        "\n",
        "## Inside this i can create list and tuples !\n",
        "\n",
        "print(arr1)\n",
        "\n",
        "print(type(arr1))  ## Basically n dimension array !\n",
        "\n",
        "print(arr1.shape)  ##  If we want to see the shape of an  array !\n",
        "\n",
        "## When we get a single dimension we can say that no specific column or rows are there  !\n",
        "\n"
      ],
      "metadata": {
        "colab": {
          "base_uri": "https://localhost:8080/"
        },
        "id": "8VlkJINL1SYs",
        "outputId": "c7e7aa15-8d0c-49fe-d3e3-eb20a9d8ea48"
      },
      "execution_count": 4,
      "outputs": [
        {
          "output_type": "stream",
          "name": "stdout",
          "text": [
            "[1 2 3 4 5]\n",
            "<class 'numpy.ndarray'>\n",
            "(5,)\n"
          ]
        }
      ]
    },
    {
      "cell_type": "code",
      "source": [
        "## How it becomes the 2D array !\n",
        "\n",
        "\n",
        "arr2 = np.array([1,2,3,4,5])\n",
        "arr2.reshape(1,5)\n",
        "\n",
        "\n",
        "## How if we want to reshape it 5 element that is in 1,5\n",
        "\n",
        "# 1 row and 5 column\n"
      ],
      "metadata": {
        "colab": {
          "base_uri": "https://localhost:8080/"
        },
        "id": "OaRvBf1f4gC5",
        "outputId": "8ca99b44-4142-4bc5-dbd4-0d25f2412d71"
      },
      "execution_count": 5,
      "outputs": [
        {
          "output_type": "execute_result",
          "data": {
            "text/plain": [
              "array([[1, 2, 3, 4, 5]])"
            ]
          },
          "metadata": {},
          "execution_count": 5
        }
      ]
    },
    {
      "cell_type": "code",
      "source": [
        "## what if we want to do it directly !\n",
        "\n",
        "arr2 = np.array([[1,2,3,4,5]])\n",
        "arr2.shape"
      ],
      "metadata": {
        "colab": {
          "base_uri": "https://localhost:8080/"
        },
        "id": "ZOV4qxaN4fzG",
        "outputId": "c1093b62-4156-4fd0-f0e7-3b084b3b27cd"
      },
      "execution_count": 6,
      "outputs": [
        {
          "output_type": "execute_result",
          "data": {
            "text/plain": [
              "(1, 5)"
            ]
          },
          "metadata": {},
          "execution_count": 6
        }
      ]
    },
    {
      "cell_type": "code",
      "source": [
        "## what if add more list in this !\n",
        "\n",
        "arr2 = np.array([[1,2,3,4,5],[5,6,7,8,9]])\n",
        "print(arr2)\n",
        "print(arr2.shape)\n",
        "\n",
        "# 2 rows and 5 column !"
      ],
      "metadata": {
        "colab": {
          "base_uri": "https://localhost:8080/"
        },
        "id": "bBjW3fMe1SWk",
        "outputId": "ee7a5a94-822b-4531-fa45-bf1faf974f8e"
      },
      "execution_count": 7,
      "outputs": [
        {
          "output_type": "stream",
          "name": "stdout",
          "text": [
            "[[1 2 3 4 5]\n",
            " [5 6 7 8 9]]\n",
            "(2, 5)\n"
          ]
        }
      ]
    },
    {
      "cell_type": "code",
      "source": [
        "\n",
        "\n"
      ],
      "metadata": {
        "id": "OJXnyKWj1SUo"
      },
      "execution_count": 7,
      "outputs": []
    },
    {
      "cell_type": "code",
      "source": [
        "## Create an Array with an Inbuilt Function !\n",
        "\n",
        "np.arange(0,10,2).reshape(5,1)"
      ],
      "metadata": {
        "colab": {
          "base_uri": "https://localhost:8080/"
        },
        "id": "dRdRG6M91SSr",
        "outputId": "fc0bdafd-3ab9-4145-c313-bccea818d91c"
      },
      "execution_count": 8,
      "outputs": [
        {
          "output_type": "execute_result",
          "data": {
            "text/plain": [
              "array([[0],\n",
              "       [2],\n",
              "       [4],\n",
              "       [6],\n",
              "       [8]])"
            ]
          },
          "metadata": {},
          "execution_count": 8
        }
      ]
    },
    {
      "cell_type": "code",
      "source": [
        "## inbuilt fucntn  Present In NUMPY ARRAY that !\n",
        "\n",
        "np.ones((3,4))\n",
        "\n",
        "## create 2D array with 3 rows and 4 column !\n",
        "\n",
        "##"
      ],
      "metadata": {
        "colab": {
          "base_uri": "https://localhost:8080/"
        },
        "id": "ESRFOFgG1SQx",
        "outputId": "d32b3c6d-a944-4ca4-8cd2-45b17f0822ed"
      },
      "execution_count": 9,
      "outputs": [
        {
          "output_type": "execute_result",
          "data": {
            "text/plain": [
              "array([[1., 1., 1., 1.],\n",
              "       [1., 1., 1., 1.],\n",
              "       [1., 1., 1., 1.]])"
            ]
          },
          "metadata": {},
          "execution_count": 9
        }
      ]
    },
    {
      "cell_type": "code",
      "source": [
        "## Identity Matrix and array to create !\n",
        "\n",
        "np.eye(3)\n",
        "\n",
        "## All Diagonal element is 1 and other is zero !\n",
        "\n"
      ],
      "metadata": {
        "colab": {
          "base_uri": "https://localhost:8080/"
        },
        "id": "sIM6LBc61SOu",
        "outputId": "53f24612-6c83-414b-cd36-6de3cc17f473"
      },
      "execution_count": 10,
      "outputs": [
        {
          "output_type": "execute_result",
          "data": {
            "text/plain": [
              "array([[1., 0., 0.],\n",
              "       [0., 1., 0.],\n",
              "       [0., 0., 1.]])"
            ]
          },
          "metadata": {},
          "execution_count": 10
        }
      ]
    },
    {
      "cell_type": "code",
      "source": [
        "## Attributes of Numpy Array\n",
        "arr = np.array([[1, 2, 3], [4, 5, 6]])\n",
        "\n",
        "print(\"Array:\\n\", arr)\n",
        "\n",
        "print(\"Shape:\", arr.shape)  # Output: (2, 3)\n",
        "\n",
        "print(\"Number of dimensions:\", arr.ndim)  # Output: 2\n",
        "\n",
        "print(\"Size (number of elements):\", arr.size)  # Output: 6\n",
        "\n",
        "print(\"Data type:\", arr.dtype)  # Output: int64 (may vary based on platform)\n",
        "\n",
        "print(\"Item size (in bytes):\", arr.itemsize)  # Output: 8 (may vary based on platform)"
      ],
      "metadata": {
        "colab": {
          "base_uri": "https://localhost:8080/"
        },
        "id": "9F4LdeTy1SM1",
        "outputId": "e10e0984-94ca-4203-fd26-9c57a391c797"
      },
      "execution_count": 11,
      "outputs": [
        {
          "output_type": "stream",
          "name": "stdout",
          "text": [
            "Array:\n",
            " [[1 2 3]\n",
            " [4 5 6]]\n",
            "Shape: (2, 3)\n",
            "Number of dimensions: 2\n",
            "Size (number of elements): 6\n",
            "Data type: int64\n",
            "Item size (in bytes): 8\n"
          ]
        }
      ]
    },
    {
      "cell_type": "code",
      "source": [
        "## Numpy Vectorized Operation !\n",
        "\n",
        "arr1 = np.array([1,2,3,4,5])\n",
        "\n",
        "arr2 = np.array([10,20,30,40,50])\n",
        "\n",
        "\n",
        "## ElementWise Addition !\n",
        "\n",
        "print(\"Addition:\", arr1+arr2)\n",
        "\n",
        "## Element Wise Substraction !\n",
        "\n",
        "print(\"Multiplication:\", arr1-arr2)\n",
        "\n",
        "# Element-wise multiplication\n",
        "print(\"Multiplication:\", arr1 * arr2)\n",
        "\n",
        "# Element-wise division\n",
        "print(\"Division:\", arr1 / arr2)"
      ],
      "metadata": {
        "colab": {
          "base_uri": "https://localhost:8080/"
        },
        "id": "_EfT-7ohn5D_",
        "outputId": "62ebb2cb-468b-4da4-dd6c-8d6596f5cdb0"
      },
      "execution_count": 12,
      "outputs": [
        {
          "output_type": "stream",
          "name": "stdout",
          "text": [
            "Addition: [11 22 33 44 55]\n",
            "Multiplication: [ -9 -18 -27 -36 -45]\n",
            "Multiplication: [ 10  40  90 160 250]\n",
            "Division: [0.1 0.1 0.1 0.1 0.1]\n"
          ]
        }
      ]
    },
    {
      "cell_type": "code",
      "source": [
        "## Universal Functn\n",
        "arr = np.array([2,3,4,5,6])\n",
        "\n",
        "## Square Root\n",
        "print(np.sqrt(arr))\n",
        "\n",
        "\n",
        "## Exponential\n",
        "print(np.exp(arr))\n",
        "\n",
        "## Sine\n",
        "print(np.sin(arr))\n",
        "\n",
        "## natural log\n",
        "print(np.log(arr))\n"
      ],
      "metadata": {
        "colab": {
          "base_uri": "https://localhost:8080/"
        },
        "id": "c8nLn6v0n5Af",
        "outputId": "965c99ee-06cd-43de-95eb-24ac528fb65c"
      },
      "execution_count": 13,
      "outputs": [
        {
          "output_type": "stream",
          "name": "stdout",
          "text": [
            "[1.41421356 1.73205081 2.         2.23606798 2.44948974]\n",
            "[  7.3890561   20.08553692  54.59815003 148.4131591  403.42879349]\n",
            "[ 0.90929743  0.14112001 -0.7568025  -0.95892427 -0.2794155 ]\n",
            "[0.69314718 1.09861229 1.38629436 1.60943791 1.79175947]\n"
          ]
        }
      ]
    },
    {
      "cell_type": "code",
      "source": [],
      "metadata": {
        "id": "ZvNN3OiSn4-f"
      },
      "execution_count": 13,
      "outputs": []
    },
    {
      "cell_type": "code",
      "source": [],
      "metadata": {
        "id": "AfI2vgZHn48W"
      },
      "execution_count": 13,
      "outputs": []
    },
    {
      "cell_type": "code",
      "source": [],
      "metadata": {
        "id": "aU_OmPkZn443"
      },
      "execution_count": 13,
      "outputs": []
    },
    {
      "cell_type": "code",
      "source": [
        "## Array Slicing andIndexing\n",
        "\n",
        "arr=np.array([[1,2,3,4],[5,6,7,8],[9,10,11,12]])\n",
        "print(\"Array : \\n\", arr)\n"
      ],
      "metadata": {
        "colab": {
          "base_uri": "https://localhost:8080/"
        },
        "id": "xEu6UPzE1SK0",
        "outputId": "3d35887b-6825-4fe1-ddec-0de2d6c6e877"
      },
      "execution_count": 14,
      "outputs": [
        {
          "output_type": "stream",
          "name": "stdout",
          "text": [
            "Array : \n",
            " [[ 1  2  3  4]\n",
            " [ 5  6  7  8]\n",
            " [ 9 10 11 12]]\n"
          ]
        }
      ]
    },
    {
      "cell_type": "code",
      "source": [
        "## How do we access and pick up the single element from the array !\n",
        "\n",
        "arr[0:1]\n",
        "\n",
        "arr[0:2,2:]"
      ],
      "metadata": {
        "colab": {
          "base_uri": "https://localhost:8080/"
        },
        "id": "bY_kWxYOq3T1",
        "outputId": "0489ac33-2a17-4849-f069-2ff27722d1f0"
      },
      "execution_count": 15,
      "outputs": [
        {
          "output_type": "execute_result",
          "data": {
            "text/plain": [
              "array([[3, 4],\n",
              "       [7, 8]])"
            ]
          },
          "metadata": {},
          "execution_count": 15
        }
      ]
    },
    {
      "cell_type": "code",
      "source": [
        "## How do we pickup the element like 7 8 11 12 ?\n",
        "\n",
        "arr[1:,2:]"
      ],
      "metadata": {
        "colab": {
          "base_uri": "https://localhost:8080/"
        },
        "id": "vM1litzBq3QS",
        "outputId": "0ea1795b-a33d-47f1-ad11-de1e685f2ba3"
      },
      "execution_count": 16,
      "outputs": [
        {
          "output_type": "execute_result",
          "data": {
            "text/plain": [
              "array([[ 7,  8],\n",
              "       [11, 12]])"
            ]
          },
          "metadata": {},
          "execution_count": 16
        }
      ]
    },
    {
      "cell_type": "code",
      "source": [
        "## Modufy the array element !\n",
        "\n",
        "arr[0,0] = 100\n",
        "print(arr)"
      ],
      "metadata": {
        "colab": {
          "base_uri": "https://localhost:8080/"
        },
        "id": "NklHCaTeq3N8",
        "outputId": "5df69a1e-4895-47e7-ec51-664ba8c5aa11"
      },
      "execution_count": 17,
      "outputs": [
        {
          "output_type": "stream",
          "name": "stdout",
          "text": [
            "[[100   2   3   4]\n",
            " [  5   6   7   8]\n",
            " [  9  10  11  12]]\n"
          ]
        }
      ]
    },
    {
      "cell_type": "code",
      "source": [
        "arr[1:]=10\n",
        "print(arr)"
      ],
      "metadata": {
        "colab": {
          "base_uri": "https://localhost:8080/"
        },
        "id": "1AOFv0_5SBuD",
        "outputId": "276bec41-613a-4edb-962c-007f24728b5c"
      },
      "execution_count": 19,
      "outputs": [
        {
          "output_type": "stream",
          "name": "stdout",
          "text": [
            "[[100   2   3   4]\n",
            " [ 10  10  10  10]\n",
            " [ 10  10  10  10]]\n"
          ]
        }
      ]
    },
    {
      "cell_type": "code",
      "source": [],
      "metadata": {
        "id": "_cWDZdc9SBqf"
      },
      "execution_count": null,
      "outputs": []
    },
    {
      "cell_type": "code",
      "source": [
        "## Practical Operation - Normalization\n",
        "\n",
        "# Chnage  to have a mean of 0 and standard deviation of 1\n",
        "\n",
        "\n",
        "# Calculate the mean and standard deviation\n",
        "\n",
        "data = np.array([1, 2, 3, 4, 5])\n",
        "\n",
        "mean = np.mean(data)\n",
        "std_dev = np.std(data)\n",
        "\n",
        "# Normalize the data\n",
        "normalized_data = (data - mean) / std_dev\n",
        "print(\"Normalized data:\", normalized_data)"
      ],
      "metadata": {
        "colab": {
          "base_uri": "https://localhost:8080/"
        },
        "id": "F1SxdDMZSBok",
        "outputId": "ec28018f-f5ee-4f94-ee11-05d6e9798be3"
      },
      "execution_count": 22,
      "outputs": [
        {
          "output_type": "stream",
          "name": "stdout",
          "text": [
            "Normalized data: [-1.41421356 -0.70710678  0.          0.70710678  1.41421356]\n"
          ]
        }
      ]
    },
    {
      "cell_type": "code",
      "source": [
        "data = np.array([1, 2, 3, 4, 5, 6, 7, 8, 9, 10])\n",
        "\n",
        "# Mean\n",
        "mean = np.mean(data)\n",
        "print(\"Mean:\", mean)\n",
        "\n",
        "# Median\n",
        "median = np.median(data)\n",
        "print(\"Median:\", median)\n",
        "\n",
        "# Standard deviation\n",
        "std_dev = np.std(data)\n",
        "print(\"Standard Deviation:\", std_dev)\n",
        "\n",
        "# Variance\n",
        "variance = np.var(data)\n",
        "print(\"Variance:\", variance)"
      ],
      "metadata": {
        "colab": {
          "base_uri": "https://localhost:8080/"
        },
        "id": "gXBYdQZfSBmK",
        "outputId": "3f2e8c2b-bc57-4b96-e234-515d59229537"
      },
      "execution_count": 23,
      "outputs": [
        {
          "output_type": "stream",
          "name": "stdout",
          "text": [
            "Mean: 5.5\n",
            "Median: 5.5\n",
            "Standard Deviation: 2.8722813232690143\n",
            "Variance: 8.25\n"
          ]
        }
      ]
    },
    {
      "cell_type": "code",
      "source": [
        "## Logical Operation !\n",
        "\n",
        "## Logical operation\n",
        "\n",
        "data=np.array([1,2,3,4,5,6,7,8,9,10])\n",
        "\n",
        "## Applying  the logical operation !\n",
        "\n",
        "data>5 ## Boolean vlaue !\n",
        "\n",
        "data[(data>5) & (data<8)] ## from this data which is greater than 5 !\n",
        "\n"
      ],
      "metadata": {
        "colab": {
          "base_uri": "https://localhost:8080/"
        },
        "id": "McOqXlUASBjs",
        "outputId": "b550039f-2d44-4894-c01f-fbde5157a6a8"
      },
      "execution_count": 26,
      "outputs": [
        {
          "output_type": "execute_result",
          "data": {
            "text/plain": [
              "array([6, 7])"
            ]
          },
          "metadata": {},
          "execution_count": 26
        }
      ]
    },
    {
      "cell_type": "code",
      "source": [],
      "metadata": {
        "id": "TK2_BjNuUMWW"
      },
      "execution_count": null,
      "outputs": []
    },
    {
      "cell_type": "markdown",
      "source": [
        "NEXT IS PANDAS IN PYTHON !"
      ],
      "metadata": {
        "id": "NqX94j8aUOW0"
      }
    }
  ]
}