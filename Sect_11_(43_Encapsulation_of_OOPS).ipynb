{
  "nbformat": 4,
  "nbformat_minor": 0,
  "metadata": {
    "colab": {
      "provenance": [],
      "authorship_tag": "ABX9TyOKWorQa9rzsUyGpf/pn177",
      "include_colab_link": true
    },
    "kernelspec": {
      "name": "python3",
      "display_name": "Python 3"
    },
    "language_info": {
      "name": "python"
    }
  },
  "cells": [
    {
      "cell_type": "markdown",
      "metadata": {
        "id": "view-in-github",
        "colab_type": "text"
      },
      "source": [
        "<a href=\"https://colab.research.google.com/github/SiddhantUke/PYTHON_REVISE/blob/main/Sect_11_(43_Encapsulation_of_OOPS).ipynb\" target=\"_parent\"><img src=\"https://colab.research.google.com/assets/colab-badge.svg\" alt=\"Open In Colab\"/></a>"
      ]
    },
    {
      "cell_type": "markdown",
      "source": [
        "### Encapsulation And Abstraction\n",
        "\n",
        "Encapsulation and abstraction are two fundamental principles of Object-Oriented Programming (OOP) that help in designing robust, maintainable, and reusable code. Encapsulation involves bundling data and methods that operate on the data within a single unit, while abstraction involves hiding complex implementation details and exposing only the necessary features."
      ],
      "metadata": {
        "id": "DLmtSPWOrgo_"
      }
    },
    {
      "cell_type": "code",
      "source": [],
      "metadata": {
        "id": "ibEtFRsCxGTE"
      },
      "execution_count": null,
      "outputs": []
    },
    {
      "cell_type": "markdown",
      "source": [
        "\n",
        "\n",
        "---\n",
        "\n",
        "Encapsulation\n",
        "\n",
        "Encapsulation is the concept of wrapping data (variables) and methods (functions) together as a single unit. It restricts direct access to some of the object's components, which is a means of preventing accidental interference and misuse of the data.\n",
        "\n",
        "\n",
        "---\n",
        "\n"
      ],
      "metadata": {
        "id": "phiGUQY5xAjr"
      }
    },
    {
      "cell_type": "code",
      "source": [
        "## Encapsulation with Getter and  Setter Methods\n",
        "\n",
        "\n",
        "## Public, Protected  and Private Variables\n",
        "\n",
        "\n",
        "class Person:\n",
        "    def __init__(self,name,age):\n",
        "        self.name = name    ## Public varibales\n",
        "        self.age = age      ## Public varibales\n",
        "\n",
        "def get_name(person):\n",
        "    return person.name\n",
        "\n",
        "person = Person('Krish', 34)\n",
        "print(person.name)"
      ],
      "metadata": {
        "colab": {
          "base_uri": "https://localhost:8080/"
        },
        "id": "4t0JKF2Nwjgq",
        "outputId": "0ca886e2-ed7d-40bb-e1ce-ca17dc71c227"
      },
      "execution_count": 9,
      "outputs": [
        {
          "output_type": "stream",
          "name": "stdout",
          "text": [
            "Krish\n"
          ]
        }
      ]
    },
    {
      "cell_type": "markdown",
      "source": [
        "For the upper code we can say that !\n",
        "\n",
        "that is public if we want a private variables then  we can say that\n",
        "\n",
        "we may use this(below code check)\n",
        "\n",
        "\n",
        "if we want to do changes something then we must do the  changes in the object while mmaking code.\n",
        "\n"
      ],
      "metadata": {
        "id": "ti1nuu0LzA6B"
      }
    },
    {
      "cell_type": "code",
      "source": [
        "dir(person)   ## age and name is public variables ! use any where in program !"
      ],
      "metadata": {
        "colab": {
          "base_uri": "https://localhost:8080/"
        },
        "id": "JBk3WZS6wiYN",
        "outputId": "fd30d71a-1b46-49c0-f967-e62c4561a702"
      },
      "execution_count": 8,
      "outputs": [
        {
          "output_type": "execute_result",
          "data": {
            "text/plain": [
              "['__class__',\n",
              " '__delattr__',\n",
              " '__dict__',\n",
              " '__dir__',\n",
              " '__doc__',\n",
              " '__eq__',\n",
              " '__format__',\n",
              " '__ge__',\n",
              " '__getattribute__',\n",
              " '__getstate__',\n",
              " '__gt__',\n",
              " '__hash__',\n",
              " '__init__',\n",
              " '__init_subclass__',\n",
              " '__le__',\n",
              " '__lt__',\n",
              " '__module__',\n",
              " '__ne__',\n",
              " '__new__',\n",
              " '__reduce__',\n",
              " '__reduce_ex__',\n",
              " '__repr__',\n",
              " '__setattr__',\n",
              " '__sizeof__',\n",
              " '__str__',\n",
              " '__subclasshook__',\n",
              " '__weakref__',\n",
              " 'age',\n",
              " 'name']"
            ]
          },
          "metadata": {},
          "execution_count": 8
        }
      ]
    },
    {
      "cell_type": "code",
      "source": [],
      "metadata": {
        "id": "xZiTjcMfzm60"
      },
      "execution_count": null,
      "outputs": []
    },
    {
      "cell_type": "code",
      "source": [
        "class Person:\n",
        "    def __init__(self,name,age,gender):\n",
        "        self.__name=name    ## private variables\n",
        "        self.__age=age      ## private variables\n",
        "        self.gender=gender\n",
        "\n",
        "\n",
        "def get_name(person):\n",
        "    return person.__name\n",
        "\n",
        "person=Person(\"Krish\",34,\"Male\")\n",
        "get_name(person)\n",
        "\n",
        "\n",
        "\n",
        "## here we can access the private variables and here we restrict the variable  becuase this are some imp. attribute.\n",
        "\n",
        "\n",
        "## Private VAriables can not access outside the class\n",
        "\n",
        "## We can access that with the help of getter and setter !\n",
        "\n"
      ],
      "metadata": {
        "colab": {
          "base_uri": "https://localhost:8080/",
          "height": 311
        },
        "id": "Rh2X2mb1zm3a",
        "outputId": "95c8935b-6dfd-4e45-a718-6796c2ebead3"
      },
      "execution_count": 11,
      "outputs": [
        {
          "output_type": "error",
          "ename": "AttributeError",
          "evalue": "'Person' object has no attribute '__name'",
          "traceback": [
            "\u001b[0;31m---------------------------------------------------------------------------\u001b[0m",
            "\u001b[0;31mAttributeError\u001b[0m                            Traceback (most recent call last)",
            "\u001b[0;32m<ipython-input-11-1067845512>\u001b[0m in \u001b[0;36m<cell line: 0>\u001b[0;34m()\u001b[0m\n\u001b[1;32m     10\u001b[0m \u001b[0;34m\u001b[0m\u001b[0m\n\u001b[1;32m     11\u001b[0m \u001b[0mperson\u001b[0m\u001b[0;34m=\u001b[0m\u001b[0mPerson\u001b[0m\u001b[0;34m(\u001b[0m\u001b[0;34m\"Krish\"\u001b[0m\u001b[0;34m,\u001b[0m\u001b[0;36m34\u001b[0m\u001b[0;34m,\u001b[0m\u001b[0;34m\"Male\"\u001b[0m\u001b[0;34m)\u001b[0m\u001b[0;34m\u001b[0m\u001b[0;34m\u001b[0m\u001b[0m\n\u001b[0;32m---> 12\u001b[0;31m \u001b[0mget_name\u001b[0m\u001b[0;34m(\u001b[0m\u001b[0mperson\u001b[0m\u001b[0;34m)\u001b[0m\u001b[0;34m\u001b[0m\u001b[0;34m\u001b[0m\u001b[0m\n\u001b[0m",
            "\u001b[0;32m<ipython-input-11-1067845512>\u001b[0m in \u001b[0;36mget_name\u001b[0;34m(person)\u001b[0m\n\u001b[1;32m      7\u001b[0m \u001b[0;34m\u001b[0m\u001b[0m\n\u001b[1;32m      8\u001b[0m \u001b[0;32mdef\u001b[0m \u001b[0mget_name\u001b[0m\u001b[0;34m(\u001b[0m\u001b[0mperson\u001b[0m\u001b[0;34m)\u001b[0m\u001b[0;34m:\u001b[0m\u001b[0;34m\u001b[0m\u001b[0;34m\u001b[0m\u001b[0m\n\u001b[0;32m----> 9\u001b[0;31m     \u001b[0;32mreturn\u001b[0m \u001b[0mperson\u001b[0m\u001b[0;34m.\u001b[0m\u001b[0m__name\u001b[0m\u001b[0;34m\u001b[0m\u001b[0;34m\u001b[0m\u001b[0m\n\u001b[0m\u001b[1;32m     10\u001b[0m \u001b[0;34m\u001b[0m\u001b[0m\n\u001b[1;32m     11\u001b[0m \u001b[0mperson\u001b[0m\u001b[0;34m=\u001b[0m\u001b[0mPerson\u001b[0m\u001b[0;34m(\u001b[0m\u001b[0;34m\"Krish\"\u001b[0m\u001b[0;34m,\u001b[0m\u001b[0;36m34\u001b[0m\u001b[0;34m,\u001b[0m\u001b[0;34m\"Male\"\u001b[0m\u001b[0;34m)\u001b[0m\u001b[0;34m\u001b[0m\u001b[0;34m\u001b[0m\u001b[0m\n",
            "\u001b[0;31mAttributeError\u001b[0m: 'Person' object has no attribute '__name'"
          ]
        }
      ]
    },
    {
      "cell_type": "code",
      "source": [
        "\n",
        "dir(person)"
      ],
      "metadata": {
        "colab": {
          "base_uri": "https://localhost:8080/"
        },
        "id": "SI_c5Z6Qzm1v",
        "outputId": "217979cf-f941-4544-bd1c-b7a302571f0d"
      },
      "execution_count": 12,
      "outputs": [
        {
          "output_type": "execute_result",
          "data": {
            "text/plain": [
              "['_Person__age',\n",
              " '_Person__name',\n",
              " '__class__',\n",
              " '__delattr__',\n",
              " '__dict__',\n",
              " '__dir__',\n",
              " '__doc__',\n",
              " '__eq__',\n",
              " '__format__',\n",
              " '__ge__',\n",
              " '__getattribute__',\n",
              " '__getstate__',\n",
              " '__gt__',\n",
              " '__hash__',\n",
              " '__init__',\n",
              " '__init_subclass__',\n",
              " '__le__',\n",
              " '__lt__',\n",
              " '__module__',\n",
              " '__ne__',\n",
              " '__new__',\n",
              " '__reduce__',\n",
              " '__reduce_ex__',\n",
              " '__repr__',\n",
              " '__setattr__',\n",
              " '__sizeof__',\n",
              " '__str__',\n",
              " '__subclasshook__',\n",
              " '__weakref__',\n",
              " 'gender']"
            ]
          },
          "metadata": {},
          "execution_count": 12
        }
      ]
    },
    {
      "cell_type": "code",
      "source": [
        "## Protected Variables !  ## Single Underscore\n",
        "\n",
        "## Cannot access outisde the class but we can access it from derived class.\n",
        "\n",
        "class Person:\n",
        "    def __init__(self,name,age,gender):\n",
        "        self._name=name    ## protected variables\n",
        "        self._age=age      ## protected variables\n",
        "        self.gender=gender\n",
        "\n",
        "class Employee(Person):\n",
        "    def __init__(self,name,age,gender):\n",
        "        super().__init__(name,age,gender) ##  This is BAsically the Derived Class !!\n",
        "\n",
        "\n",
        "\n",
        "employee=Employee(\"KRish\",34,\"Male\")\n",
        "print(employee._name)"
      ],
      "metadata": {
        "colab": {
          "base_uri": "https://localhost:8080/"
        },
        "id": "rm8K0_T4zmzC",
        "outputId": "77a26a03-9642-43b4-bd09-5b890813f356"
      },
      "execution_count": 13,
      "outputs": [
        {
          "output_type": "stream",
          "name": "stdout",
          "text": [
            "KRish\n"
          ]
        }
      ]
    },
    {
      "cell_type": "code",
      "source": [],
      "metadata": {
        "id": "Emvm2PHSzmwy"
      },
      "execution_count": null,
      "outputs": []
    },
    {
      "cell_type": "code",
      "source": [
        "\n",
        "## Encapsulation With Getter And Setter\n",
        "class Person:\n",
        "    def __init__(self,name,age):\n",
        "        self.__name=name  ## Private access modifier or variable\n",
        "        self.__age=age ## Private variable\n",
        "\n",
        "##For Access this inside thhe  class will definitely do this\n",
        "\n",
        "\n",
        "\n",
        "## Getter Method For Name (Retriving the data)\n",
        "    def get_name(self):\n",
        "        return self.__name\n",
        "\n",
        "## Setter MEthod for name (change any values)\n",
        "    def set_name(self,name):\n",
        "        self.__name=name\n",
        "\n",
        "## Getter method for age\n",
        "\n",
        "    def get_age(self):\n",
        "        return self.__age\n",
        "\n",
        "## Setter method for age\n",
        "\n",
        "    def set_age(self, age):\n",
        "        if age > 0:\n",
        "            self.__age = age\n",
        "        else:\n",
        "            print(\"Age cannot be negative.\")\n",
        "\n",
        "\n",
        "person=Person(\"Krish\",34)\n",
        "\n",
        "## Access and modify private variables using getter and setter\n",
        "\n",
        "print(person.get_name())\n",
        "print(person.get_age())\n",
        "\n",
        "person.set_age(35)\n",
        "print(person.get_age())\n",
        "\n",
        "person.set_age(-5)\n"
      ],
      "metadata": {
        "colab": {
          "base_uri": "https://localhost:8080/"
        },
        "id": "srtsARe0zmuf",
        "outputId": "551220c7-ce31-4369-f02e-a23dda06d8ff"
      },
      "execution_count": 18,
      "outputs": [
        {
          "output_type": "stream",
          "name": "stdout",
          "text": [
            "Krish\n",
            "34\n",
            "35\n",
            "Age cannot be negative.\n"
          ]
        }
      ]
    },
    {
      "cell_type": "code",
      "source": [],
      "metadata": {
        "colab": {
          "base_uri": "https://localhost:8080/"
        },
        "collapsed": true,
        "id": "tZalS42mzmPV",
        "outputId": "db616ee6-1a95-428d-8481-add2751c3e1c"
      },
      "execution_count": 17,
      "outputs": [
        {
          "output_type": "stream",
          "name": "stdout",
          "text": [
            "Krish\n",
            "34\n",
            "35\n",
            "Age cannot be negative.\n"
          ]
        }
      ]
    }
  ]
}