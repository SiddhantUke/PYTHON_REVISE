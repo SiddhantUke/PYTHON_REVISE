{
  "nbformat": 4,
  "nbformat_minor": 0,
  "metadata": {
    "colab": {
      "provenance": [],
      "authorship_tag": "ABX9TyN+hPUB1gkul30GPZT+gAdh",
      "include_colab_link": true
    },
    "kernelspec": {
      "name": "python3",
      "display_name": "Python 3"
    },
    "language_info": {
      "name": "python"
    }
  },
  "cells": [
    {
      "cell_type": "markdown",
      "metadata": {
        "id": "view-in-github",
        "colab_type": "text"
      },
      "source": [
        "<a href=\"https://colab.research.google.com/github/SiddhantUke/PYTHON_REVISE/blob/main/Sect_9_(35_Working_With_File_Path).ipynb\" target=\"_parent\"><img src=\"https://colab.research.google.com/assets/colab-badge.svg\" alt=\"Open In Colab\"/></a>"
      ]
    },
    {
      "cell_type": "markdown",
      "source": [
        "### File Operation- Working With File Path\n",
        "\n",
        "\n"
      ],
      "metadata": {
        "id": "DLmtSPWOrgo_"
      }
    },
    {
      "cell_type": "code",
      "source": [
        "## Create a new Directory !\n",
        "\n",
        "\n",
        "import  os\n",
        "new_directory = \"packages\"\n",
        "\n",
        "os.mkdir(new_directory)\n",
        "\n",
        "print(f\"Directory '{new_directory}' create\")\n",
        "\n",
        "## With the help of  os we will create a new directory !\n",
        "\n"
      ],
      "metadata": {
        "colab": {
          "base_uri": "https://localhost:8080/"
        },
        "id": "Zi4gJj_My2Ik",
        "outputId": "bbc3d93f-7629-4350-d0cf-c8183b645fcc"
      },
      "execution_count": null,
      "outputs": [
        {
          "output_type": "stream",
          "name": "stdout",
          "text": [
            "Directory 'packages' create\n"
          ]
        }
      ]
    },
    {
      "cell_type": "code",
      "source": [
        "## Listing FIle and Directories\n",
        "\n",
        "items = os.listdir('.')\n",
        "print(items)"
      ],
      "metadata": {
        "id": "e1Z0sO3s0ADf",
        "colab": {
          "base_uri": "https://localhost:8080/"
        },
        "outputId": "6a05c608-7595-4bfc-a7c9-464ce4cb462e"
      },
      "execution_count": 22,
      "outputs": [
        {
          "output_type": "stream",
          "name": "stdout",
          "text": [
            "['.config', 'project notes.txt', '.ipynb_checkpoints', 'destination.txt', 'exPLE.bin', 'package', 'packages', 'sample_data']\n"
          ]
        }
      ]
    },
    {
      "cell_type": "markdown",
      "source": [
        "\n",
        "\n",
        "---\n",
        "\n",
        "\n",
        "\n",
        "---\n",
        "\n"
      ],
      "metadata": {
        "id": "-pitiNKx4g8B"
      }
    },
    {
      "cell_type": "markdown",
      "source": [
        "One of the most important that is joining path"
      ],
      "metadata": {
        "id": "KZ8ICJ1v4ioq"
      }
    },
    {
      "cell_type": "code",
      "source": [
        "## Joining Path\n",
        "\n",
        "dir_name = 'folder'\n",
        "file_name = 'file.txt'\n",
        "full_path = os.path.join(dir_name,file_name)\n",
        "print(full_path)"
      ],
      "metadata": {
        "colab": {
          "base_uri": "https://localhost:8080/"
        },
        "id": "Qxz_TL5j4fQA",
        "outputId": "9f7febea-ee4a-4053-8863-4a98fc126485"
      },
      "execution_count": 23,
      "outputs": [
        {
          "output_type": "stream",
          "name": "stdout",
          "text": [
            "folder/file.txt\n"
          ]
        }
      ]
    },
    {
      "cell_type": "code",
      "source": [
        "\n",
        "## Joining Path\n",
        "\n",
        "dir_name = 'folder'\n",
        "file_name = 'file.txt'\n",
        "full_path = os.path.join(os.getcwd(),dir_name,file_name)\n",
        "print(full_path)"
      ],
      "metadata": {
        "colab": {
          "base_uri": "https://localhost:8080/"
        },
        "id": "TACMvxlR4fMp",
        "outputId": "6f673e86-5527-4b7e-feca-553a13157008"
      },
      "execution_count": 24,
      "outputs": [
        {
          "output_type": "stream",
          "name": "stdout",
          "text": [
            "/content/folder/file.txt\n"
          ]
        }
      ]
    },
    {
      "cell_type": "markdown",
      "source": [
        "\n",
        "\n",
        "---\n",
        "\n",
        "\n",
        "\n",
        "---\n",
        "\n"
      ],
      "metadata": {
        "id": "KhOCEu497Oyp"
      }
    },
    {
      "cell_type": "markdown",
      "source": [
        "### With this will check whether the file path is availble or not in file directory !\n",
        "\n"
      ],
      "metadata": {
        "id": "XBvG5iSo8LVg"
      }
    },
    {
      "cell_type": "code",
      "source": [
        "path = 'exPLE.bin'\n",
        "\n",
        "if os.path.exists(path):\n",
        "\n",
        "  print(f\"The Path '{path}' exist\")\n",
        "\n",
        "else:\n",
        "  print(f\"The Path '{path}' does not exist\")\n",
        ""
      ],
      "metadata": {
        "colab": {
          "base_uri": "https://localhost:8080/"
        },
        "id": "BRwzAxxZ4fKc",
        "outputId": "63905901-41a2-4663-dc1c-7c56d9b99cf6"
      },
      "execution_count": 27,
      "outputs": [
        {
          "output_type": "stream",
          "name": "stdout",
          "text": [
            "The Path 'exPLE.bin' exist\n"
          ]
        }
      ]
    },
    {
      "cell_type": "code",
      "source": [
        "\n",
        "#Checking if a Path is a File or Directory\n",
        "\n",
        "import os\n",
        "\n",
        "path = 'example.txt'\n",
        "\n",
        "if os.path.isfile(path):\n",
        "\n",
        "    print(f\"The path '{path}' is a file.\")\n",
        "\n",
        "elif os.path.isdir(path):\n",
        "\n",
        "    print(f\"The path '{path}' is a directory.\")\n",
        "\n",
        "else:\n",
        "\n",
        "    print(f\"The path '{path}' is neither a file nor a directory.\")"
      ],
      "metadata": {
        "colab": {
          "base_uri": "https://localhost:8080/"
        },
        "id": "sJOd3pKp8ZlP",
        "outputId": "a7503886-99cc-4dea-a277-3e36d72a7327"
      },
      "execution_count": 28,
      "outputs": [
        {
          "output_type": "stream",
          "name": "stdout",
          "text": [
            "The path 'example.txt' is neither a file nor a directory.\n"
          ]
        }
      ]
    },
    {
      "cell_type": "code",
      "source": [
        "## GEtting the Absolute path\n",
        "## Getting the absolute path\n",
        "\n",
        "relative_path='exPLE.bin'\n",
        "\n",
        "absolute_path=os.path.abspath(relative_path)\n",
        "\n",
        "print(absolute_path)"
      ],
      "metadata": {
        "colab": {
          "base_uri": "https://localhost:8080/"
        },
        "id": "uZH1DcIU8ZZt",
        "outputId": "691d3031-1625-48c2-e3e4-540c02747648"
      },
      "execution_count": 30,
      "outputs": [
        {
          "output_type": "stream",
          "name": "stdout",
          "text": [
            "/content/exPLE.bin\n"
          ]
        }
      ]
    }
  ]
}