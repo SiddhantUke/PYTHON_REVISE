{
  "nbformat": 4,
  "nbformat_minor": 0,
  "metadata": {
    "colab": {
      "provenance": [],
      "authorship_tag": "ABX9TyMNhgGSt0TzYcjbzhsiaFBv",
      "include_colab_link": true
    },
    "kernelspec": {
      "name": "python3",
      "display_name": "Python 3"
    },
    "language_info": {
      "name": "python"
    }
  },
  "cells": [
    {
      "cell_type": "markdown",
      "metadata": {
        "id": "view-in-github",
        "colab_type": "text"
      },
      "source": [
        "<a href=\"https://colab.research.google.com/github/SiddhantUke/PYTHON_REVISE/blob/main/Sect_11_(40_Inheritance_of_OOPS).ipynb\" target=\"_parent\"><img src=\"https://colab.research.google.com/assets/colab-badge.svg\" alt=\"Open In Colab\"/></a>"
      ]
    },
    {
      "cell_type": "markdown",
      "source": [
        "### Inheritance In Python\n",
        "\n",
        "Inheritance is a fundamental concept in Object-Oriented Programming (OOP) that allows a class to inherit attributes and methods from another class. This lesson covers single inheritance and multiple inheritance, demonstrating how to create and use them in Python."
      ],
      "metadata": {
        "id": "DLmtSPWOrgo_"
      }
    },
    {
      "cell_type": "markdown",
      "source": [],
      "metadata": {
        "id": "XTIdVK55EP9T"
      }
    },
    {
      "cell_type": "markdown",
      "source": [
        "\n",
        "\n",
        "---\n",
        "\n",
        "## Inheritance -- > Takinng something from parents\n",
        "\n",
        "only one child cls inherits the parents cls\n",
        "\n",
        "---\n",
        "\n"
      ],
      "metadata": {
        "id": "p7S1G-o1_Aic"
      }
    },
    {
      "cell_type": "code",
      "source": [
        "\n",
        "\n",
        "## Parent Class\n",
        "\n",
        "class Car:\n",
        "\n",
        "  def __init__(self,windows,doors,enginetype): ## Construct type !\n",
        "\n",
        "    self.windows = windows  ## This name may not be same but this is the engine type !\n",
        "\n",
        "    self.doors = doors\n",
        "\n",
        "    self.enginetype = enginetype\n",
        "\n",
        "\n",
        "  def drive(self):\n",
        "\n",
        "    print(f\"The Person will drive the {self.enginetype} car \")"
      ],
      "metadata": {
        "id": "KuExiy3nEbOB"
      },
      "execution_count": 6,
      "outputs": []
    },
    {
      "cell_type": "code",
      "source": [
        "car1 = Car(4,5, 'petrol')\n",
        "\n",
        "print(car1.drive())"
      ],
      "metadata": {
        "colab": {
          "base_uri": "https://localhost:8080/"
        },
        "id": "A1W2tb_1GqFM",
        "outputId": "4b94b286-5763-4549-fdeb-b62f0feec320"
      },
      "execution_count": 7,
      "outputs": [
        {
          "output_type": "stream",
          "name": "stdout",
          "text": [
            "The Person will drive the petrol car \n",
            "None\n"
          ]
        }
      ]
    },
    {
      "cell_type": "markdown",
      "source": [
        "\n",
        "\n",
        "---\n",
        "\n",
        "Suppose the car has many type we can say that this is the blue print !\n",
        "\n"
      ],
      "metadata": {
        "id": "dt66UBqFHos8"
      }
    },
    {
      "cell_type": "markdown",
      "source": [
        "So we have to inheritance from some tesla cars !"
      ],
      "metadata": {
        "id": "waiNp2K4H1Ma"
      }
    },
    {
      "cell_type": "code",
      "source": [
        "\n",
        "class Tesla(Car): ## we have to write a child class  ie tesla and what ever we get it from that is parent (car)\n",
        "\n",
        "  def __init__(self,windows,doors,enginetype,is_selfdriving): ## Construct type !\n",
        "\n",
        "      super().__init__(windows,doors,enginetype)     #### What its means thats the init functn here that is the car/parent class !\n",
        "## inheritance from tesla class !\n",
        "\n",
        "      self.is_selfdriving = is_selfdriving  ## taking this from parents class and then\n",
        "## when we inhertance the first class init then we have to inheritance the second as well !\n",
        "\n",
        "\n",
        "  def selfdriving(self):\n",
        "      print(f\"Tesla Supports self driving : {self.is_selfdriving}\")  ## child class which is inheriting the car class !\n",
        "\n"
      ],
      "metadata": {
        "id": "IuQS4lYZEbLZ"
      },
      "execution_count": 20,
      "outputs": []
    },
    {
      "cell_type": "code",
      "source": [
        "tesla1 = Tesla(4,5, \"electric\",True)\n",
        "\n"
      ],
      "metadata": {
        "id": "heicdu8CEbJg"
      },
      "execution_count": 21,
      "outputs": []
    },
    {
      "cell_type": "code",
      "source": [
        "tesla1.selfdriving()"
      ],
      "metadata": {
        "colab": {
          "base_uri": "https://localhost:8080/"
        },
        "id": "KCF78NeJEbHf",
        "outputId": "070fc19b-c607-49e6-c0d1-8261f781b462"
      },
      "execution_count": 22,
      "outputs": [
        {
          "output_type": "stream",
          "name": "stdout",
          "text": [
            "Tesla Supports self driving : True\n"
          ]
        }
      ]
    },
    {
      "cell_type": "code",
      "source": [
        "## we can also called the other functn as well !\n",
        "\n",
        "tesla1.drive()"
      ],
      "metadata": {
        "colab": {
          "base_uri": "https://localhost:8080/"
        },
        "id": "eI8PxF-QEbFX",
        "outputId": "b9385a2c-4858-4ebd-b961-ade3a35e8863"
      },
      "execution_count": 23,
      "outputs": [
        {
          "output_type": "stream",
          "name": "stdout",
          "text": [
            "The Person will drive the electric car \n"
          ]
        }
      ]
    },
    {
      "cell_type": "code",
      "source": [],
      "metadata": {
        "id": "RFpFTDlSPU1p"
      },
      "execution_count": null,
      "outputs": []
    },
    {
      "cell_type": "markdown",
      "source": [
        "\n",
        "\n",
        "---\n",
        "Multiple Inheritance Class\n",
        "\n",
        "\n",
        "---\n",
        "\n",
        "\n"
      ],
      "metadata": {
        "id": "h0ZYrrSUPPLq"
      }
    },
    {
      "cell_type": "code",
      "source": [
        "## When c class inherits from more than one base class.\n"
      ],
      "metadata": {
        "id": "w1BwWzJ8EbDg"
      },
      "execution_count": null,
      "outputs": []
    },
    {
      "cell_type": "code",
      "source": [
        "\n",
        "## Base 1\n",
        "\n",
        "class Animal:\n",
        "  def __init__(self,name):\n",
        "    self.name = name\n",
        "\n",
        "\n",
        "  def speak(self):\n",
        "    print(\"Subclass must implement this method\")\n",
        "\n",
        "\n",
        "## Base 2\n",
        "\n",
        "class Pet:\n",
        "    def __init__(self, owner):\n",
        "        self.owner = owner\n",
        "\n",
        "\n",
        "\n",
        "## Derived Class ## means we can say that we need to inheritance both the classes !\n",
        "\n",
        "class Dog(Animal,Pet):\n",
        "    def __init__(self,name,owner):\n",
        "        Animal.__init__(self,name)\n",
        "        Pet.__init__(self,owner)\n",
        "\n",
        "    def speak(self):\n",
        "        return f\"{self.name} say woof\"\n",
        "\n",
        "\n",
        "\n",
        "\n",
        "## ## Create an object\n",
        "\n",
        "\n",
        "dog=Dog(\"Buddy\",\"Krish\")\n",
        "print(dog.speak())\n",
        "print(f\"Owner:{dog.owner}\")"
      ],
      "metadata": {
        "colab": {
          "base_uri": "https://localhost:8080/"
        },
        "id": "W4JxRjzeEbBd",
        "outputId": "ba1f0cb6-e88f-4d31-94de-a2b60166fb22"
      },
      "execution_count": 25,
      "outputs": [
        {
          "output_type": "stream",
          "name": "stdout",
          "text": [
            "Buddy say woof\n",
            "Owner:Krish\n"
          ]
        }
      ]
    },
    {
      "cell_type": "markdown",
      "source": [],
      "metadata": {
        "id": "8R7GwlHUR8pR"
      }
    },
    {
      "cell_type": "markdown",
      "source": [],
      "metadata": {
        "id": "3BbZsYTHR8YY"
      }
    },
    {
      "cell_type": "code",
      "source": [],
      "metadata": {
        "id": "dmSm0OFvEa_h"
      },
      "execution_count": null,
      "outputs": []
    },
    {
      "cell_type": "code",
      "source": [],
      "metadata": {
        "id": "0awpJOX9Ea9l"
      },
      "execution_count": null,
      "outputs": []
    },
    {
      "cell_type": "code",
      "source": [],
      "metadata": {
        "id": "u0RAuZOnEa7p"
      },
      "execution_count": null,
      "outputs": []
    },
    {
      "cell_type": "code",
      "source": [],
      "metadata": {
        "id": "bhPL8RcOEa5q"
      },
      "execution_count": null,
      "outputs": []
    },
    {
      "cell_type": "code",
      "source": [],
      "metadata": {
        "id": "3SD11Cc6Ea31"
      },
      "execution_count": null,
      "outputs": []
    },
    {
      "cell_type": "code",
      "source": [],
      "metadata": {
        "id": "ziYcSrazEa1g"
      },
      "execution_count": null,
      "outputs": []
    },
    {
      "cell_type": "code",
      "source": [],
      "metadata": {
        "id": "lJfFn61xEazP"
      },
      "execution_count": null,
      "outputs": []
    },
    {
      "cell_type": "code",
      "source": [],
      "metadata": {
        "id": "RXnKjKfqEaww"
      },
      "execution_count": null,
      "outputs": []
    }
  ]
}