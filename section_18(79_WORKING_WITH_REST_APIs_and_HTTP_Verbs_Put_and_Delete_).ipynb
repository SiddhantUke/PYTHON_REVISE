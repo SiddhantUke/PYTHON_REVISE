{
  "nbformat": 4,
  "nbformat_minor": 0,
  "metadata": {
    "colab": {
      "provenance": [],
      "authorship_tag": "ABX9TyNYsG0esZkA6bmM50Sg35XT",
      "include_colab_link": true
    },
    "kernelspec": {
      "name": "python3",
      "display_name": "Python 3"
    },
    "language_info": {
      "name": "python"
    }
  },
  "cells": [
    {
      "cell_type": "markdown",
      "metadata": {
        "id": "view-in-github",
        "colab_type": "text"
      },
      "source": [
        "<a href=\"https://colab.research.google.com/github/SiddhantUke/PYTHON_REVISE/blob/main/section_18(79_WORKING_WITH_REST_APIs_and_HTTP_Verbs_Put_and_Delete_).ipynb\" target=\"_parent\"><img src=\"https://colab.research.google.com/assets/colab-badge.svg\" alt=\"Open In Colab\"/></a>"
      ]
    },
    {
      "cell_type": "code",
      "source": [
        "##"
      ],
      "metadata": {
        "id": "L91jQGGNn-GD"
      },
      "execution_count": null,
      "outputs": []
    },
    {
      "cell_type": "code",
      "source": [
        "'''\n",
        "\n",
        "Whenever we work with API we have too work with json file\n",
        "\n",
        "'''"
      ],
      "metadata": {
        "id": "MCBjxMKK5m0i"
      },
      "execution_count": null,
      "outputs": []
    },
    {
      "cell_type": "code",
      "source": [
        "from flask import Flask, jsonify, request\n",
        "\n",
        "app = Flask(__name__)  ## name of the app\n",
        "\n",
        "##Initial Data in my to do list !\n",
        "\n",
        "items= [\n",
        "    {\"id\": 1, \"name\": \"Item 1\", \"description\": \"This is item 1\"},\n",
        "    {\"id\": 1, \"name\": \"Item 1\", \"description\": \"This is item 1\"},\n",
        "]\n",
        "\n",
        "\n",
        "@app.route('/')\n",
        "\n",
        "def home():\n",
        "  return 'Welcome To The Sample To Do List App'\n",
        "\n",
        "## Get: Retrive all the items\n",
        "\n",
        "@app.route('/items',methods=['GET'])\n",
        "def get_items():\n",
        "  return jsonify(items)         ## So instead of this list will write that in the file of json !\n",
        "\n",
        "\n",
        "## Get : Retrieve a specific item by ID\n",
        "@app.route('/items/<int:item_id>', methods=['GET'])\n",
        "def get_item(item_id)\n",
        "    item = next((item for items  in items if item['id']==item_id))    ## if its same then its run ie item id !\n",
        "    if item is None:\n",
        "        return jsonify({'error':'item not found'})\n",
        "    return jsonify(item)\n",
        "\n",
        "\n",
        "## Post : Create a new task\n",
        "\n",
        "@app.route('/item'.method['POST'])    ## pOST METHOD\n",
        "def create_item():\n",
        "    if not request.json or not 'name' in request.json:   ## We comparing  whether there is json or not !\n",
        "        return jsonify({'error':'item not found'})\n",
        "    new_item={\n",
        "        \"id\": items[-1][\"id\"] + 1 if items else 1,\n",
        "        \"name\":request.json['name']  ## retrive the name !\n",
        "        \"description0\" :request.json[\"description\"]\n",
        "\n",
        "    }   ## Key value pair  create here !\n",
        "    items.append(new_item)   ## this new item append in list\n",
        "    return jsonify(new_item)    ##  show you which item has been added !\n",
        "\n",
        "\n",
        "\n",
        "'''\n",
        "## Create a File\n",
        "# sample.json\n",
        "\n",
        "# write this code !\n",
        "\n",
        "\n",
        "{\"name\": \"New Item\", \"description\": \"This is a new item\"}\n",
        "\n",
        "{\"name\": \"Updated Item\", \"description\": \"This item has been updated\"}\n",
        "\n",
        "\n",
        "'''\n",
        "\n",
        "\n",
        "## Put : Update an existing item\n",
        "\n",
        "@app.route(\"/items/<int:item_id>\", methods=['PUT'])\n",
        "def update_item(item_id):\n",
        "    item = next((item for item in items if item[\"id\"] == item_id), None)  ## Here we retrive the item from this particular items !\n",
        "    if item is None: ## not passing any json\n",
        "        return jsonify ([\"error\": \"Item not found\"])\n",
        "    item['name'] = request.json.get(\"name\", item[\"name\"])\n",
        "    item['description'] = request.json.get('description', item['description'])\n",
        "    return jsonify(item)\n",
        "\n",
        "\n",
        "'''\n",
        " {\"name\": \"Updated Item\", \"description\": \"This item has been updated\"}\n",
        "\n",
        "Along with the body we need to update the json\n",
        "\n",
        "'''\n",
        "\n",
        "\n",
        "# DELETE: Delete an item\n",
        "@app.route('/items/<int:item_id>', methods=['DELETE'])\n",
        "def delete_item(item_id):\n",
        "    global items\n",
        "    items = [item for item in items if item[\"id\"] != item_id]\n",
        "    return jsonify({\"result\": \"Item deleted\"})\n",
        "\n",
        "\n",
        "## POST MAN IS AN API THAT ACTUCALLY CHECK AN API !\n",
        "\n",
        "\n",
        "\n",
        "\n",
        "if __name__ == '__main__':\n",
        "    app.run(debug=True)"
      ],
      "metadata": {
        "id": "jMv1zd615myD"
      },
      "execution_count": null,
      "outputs": []
    },
    {
      "cell_type": "code",
      "source": [],
      "metadata": {
        "id": "ezJo0RlK5mwp"
      },
      "execution_count": null,
      "outputs": []
    },
    {
      "cell_type": "code",
      "source": [],
      "metadata": {
        "id": "ZtCAYisY5ms4"
      },
      "execution_count": null,
      "outputs": []
    },
    {
      "cell_type": "code",
      "source": [],
      "metadata": {
        "id": "qHKxrYH45mqa"
      },
      "execution_count": null,
      "outputs": []
    },
    {
      "cell_type": "code",
      "source": [],
      "metadata": {
        "id": "lqyH7Yzf5mnp"
      },
      "execution_count": null,
      "outputs": []
    },
    {
      "cell_type": "code",
      "source": [],
      "metadata": {
        "id": "qlIlkDN15mlZ"
      },
      "execution_count": null,
      "outputs": []
    },
    {
      "cell_type": "code",
      "source": [],
      "metadata": {
        "id": "H_o51BpT5miE"
      },
      "execution_count": null,
      "outputs": []
    },
    {
      "cell_type": "code",
      "source": [],
      "metadata": {
        "id": "rGBidB725mf2"
      },
      "execution_count": null,
      "outputs": []
    },
    {
      "cell_type": "code",
      "source": [],
      "metadata": {
        "id": "SIkKqQ0q5mdT"
      },
      "execution_count": null,
      "outputs": []
    },
    {
      "cell_type": "code",
      "source": [],
      "metadata": {
        "id": "0Mz5DqGHn-Ds"
      },
      "execution_count": null,
      "outputs": []
    }
  ]
}