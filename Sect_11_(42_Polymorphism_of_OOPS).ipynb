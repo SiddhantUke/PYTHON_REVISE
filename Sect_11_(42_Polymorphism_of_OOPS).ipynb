{
  "nbformat": 4,
  "nbformat_minor": 0,
  "metadata": {
    "colab": {
      "provenance": [],
      "authorship_tag": "ABX9TyNonGqnZDnOuZHW4/xXu6Sv",
      "include_colab_link": true
    },
    "kernelspec": {
      "name": "python3",
      "display_name": "Python 3"
    },
    "language_info": {
      "name": "python"
    }
  },
  "cells": [
    {
      "cell_type": "markdown",
      "metadata": {
        "id": "view-in-github",
        "colab_type": "text"
      },
      "source": [
        "<a href=\"https://colab.research.google.com/github/SiddhantUke/PYTHON_REVISE/blob/main/Sect_11_(42_Polymorphism_of_OOPS).ipynb\" target=\"_parent\"><img src=\"https://colab.research.google.com/assets/colab-badge.svg\" alt=\"Open In Colab\"/></a>"
      ]
    },
    {
      "cell_type": "markdown",
      "source": [
        "### Polymorphism\n",
        "\n",
        "Polymorphism is a core concept in Object-Oriented Programming (OOP) that allows objects of different classes to be treated as objects of a common superclass. It provides a way to perform a single action in different forms. Polymorphism is typically achieved through method overriding and interfaces"
      ],
      "metadata": {
        "id": "DLmtSPWOrgo_"
      }
    },
    {
      "cell_type": "markdown",
      "source": [
        "\n",
        "\n",
        "---\n",
        "\n",
        "Poly morphism ---> Multiple form  \n",
        "\n",
        "\n",
        "---\n",
        "\n"
      ],
      "metadata": {
        "id": "3BbZsYTHR8YY"
      }
    },
    {
      "cell_type": "code",
      "source": [
        "##"
      ],
      "metadata": {
        "id": "dmSm0OFvEa_h"
      },
      "execution_count": null,
      "outputs": []
    },
    {
      "cell_type": "markdown",
      "source": [
        "#### Method Overriding\n",
        "\n",
        "Method overriding allows a child class to provide a specific implementation of a method that is already defined in its parent class."
      ],
      "metadata": {
        "id": "PDixQlwu6M6w"
      }
    },
    {
      "cell_type": "code",
      "source": [
        " ## Base Class\n",
        "\n",
        " class Animal:\n",
        "    def speak(self):\n",
        "        return \"Sound of the animal\"\n",
        "\n",
        "\n",
        " ## Derived Class 1\n",
        "\n",
        " class Dog(Animal):\n",
        "    def speak(self):\n",
        "      return \"Woof !\"\n",
        "\n",
        "\n",
        " ## Derived Class\n",
        "\n",
        " class Cat(Animal):\n",
        "    def speak(self):\n",
        "        return \"Meow ! \"\n",
        "\n",
        "\n",
        " ## Create 1 additional functn !\n",
        "\n",
        " ## Functn that demonstrate polymorphism !\n",
        "\n",
        " def animal_speak(animal):\n",
        "    print(animal.speak())     ## animal is basically the object of specific class !\n",
        "\n",
        "\n",
        "\n",
        " ## Object\n",
        "\n",
        " dog = Dog()\n",
        " cat = Cat()\n",
        " print(dog.speak())\n",
        " print(cat.speak())\n",
        " animal_speak(cat)"
      ],
      "metadata": {
        "colab": {
          "base_uri": "https://localhost:8080/"
        },
        "id": "0awpJOX9Ea9l",
        "outputId": "362f85fd-bd00-4951-d7bc-bae932851b86"
      },
      "execution_count": 4,
      "outputs": [
        {
          "output_type": "stream",
          "name": "stdout",
          "text": [
            "Woof !\n",
            "Meow ! \n",
            "Meow ! \n"
          ]
        }
      ]
    },
    {
      "cell_type": "code",
      "source": [],
      "metadata": {
        "id": "u0RAuZOnEa7p"
      },
      "execution_count": null,
      "outputs": []
    },
    {
      "cell_type": "markdown",
      "source": [
        "#### Polymorphism with functn and method !\n",
        "\n"
      ],
      "metadata": {
        "id": "ErktZKsS9iW8"
      }
    },
    {
      "cell_type": "code",
      "source": [
        "## Based Class\n",
        "\n",
        "\n",
        "class Shape:\n",
        "    def area(self):\n",
        "      return \"The area of the figure\"\n",
        "\n",
        "\n",
        "## Derived Class 1\n",
        "\n",
        "class Rectangle(Shape):\n",
        "  def __init__(self,width,height):\n",
        "      self.width = width\n",
        "      self.height = height\n",
        "\n",
        "  def area(self):\n",
        "      return self.width * self.height\n",
        "\n",
        "\n",
        "\n",
        "## Derived Class 2\n",
        "\n",
        "class Circle(Shape): ## Inherite the shape functn !\n",
        "    def __init__(self,radius): ## Why radius coz for calculating the radius !\n",
        "      self.radius = radius\n",
        "\n",
        "\n",
        "    def area(self):\n",
        "      return 3.14 * self.radius * self.radius\n",
        "\n",
        "\n",
        "## Functn that demonstrates !\n",
        "\n",
        "def print_area(shape):\n",
        "    print(f\"the area is {shape.area()}\")\n",
        "\n",
        "\n",
        "rectangle=Rectangle(4,5)\n",
        "circle=Circle(3)\n",
        "\n",
        "print_area(rectangle)\n",
        "print_area(circle)\n",
        "\n"
      ],
      "metadata": {
        "colab": {
          "base_uri": "https://localhost:8080/"
        },
        "id": "bhPL8RcOEa5q",
        "outputId": "8a28f91a-2e36-404d-8858-b8ac64477210"
      },
      "execution_count": 1,
      "outputs": [
        {
          "output_type": "stream",
          "name": "stdout",
          "text": [
            "the area is 20\n",
            "the area is 28.259999999999998\n"
          ]
        }
      ]
    },
    {
      "cell_type": "code",
      "source": [],
      "metadata": {
        "id": "vQPb_kjb-PBf"
      },
      "execution_count": null,
      "outputs": []
    },
    {
      "cell_type": "markdown",
      "source": [
        "###Polymorphism with Abstract Base Classes\n",
        "\n",
        "Abstract Base Classes (ABCs) are used to define common methods for a group of related objects. They can enforce that derived classes implement particular methods, promoting consistency across different implementations."
      ],
      "metadata": {
        "id": "6j36EIyhixu9"
      }
    },
    {
      "cell_type": "code",
      "source": [
        "###"
      ],
      "metadata": {
        "id": "3SD11Cc6Ea31"
      },
      "execution_count": null,
      "outputs": []
    },
    {
      "cell_type": "code",
      "source": [
        "from abc  import ABC,abstractmethod\n",
        "\n",
        "\n",
        "## Define an abstract Class\n",
        "\n",
        "class Vehicle (ABC):\n",
        "    @abstractmethod\n",
        "    def start_engine(self):\n",
        "        pass\n",
        "\n",
        "\n",
        "## Derived Class !\n",
        "\n",
        "class Car(Vehicle):\n",
        "    def start_engine(self):\n",
        "       return \"Car Engine Started\"\n",
        "\n",
        "\n",
        "## Derived Class 2\n",
        "\n",
        "class Motorcycle(Vehicle):\n",
        "    def start_enine(self):\n",
        "      return \"Motorcycle Engine Started \"\n",
        "\n",
        "\n",
        "# Function that demonstrates polymorphism\n",
        "def start_vehicle(vehicle):\n",
        "    print(vehicle.start_engine())\n",
        "\n",
        "## Create an onjects of car and motorcycle\n",
        "\n",
        "car = Car()\n",
        "motorcycle = Motorcycle()\n",
        "\n",
        "\n",
        "start_vehicle(car)"
      ],
      "metadata": {
        "colab": {
          "base_uri": "https://localhost:8080/",
          "height": 219
        },
        "id": "ziYcSrazEa1g",
        "outputId": "d99c9163-5bbe-4ad6-84c5-d6628cb0972a"
      },
      "execution_count": 6,
      "outputs": [
        {
          "output_type": "error",
          "ename": "TypeError",
          "evalue": "Can't instantiate abstract class Motorcycle with abstract method start_engine",
          "traceback": [
            "\u001b[0;31m---------------------------------------------------------------------------\u001b[0m",
            "\u001b[0;31mTypeError\u001b[0m                                 Traceback (most recent call last)",
            "\u001b[0;32m<ipython-input-6-1491545374>\u001b[0m in \u001b[0;36m<cell line: 0>\u001b[0;34m()\u001b[0m\n\u001b[1;32m     31\u001b[0m \u001b[0;34m\u001b[0m\u001b[0m\n\u001b[1;32m     32\u001b[0m \u001b[0mcar\u001b[0m \u001b[0;34m=\u001b[0m \u001b[0mCar\u001b[0m\u001b[0;34m(\u001b[0m\u001b[0;34m)\u001b[0m\u001b[0;34m\u001b[0m\u001b[0;34m\u001b[0m\u001b[0m\n\u001b[0;32m---> 33\u001b[0;31m \u001b[0mmotorcycle\u001b[0m \u001b[0;34m=\u001b[0m \u001b[0mMotorcycle\u001b[0m\u001b[0;34m(\u001b[0m\u001b[0;34m)\u001b[0m\u001b[0;34m\u001b[0m\u001b[0;34m\u001b[0m\u001b[0m\n\u001b[0m\u001b[1;32m     34\u001b[0m \u001b[0;34m\u001b[0m\u001b[0m\n\u001b[1;32m     35\u001b[0m \u001b[0;34m\u001b[0m\u001b[0m\n",
            "\u001b[0;31mTypeError\u001b[0m: Can't instantiate abstract class Motorcycle with abstract method start_engine"
          ]
        }
      ]
    },
    {
      "cell_type": "code",
      "source": [
        "from abc import ABC,abstractmethod\n",
        "\n",
        "## Define an abstract class\n",
        "class Vehicle(ABC):\n",
        "    @abstractmethod\n",
        "    def start_engine(self):\n",
        "        pass\n",
        "\n",
        "## Derived class 1\n",
        "class Car(Vehicle):\n",
        "    def start_engine(self):\n",
        "        return \"Car enginer started\"\n",
        "\n",
        "## Derived class 2\n",
        "class Motorcycle(Vehicle):\n",
        "    def start_engine(self):\n",
        "        return \"Motorcycle enginer started\"\n",
        "\n",
        "# Function that demonstrates polymorphism\n",
        "def start_vehicle(vehicle):\n",
        "    print(vehicle.start_engine())\n",
        "\n",
        "## create objects of cAr and Motorcycle\n",
        "\n",
        "car = Car()\n",
        "motorcycle = Motorcycle()\n",
        "\n",
        "start_vehicle(car)"
      ],
      "metadata": {
        "colab": {
          "base_uri": "https://localhost:8080/"
        },
        "id": "lJfFn61xEazP",
        "outputId": "047c3412-f321-4715-ec5d-560f41c93370"
      },
      "execution_count": 5,
      "outputs": [
        {
          "output_type": "stream",
          "name": "stdout",
          "text": [
            "Car enginer started\n"
          ]
        }
      ]
    },
    {
      "cell_type": "code",
      "source": [],
      "metadata": {
        "id": "RXnKjKfqEaww"
      },
      "execution_count": null,
      "outputs": []
    }
  ]
}