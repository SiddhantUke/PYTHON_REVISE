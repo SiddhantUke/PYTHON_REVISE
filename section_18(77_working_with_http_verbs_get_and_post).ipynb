{
  "nbformat": 4,
  "nbformat_minor": 0,
  "metadata": {
    "colab": {
      "provenance": [],
      "authorship_tag": "ABX9TyMQth72YXlmgs1tfnFU2JkA",
      "include_colab_link": true
    },
    "kernelspec": {
      "name": "python3",
      "display_name": "Python 3"
    },
    "language_info": {
      "name": "python"
    }
  },
  "cells": [
    {
      "cell_type": "markdown",
      "metadata": {
        "id": "view-in-github",
        "colab_type": "text"
      },
      "source": [
        "<a href=\"https://colab.research.google.com/github/SiddhantUke/PYTHON_REVISE/blob/main/section_18(77_working_with_http_verbs_get_and_post).ipynb\" target=\"_parent\"><img src=\"https://colab.research.google.com/assets/colab-badge.svg\" alt=\"Open In Colab\"/></a>"
      ]
    },
    {
      "cell_type": "code",
      "source": [],
      "metadata": {
        "id": "IgMnHVnVurcr"
      },
      "execution_count": null,
      "outputs": []
    },
    {
      "cell_type": "code",
      "source": [
        "## tHERE ARE 4 TYPES IN HTTP ?\n",
        "\n",
        "# GET\n",
        "# POST\n",
        "# DELETE\n",
        "# PUT\n",
        "\n"
      ],
      "metadata": {
        "id": "NPvGsrLZurY3"
      },
      "execution_count": null,
      "outputs": []
    },
    {
      "cell_type": "code",
      "source": [
        "## cREate a getpost.py file !\n",
        "\n",
        "\n",
        "\n",
        "'''\n",
        "basically getpost giving some\n",
        "\n",
        "search google .com\n",
        "\n",
        "able to see some content\n",
        "hit url and then it map with web sever and interact with google apps and\n",
        "\n",
        "then whatever the message is will hit that to sever\n",
        "\n",
        "'''\n",
        "# GET REQUEST ------> HITTING URL AND GETTING THE CONTENT !\n",
        "\n",
        "\n"
      ],
      "metadata": {
        "id": "uxNvXeXlurKR"
      },
      "execution_count": null,
      "outputs": []
    },
    {
      "cell_type": "code",
      "source": [
        "'''\n",
        "\n",
        "DIFFERENCE BETWEEN GET AND POST IS THAT\n",
        "\n",
        "PASSING THE INFORMATION ?\n",
        "\n",
        "AS A QUERY TO GOOGLE SEARCH ENGINE !\n",
        "\n",
        "'''"
      ],
      "metadata": {
        "id": "Blmw_UuPdkQ8"
      },
      "execution_count": null,
      "outputs": []
    },
    {
      "cell_type": "code",
      "source": [
        "''' iN THE getpost.py file put the below code'''\n",
        "\n",
        "\n",
        "from flask import Flask,render_template,request\n",
        "'''\n",
        " It creates an instance of the Flask class,\n",
        " which will be your WSGI (Web Server Gateway Interface) application.\n",
        "'''\n",
        "###WSGI Application\n",
        "app=Flask(__name__)\n",
        "\n",
        "@app.route(\"/\")\n",
        "def welcome():\n",
        "    return \"<html><H1>Welcome to the flask course</H1></html>\"\n",
        "\n",
        "@app.route(\"/index\",methods=['GET']) ## This is what we are talking about !\n",
        "def index():\n",
        "    return render_template('index.html')\n",
        "\n",
        "@app.route('/about')\n",
        "def about():\n",
        "    return render_template('about.html')\n",
        "\n",
        "@app.route('/form',methods=['GET','POST'])\n",
        "\n",
        "\n",
        "def form():\n",
        "    if request.method=='POST':     ## Bcoz of this request that is request it is possible to capture the browser reqst !\n",
        "        name=request.form['name']   ## Request Library  availble inside the flask framework !\n",
        "        return f'Hello {name}!'       ## after passing something here and then hit the submit button !\n",
        "    return render_template('form.html')      ## Create a form.html file !\n",
        "\n",
        "# @app.route('/submit',methods=['GET','POST'])\n",
        "# def submit():\n",
        "#     if request.method=='POST':\n",
        "#         name=request.form['name']\n",
        "#         return f'Hello {name}!'\n",
        "#     return render_template('form.html')\n",
        "\n",
        "\n",
        "if __name__==\"__main__\":\n",
        "    app.run(debug=True)"
      ],
      "metadata": {
        "id": "LdwyB4T0d8QM"
      },
      "execution_count": null,
      "outputs": []
    },
    {
      "cell_type": "code",
      "source": [
        "# after putting this upper code in fiel then run with the command !\n",
        "\n",
        "# getpost.py\n",
        "\n",
        "## Hit the index page / url of index so that we will get the index page !\n",
        "\n",
        "## Create a file that is form.html\n",
        "\n",
        "# and put this code"
      ],
      "metadata": {
        "id": "7bgYqf5SeYpb"
      },
      "execution_count": null,
      "outputs": []
    },
    {
      "cell_type": "code",
      "source": [
        "## Post request !\n",
        "\n"
      ],
      "metadata": {
        "id": "SQnulMXTe7wh"
      },
      "execution_count": null,
      "outputs": []
    },
    {
      "cell_type": "code",
      "source": [
        "## form.html\n",
        "<!DOCTYPE html>\n",
        "<html lang=\"en\">\n",
        "<head>\n",
        "    <meta charset=\"UTF-8\">\n",
        "    <title>Form</title>\n",
        "</head>\n",
        "<body>\n",
        "    <h1>Submit a Form</h1>\n",
        "    <form action=\"/submit\" method=\"post\">\n",
        "        <label for=\"name\">Name:</label>\n",
        "        <input type=\"text\" id=\"name\" name=\"name\">\n",
        "        <input type=\"submit\" value=\"Submit\">\n",
        "    </form>\n",
        "</body>\n",
        "</html>\n",
        "\n",
        "'''\n",
        "\n",
        "As soon as we hit the submit button it actually hit the url of the slash button !\n",
        "\n",
        "\n"
      ],
      "metadata": {
        "id": "Al3ervnde7td"
      },
      "execution_count": null,
      "outputs": []
    },
    {
      "cell_type": "code",
      "source": [],
      "metadata": {
        "id": "uZ6fhLDre7rk"
      },
      "execution_count": null,
      "outputs": []
    },
    {
      "cell_type": "code",
      "source": [],
      "metadata": {
        "id": "oUz7w1yQe7pn"
      },
      "execution_count": null,
      "outputs": []
    },
    {
      "cell_type": "code",
      "source": [],
      "metadata": {
        "id": "55QZPJF1e7nY"
      },
      "execution_count": null,
      "outputs": []
    },
    {
      "cell_type": "code",
      "source": [
        "# how the folder actually look like !\n",
        "'''\n",
        "\n",
        "\n",
        "-------templates\n",
        "         --------about.html\n",
        "         --------index.html\n",
        "         --------form.html\n",
        "\n",
        "-------app.py\n",
        "-------main.py\n",
        "\n",
        "\n",
        "till the 77 LECTURE THIS IS THE FOLDER STRUCTURE !\n",
        "\n",
        "'''"
      ],
      "metadata": {
        "id": "xIyIPr9Rn-NF"
      },
      "execution_count": null,
      "outputs": []
    },
    {
      "cell_type": "code",
      "source": [],
      "metadata": {
        "id": "9e4WXtaXn-K6"
      },
      "execution_count": null,
      "outputs": []
    },
    {
      "cell_type": "code",
      "source": [],
      "metadata": {
        "id": "7loDJivkn-Il"
      },
      "execution_count": null,
      "outputs": []
    },
    {
      "cell_type": "code",
      "source": [],
      "metadata": {
        "id": "L91jQGGNn-GD"
      },
      "execution_count": null,
      "outputs": []
    },
    {
      "cell_type": "code",
      "source": [],
      "metadata": {
        "id": "0Mz5DqGHn-Ds"
      },
      "execution_count": null,
      "outputs": []
    }
  ]
}