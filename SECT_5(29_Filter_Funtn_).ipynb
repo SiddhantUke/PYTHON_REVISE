{
  "nbformat": 4,
  "nbformat_minor": 0,
  "metadata": {
    "colab": {
      "provenance": [],
      "authorship_tag": "ABX9TyMh/RQENhhsnbfrrl9LmMju",
      "include_colab_link": true
    },
    "kernelspec": {
      "name": "python3",
      "display_name": "Python 3"
    },
    "language_info": {
      "name": "python"
    }
  },
  "cells": [
    {
      "cell_type": "markdown",
      "metadata": {
        "id": "view-in-github",
        "colab_type": "text"
      },
      "source": [
        "<a href=\"https://colab.research.google.com/github/SiddhantUke/PYTHON_REVISE/blob/main/SECT_5(29_Filter_Funtn_).ipynb\" target=\"_parent\"><img src=\"https://colab.research.google.com/assets/colab-badge.svg\" alt=\"Open In Colab\"/></a>"
      ]
    },
    {
      "cell_type": "markdown",
      "source": [
        "## The filter() Function in Python\n",
        "\n",
        "The filter() function constructs an iterator from elements of an iterable for which a function returns true. It is used to filter out items from a list (or any other iterable) based on a condition."
      ],
      "metadata": {
        "id": "wtwSN4LNio2W"
      }
    },
    {
      "cell_type": "markdown",
      "source": [
        "filter(function, iterable)"
      ],
      "metadata": {
        "id": "axeYvOL2I75o"
      }
    },
    {
      "cell_type": "code",
      "source": [
        "def even(num):\n",
        "    if num%2==0:\n",
        "        return True\n",
        "\n",
        "even(52)"
      ],
      "metadata": {
        "id": "yew5PoqBaCgQ",
        "outputId": "a44985ad-e758-4935-c651-9655e55c99bb",
        "colab": {
          "base_uri": "https://localhost:8080/"
        }
      },
      "execution_count": 8,
      "outputs": [
        {
          "output_type": "execute_result",
          "data": {
            "text/plain": [
              "True"
            ]
          },
          "metadata": {},
          "execution_count": 8
        }
      ]
    },
    {
      "cell_type": "code",
      "source": [
        "lst=[1,2,3,4,5,6,7,8,9,10,11,12]  ## -------> ## i want to filter out that only satisfied this condition ##  if num%2==0:\n",
        "\n",
        "list(filter(even,lst))"
      ],
      "metadata": {
        "id": "dnCfIkSZaXCa",
        "outputId": "bdb14800-2c00-405d-cecb-856dbe9cc157",
        "colab": {
          "base_uri": "https://localhost:8080/"
        }
      },
      "execution_count": 9,
      "outputs": [
        {
          "output_type": "execute_result",
          "data": {
            "text/plain": [
              "[2, 4, 6, 8, 10, 12]"
            ]
          },
          "metadata": {},
          "execution_count": 9
        }
      ]
    },
    {
      "cell_type": "markdown",
      "source": [
        "\n",
        "\n",
        "---\n",
        "\n",
        "\n",
        "\n",
        "---\n",
        "\n"
      ],
      "metadata": {
        "id": "OmGUgWd7aHlk"
      }
    },
    {
      "cell_type": "code",
      "source": [
        "## filter with lambda functn !\n",
        "\n",
        "numbers=[1,2,3,4,5,6,7,8,9]\n",
        "\n",
        "greater_than_five=list(filter(lambda x:x>5,numbers))\n",
        "\n",
        "print(greater_than_five)"
      ],
      "metadata": {
        "id": "QfiHfSBSc57y",
        "outputId": "ac49bf41-32e7-48ce-a14a-5472ad6e7e98",
        "colab": {
          "base_uri": "https://localhost:8080/"
        }
      },
      "execution_count": 10,
      "outputs": [
        {
          "output_type": "stream",
          "name": "stdout",
          "text": [
            "[6, 7, 8, 9]\n"
          ]
        }
      ]
    },
    {
      "cell_type": "code",
      "source": [
        "## Filter with a lambda function and multiple conditions\n",
        "\n",
        "numbers=[1,2,3,4,5,6,7,8,9]\n",
        "\n",
        "even_and_greater_than_five=list(filter(lambda x:x>5 and x%2==0,numbers)) ## ----------->\n",
        "\n",
        "print(even_and_greater_than_five)\n",
        "\n",
        "\n",
        "# x is the input argument to the lambda function.\n",
        "\n",
        "# x > 5 and x % 2 == 0 is the expression that returns True or False."
      ],
      "metadata": {
        "id": "FUvQxXvzaFo9",
        "outputId": "9a7d3de4-891f-4121-d7c3-d26e5160c4ae",
        "colab": {
          "base_uri": "https://localhost:8080/"
        }
      },
      "execution_count": 12,
      "outputs": [
        {
          "output_type": "stream",
          "name": "stdout",
          "text": [
            "[6, 8]\n"
          ]
        }
      ]
    },
    {
      "cell_type": "markdown",
      "source": [
        "\n",
        "\n",
        "---\n",
        "\n",
        "\n",
        "\n",
        "---\n",
        "\n"
      ],
      "metadata": {
        "id": "dYyRKs8OeOp4"
      }
    },
    {
      "cell_type": "code",
      "source": [
        "## Filter() to check if the age is greate than 25 in dictionaries\n",
        "\n",
        "people=[\n",
        "    {'name':'Vegeta','age':32},\n",
        "    {'name':'Kakarot','age':33},\n",
        "    {'name':'Cell','age':25}\n",
        "]\n",
        "\n",
        "def age_greater_than_25(person):\n",
        "    return person['age']>25\n",
        "\n",
        "list(filter(age_greater_than_25,people))"
      ],
      "metadata": {
        "id": "Hk3k7zrYaFmx",
        "outputId": "dd78c8d4-79f9-47fd-8ca5-7addf30abf4c",
        "colab": {
          "base_uri": "https://localhost:8080/"
        }
      },
      "execution_count": 13,
      "outputs": [
        {
          "output_type": "execute_result",
          "data": {
            "text/plain": [
              "[{'name': 'Vegeta', 'age': 32}, {'name': 'Kakarot', 'age': 33}]"
            ]
          },
          "metadata": {},
          "execution_count": 13
        }
      ]
    },
    {
      "cell_type": "markdown",
      "source": [
        "## Conclusion\n",
        "\n",
        "The filter() function is a powerful tool for creating iterators that filter items out of an iterable based on a function. It is commonly used for data cleaning, filtering objects, and removing unwanted elements from lists. By mastering filter(), you can write more concise and efficient code for processing and manipulating collections in Python."
      ],
      "metadata": {
        "id": "v4kuLStLfMzK"
      }
    },
    {
      "cell_type": "code",
      "source": [],
      "metadata": {
        "id": "01B9ZwbeaFkd"
      },
      "execution_count": null,
      "outputs": []
    },
    {
      "cell_type": "code",
      "source": [],
      "metadata": {
        "id": "jaKEVpicaFiH"
      },
      "execution_count": null,
      "outputs": []
    },
    {
      "cell_type": "code",
      "source": [],
      "metadata": {
        "id": "1VgDhpVxaFf1"
      },
      "execution_count": null,
      "outputs": []
    },
    {
      "cell_type": "markdown",
      "source": [
        "\n",
        "\n",
        "---\n",
        "\n",
        "\n",
        "\n",
        "---\n",
        "\n"
      ],
      "metadata": {
        "id": "P6P6N0mpHQlD"
      }
    }
  ]
}