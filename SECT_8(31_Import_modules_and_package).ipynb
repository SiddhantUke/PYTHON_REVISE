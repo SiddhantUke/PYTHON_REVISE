{
  "nbformat": 4,
  "nbformat_minor": 0,
  "metadata": {
    "colab": {
      "provenance": [],
      "authorship_tag": "ABX9TyNKxRI0Ooa0E3ew/ffS694L",
      "include_colab_link": true
    },
    "kernelspec": {
      "name": "python3",
      "display_name": "Python 3"
    },
    "language_info": {
      "name": "python"
    }
  },
  "cells": [
    {
      "cell_type": "markdown",
      "metadata": {
        "id": "view-in-github",
        "colab_type": "text"
      },
      "source": [
        "<a href=\"https://colab.research.google.com/github/SiddhantUke/PYTHON_REVISE/blob/main/SECT_8(31_Import_modules_and_package).ipynb\" target=\"_parent\"><img src=\"https://colab.research.google.com/assets/colab-badge.svg\" alt=\"Open In Colab\"/></a>"
      ]
    },
    {
      "cell_type": "markdown",
      "source": [
        "## Importing Modules in Python: Modules and Packages\n",
        ".\n",
        "\n",
        "In Python, modules and packages help organize and reuse code. Here's a comprehensive guide on how to import them."
      ],
      "metadata": {
        "id": "wtwSN4LNio2W"
      }
    },
    {
      "cell_type": "markdown",
      "source": [
        "\n",
        "\n",
        "---\n",
        "\n"
      ],
      "metadata": {
        "id": "TugDmMc8OYvB"
      }
    },
    {
      "cell_type": "markdown",
      "source": [
        "## NumPy (short for Numerical Python) is a powerful open-source library in Python used for numerical and scientific computing. It provides support for large, multi-dimensional arrays and matrices, along with a collection of mathematical functions to operate on these arrays efficiently."
      ],
      "metadata": {
        "id": "sQN1KJ9YOdJj"
      }
    },
    {
      "cell_type": "code",
      "source": [],
      "metadata": {
        "id": "WOKV5wNvOXz1"
      },
      "execution_count": null,
      "outputs": []
    },
    {
      "cell_type": "markdown",
      "source": [
        "\n",
        "\n",
        "---\n",
        "\n"
      ],
      "metadata": {
        "id": "MCyvxiA4I1i4"
      }
    },
    {
      "cell_type": "markdown",
      "source": [
        "## Why Use NumPy?\n",
        "\n",
        "Performance: Much faster than native Python lists for numerical operations.\n",
        "\n",
        "Convenience: Provides tools for array creation, reshaping, slicing, and broadcasting.\n",
        "\n",
        "Foundation: Widely used in data science, machine learning (e.g., TensorFlow, PyTorch), and scientific computing."
      ],
      "metadata": {
        "id": "axeYvOL2I75o"
      }
    },
    {
      "cell_type": "markdown",
      "source": [
        "\n",
        "\n",
        "---\n",
        "\n"
      ],
      "metadata": {
        "id": "ACZz1F5dI2i-"
      }
    },
    {
      "cell_type": "code",
      "source": [
        "import math ## inside this maths there are lots of module !\n",
        "\n",
        "## numpy works with array !\n",
        "import math\n",
        "math.sqrt(16)"
      ],
      "metadata": {
        "id": "k3ctMuzaI0Ps",
        "outputId": "41358595-d934-4c24-a85a-3805be0ef1f5",
        "colab": {
          "base_uri": "https://localhost:8080/"
        }
      },
      "execution_count": 1,
      "outputs": [
        {
          "output_type": "execute_result",
          "data": {
            "text/plain": [
              "4.0"
            ]
          },
          "metadata": {},
          "execution_count": 1
        }
      ]
    },
    {
      "cell_type": "code",
      "source": [
        "# from package name and import module from that function\n",
        "\n",
        "from math import sqrt,pi\n",
        "print(sqrt(16))\n",
        "print(sqrt(25))\n",
        "print(pi)"
      ],
      "metadata": {
        "id": "7JBUvrNYI0M5",
        "outputId": "c12767fd-fc88-40c0-94c7-27753e6afd1f",
        "colab": {
          "base_uri": "https://localhost:8080/"
        }
      },
      "execution_count": 2,
      "outputs": [
        {
          "output_type": "stream",
          "name": "stdout",
          "text": [
            "4.0\n",
            "5.0\n",
            "3.141592653589793\n"
          ]
        }
      ]
    },
    {
      "cell_type": "code",
      "source": [
        "## NUMPY THE IMPORTANT PACKAGE! ## WHENEVER WE WANT TO USE ARRAY AND WE WANT TO USE DIFF.\n",
        "\n",
        "!pip install numpy  ## for installation use this command !\n",
        "\n",
        "import numpy as np                ## np --> ALAIS !\n",
        "\n",
        "import numpy as np\n",
        "np.array([1,2,3,4])"
      ],
      "metadata": {
        "id": "2ouDIWoKI0K_",
        "outputId": "374d7bd7-252b-4f3c-cfe9-04a8344ef900",
        "colab": {
          "base_uri": "https://localhost:8080/"
        }
      },
      "execution_count": 7,
      "outputs": [
        {
          "output_type": "stream",
          "name": "stdout",
          "text": [
            "Requirement already satisfied: numpy in /usr/local/lib/python3.11/dist-packages (2.0.2)\n"
          ]
        },
        {
          "output_type": "execute_result",
          "data": {
            "text/plain": [
              "array([1, 2, 3, 4])"
            ]
          },
          "metadata": {},
          "execution_count": 7
        }
      ]
    },
    {
      "cell_type": "code",
      "source": [],
      "metadata": {
        "id": "d3JiO9fCI0I5"
      },
      "execution_count": null,
      "outputs": []
    },
    {
      "cell_type": "markdown",
      "source": [
        "\n",
        "\n",
        "---\n",
        "\n",
        "\n",
        "\n",
        "---\n",
        "\n"
      ],
      "metadata": {
        "id": "8kHOK7z0V4AA"
      }
    },
    {
      "cell_type": "code",
      "source": [
        "from math import * ## star indicated every modules no need to give specific module here !\n",
        "\n",
        "print(sqrt(16))\n",
        "\n",
        "print(pi)"
      ],
      "metadata": {
        "id": "HSeuzWDMI0G1",
        "outputId": "0ed099ad-4a85-4983-b30b-d1faa5d65901",
        "colab": {
          "base_uri": "https://localhost:8080/"
        }
      },
      "execution_count": 8,
      "outputs": [
        {
          "output_type": "stream",
          "name": "stdout",
          "text": [
            "4.0\n",
            "3.141592653589793\n"
          ]
        }
      ]
    },
    {
      "cell_type": "code",
      "source": [
        "## how we create our own customs package !\n",
        "\n",
        "# we have to  create folder ie. \"package\"\n",
        "\n",
        "# in that folder we have to create\n",
        "\n",
        "# .py file\n",
        "\n",
        "## \"__init__.py\""
      ],
      "metadata": {
        "id": "DciJVw0lI0FK"
      },
      "execution_count": null,
      "outputs": []
    },
    {
      "cell_type": "code",
      "source": [
        "## __init__.py dena hi pdenga package folder me and then new folder create jo apne ko module banana hai!"
      ],
      "metadata": {
        "id": "cQcTZTbAI0DQ"
      },
      "execution_count": 9,
      "outputs": []
    },
    {
      "cell_type": "code",
      "source": [
        "## so its easy for us to call that functn !"
      ],
      "metadata": {
        "id": "myVW0Ay0I0BW"
      },
      "execution_count": 10,
      "outputs": []
    },
    {
      "cell_type": "code",
      "source": [
        "# from package.maths import addition\n",
        "# addition(2,3)\n",
        "\n",
        "\n",
        "##package is folder .maths is the module AND addition is the operation that actucally inside under the maths folder file !"
      ],
      "metadata": {
        "id": "QE7hlThbIz_Q"
      },
      "execution_count": 12,
      "outputs": []
    },
    {
      "cell_type": "code",
      "source": [
        "# IF you want to execute any file and then we haev to select that folder while doing the execution !"
      ],
      "metadata": {
        "id": "0y9kn_GkIz9j"
      },
      "execution_count": 13,
      "outputs": []
    },
    {
      "cell_type": "markdown",
      "source": [
        "### Conclusion\n",
        "\n",
        "Importing modules and packages in Python allows you to organize your code, reuse functionalities, and keep your projects clean and manageable. By understanding how to import modules, specific functions, and use relative imports within packages, you can structure your Python applications more effectively."
      ],
      "metadata": {
        "id": "lfi-Vx_gxLtz"
      }
    },
    {
      "cell_type": "code",
      "source": [],
      "metadata": {
        "id": "9wdpH-5uIz2i"
      },
      "execution_count": null,
      "outputs": []
    },
    {
      "cell_type": "code",
      "source": [],
      "metadata": {
        "id": "1VgDhpVxaFf1"
      },
      "execution_count": null,
      "outputs": []
    },
    {
      "cell_type": "markdown",
      "source": [
        "\n",
        "\n",
        "---\n",
        "\n",
        "\n",
        "\n",
        "---\n",
        "\n"
      ],
      "metadata": {
        "id": "P6P6N0mpHQlD"
      }
    }
  ]
}