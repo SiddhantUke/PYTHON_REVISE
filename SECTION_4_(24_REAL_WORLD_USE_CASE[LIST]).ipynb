{
  "nbformat": 4,
  "nbformat_minor": 0,
  "metadata": {
    "colab": {
      "provenance": [],
      "authorship_tag": "ABX9TyPD+NphEmnnTozIuBgVgHjz",
      "include_colab_link": true
    },
    "kernelspec": {
      "name": "python3",
      "display_name": "Python 3"
    },
    "language_info": {
      "name": "python"
    }
  },
  "cells": [
    {
      "cell_type": "markdown",
      "metadata": {
        "id": "view-in-github",
        "colab_type": "text"
      },
      "source": [
        "<a href=\"https://colab.research.google.com/github/SiddhantUke/PYTHON_REVISE/blob/main/SECTION_4_(24_REAL_WORLD_USE_CASE%5BLIST%5D).ipynb\" target=\"_parent\"><img src=\"https://colab.research.google.com/assets/colab-badge.svg\" alt=\"Open In Colab\"/></a>"
      ]
    },
    {
      "cell_type": "markdown",
      "source": [
        "##INBUILT DATA STRUCTURES IN PYTHON"
      ],
      "metadata": {
        "id": "LHgoGsTGCqIf"
      }
    },
    {
      "cell_type": "markdown",
      "source": [
        "\n",
        "\n",
        "---\n",
        "\n"
      ],
      "metadata": {
        "id": "LY-S7MRLvhNO"
      }
    },
    {
      "cell_type": "markdown",
      "source": [
        "### Real-World Examples Using Lists in Python\n",
        "\n",
        "Lists are one of the most commonly used data structures in Python, thanks to their versatility and ease of use. Here are several practical examples that illustrate their use in real-world scenarios"
      ],
      "metadata": {
        "id": "Qq9-SEyrP2qT"
      }
    },
    {
      "cell_type": "markdown",
      "source": [
        "\n",
        "\n",
        "---\n",
        "\n"
      ],
      "metadata": {
        "id": "2Y4IIzUgP5fn"
      }
    },
    {
      "cell_type": "markdown",
      "source": [
        "Example 1. Manage A To Do List\n",
        "\n",
        "Create a To Do List To Keep Track OF Tasks\n"
      ],
      "metadata": {
        "id": "9WHMbs4qP-jF"
      }
    },
    {
      "cell_type": "code",
      "source": [
        "to_do_list = [\"REVISE THE ALGORITHM \",\"Ready for the workout\",\"before hitting take preworkout meal\"]\n",
        "\n",
        "## ADDING THE TASK\n",
        "to_do_list.append(\"take the gym bag\")\n",
        "to_do_list.append(\"wakeup around 5 am in morning\")\n",
        "\n",
        "\n",
        "##REMOVED THE TASK\n",
        "to_do_list.remove(\"Ready for the workout\")\n",
        "\n",
        "\n",
        "##Check the task in the list\n",
        "\n",
        "if \"REVISE THE ALGORITHM\" in to_do_list:\n",
        "  print(\"don't forget to revise it daily\")\n",
        "\n",
        "\n",
        "print(\"To Do List Remaining\")\n",
        "\n",
        "for task in to_do_list:\n",
        "  print(f\"-{task}\")\n",
        "\n"
      ],
      "metadata": {
        "colab": {
          "base_uri": "https://localhost:8080/"
        },
        "id": "nJIFArg0PHu5",
        "outputId": "76705bc8-4fca-44ae-fd8b-06654536834a"
      },
      "execution_count": 75,
      "outputs": [
        {
          "output_type": "stream",
          "name": "stdout",
          "text": [
            "To Do List Remaining\n",
            "-REVISE THE ALGORITHM \n",
            "-before hitting take preworkout meal\n",
            "-take the gym bag\n",
            "-wakeup around 5 am in morning\n"
          ]
        }
      ]
    },
    {
      "cell_type": "markdown",
      "source": [
        "\n",
        "\n",
        "---\n",
        "\n"
      ],
      "metadata": {
        "id": "Q3rI2lz4gaHI"
      }
    },
    {
      "cell_type": "markdown",
      "source": [
        "Example 2: Organizing Student Grades\n",
        "\n",
        "Create a list to store and calculate average grades for students"
      ],
      "metadata": {
        "id": "TZbS5wE8ggts"
      }
    },
    {
      "cell_type": "code",
      "source": [
        "# Organizing student grades\n",
        "grades = [85, 92, 78, 90, 88]\n",
        "\n",
        "# Adding a new grade\n",
        "grades.append(95)\n",
        "\n",
        "# Calculating the average grade\n",
        "average_grade = sum(grades) / len(grades)\n",
        "print(f\"Average Grade: {average_grade:.2f}\")\n",
        "\n",
        "# Finding the highest and lowest grades\n",
        "highest_grade = max(grades) ## max/min ----> inbuilt functions\n",
        "lowest_grade = min(grades)\n",
        "print(f\"Highest Grade: {highest_grade}\")\n",
        "print(f\"Lowest Grade: {lowest_grade}\")"
      ],
      "metadata": {
        "colab": {
          "base_uri": "https://localhost:8080/"
        },
        "id": "xeJ0x6L0grTQ",
        "outputId": "5b0f89ca-2961-4d92-e5da-04bf715af6c4"
      },
      "execution_count": 76,
      "outputs": [
        {
          "output_type": "stream",
          "name": "stdout",
          "text": [
            "Average Grade: 88.00\n",
            "Highest Grade: 95\n",
            "Lowest Grade: 78\n"
          ]
        }
      ]
    },
    {
      "cell_type": "markdown",
      "source": [
        "\n",
        "\n",
        "---\n",
        "\n"
      ],
      "metadata": {
        "id": "FpZ6BDC_i5fJ"
      }
    },
    {
      "cell_type": "markdown",
      "source": [
        "\n",
        "Example 3: Managing An Inventory\n",
        "\n",
        "Use a list to manage inventory items in a store"
      ],
      "metadata": {
        "id": "cpVCHf91i9vq"
      }
    },
    {
      "cell_type": "code",
      "source": [
        "# Managing an inventory\n",
        "inventory = [\"apples\", \"bananas\", \"oranges\", \"grapes\"]\n",
        "\n",
        "# Adding a new item\n",
        "inventory.append(\"strawberries\")\n",
        "\n",
        "# Removing an item that is out of stock\n",
        "inventory.remove(\"bananas\")\n",
        "\n",
        "# Checking if an item is in stock\n",
        "item = \"oranges\"\n",
        "if item in inventory:\n",
        "    print(f\"{item} are in stock.\")\n",
        "else:\n",
        "    print(f\"{item} are out of stock.\")\n",
        "\n",
        "# Printing the inventory\n",
        "print(\"Inventory List:\")\n",
        "for item in inventory:\n",
        "    print(f\"- {item}\")"
      ],
      "metadata": {
        "colab": {
          "base_uri": "https://localhost:8080/"
        },
        "id": "DWEeHh2dchWC",
        "outputId": "885793ff-7bc6-4a2d-e6d1-aac698158820"
      },
      "execution_count": 77,
      "outputs": [
        {
          "output_type": "stream",
          "name": "stdout",
          "text": [
            "oranges are in stock.\n",
            "Inventory List:\n",
            "- apples\n",
            "- oranges\n",
            "- grapes\n",
            "- strawberries\n"
          ]
        }
      ]
    },
    {
      "cell_type": "markdown",
      "source": [
        "\n",
        "\n",
        "---\n",
        "\n"
      ],
      "metadata": {
        "id": "rY338tebjvic"
      }
    },
    {
      "cell_type": "markdown",
      "source": [
        "\n",
        "Example 4:Collecting User Feedback\n",
        "\n",
        "Use a list to collect and analyze user feedback"
      ],
      "metadata": {
        "id": "BgrR5Dobj0TB"
      }
    },
    {
      "cell_type": "code",
      "source": [
        "\n",
        "# Collecting user feedback\n",
        "feedback = [\"Great service!\", \"Very satisfied\", \"Could be better\", \"Excellent experience\"]\n",
        "\n",
        "# Adding new feedback\n",
        "feedback.append(\"Not happy with the service\")\n",
        "\n",
        "# Counting specific feedback\n",
        "positive_feedback_count = sum(1 for comment in feedback if \"great\" in comment.lower() or \"excellent\" in comment.lower())\n",
        "print(f\"Positive Feedback Count: {positive_feedback_count}\")\n",
        "\n",
        "# Printing all feedback\n",
        "print(\"User Feedback:\")\n",
        "for comment in feedback:\n",
        "    print(f\"- {comment}\")"
      ],
      "metadata": {
        "colab": {
          "base_uri": "https://localhost:8080/"
        },
        "id": "DfAULDEWjthF",
        "outputId": "35498617-27b1-43ab-ec6a-34a0ff07b093"
      },
      "execution_count": 78,
      "outputs": [
        {
          "output_type": "stream",
          "name": "stdout",
          "text": [
            "Positive Feedback Count: 2\n",
            "User Feedback:\n",
            "- Great service!\n",
            "- Very satisfied\n",
            "- Could be better\n",
            "- Excellent experience\n",
            "- Not happy with the service\n"
          ]
        }
      ]
    },
    {
      "cell_type": "markdown",
      "source": [
        "\n",
        "\n",
        "---\n",
        "\n"
      ],
      "metadata": {
        "id": "wIwgToEakAq-"
      }
    },
    {
      "cell_type": "code",
      "source": [],
      "metadata": {
        "id": "P9ndwne9chSr"
      },
      "execution_count": null,
      "outputs": []
    },
    {
      "cell_type": "markdown",
      "source": [],
      "metadata": {
        "id": "aBeTTTYskDyE"
      }
    }
  ]
}