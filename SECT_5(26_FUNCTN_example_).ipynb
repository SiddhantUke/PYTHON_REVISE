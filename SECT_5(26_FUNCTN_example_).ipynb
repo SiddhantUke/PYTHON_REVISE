{
  "nbformat": 4,
  "nbformat_minor": 0,
  "metadata": {
    "colab": {
      "provenance": [],
      "authorship_tag": "ABX9TyMmkmgtcScXnjJw7qyTtV4W",
      "include_colab_link": true
    },
    "kernelspec": {
      "name": "python3",
      "display_name": "Python 3"
    },
    "language_info": {
      "name": "python"
    }
  },
  "cells": [
    {
      "cell_type": "markdown",
      "metadata": {
        "id": "view-in-github",
        "colab_type": "text"
      },
      "source": [
        "<a href=\"https://colab.research.google.com/github/SiddhantUke/PYTHON_REVISE/blob/main/SECT_5(26_FUNCTN_example_).ipynb\" target=\"_parent\"><img src=\"https://colab.research.google.com/assets/colab-badge.svg\" alt=\"Open In Colab\"/></a>"
      ]
    },
    {
      "cell_type": "markdown",
      "source": [
        "### Functions Examples\n"
      ],
      "metadata": {
        "id": "ZECAM5mr9xfC"
      }
    },
    {
      "cell_type": "markdown",
      "source": [
        "#### Example 1: Temperature Conversion"
      ],
      "metadata": {
        "id": "QlWMX3pb91Db"
      }
    },
    {
      "cell_type": "code",
      "source": [
        "def convert_temperature (temp,unit):\n",
        "  '''This Function converts temp between cal to Fahrenhit'''\n",
        "  if unit == \"C\":\n",
        "    return  temp * 9/5 + 32 ## Convert Formula for Celsius to Fahrenhiet\n",
        "  elif unit  == \"F\":\n",
        "    return (temp - 32)* 5/9 ## FAHRENHEIT TO CELSIUS\n",
        "  else:\n",
        "    return None\n",
        "\n",
        "print(convert_temperature(54,'C'))\n",
        "print(convert_temperature(77,'F'))\n",
        "\n"
      ],
      "metadata": {
        "colab": {
          "base_uri": "https://localhost:8080/"
        },
        "id": "Lx8M-iBWZAad",
        "outputId": "cef2dcd3-a0c0-4308-e28f-eea1b01b6f9f"
      },
      "execution_count": 10,
      "outputs": [
        {
          "output_type": "stream",
          "name": "stdout",
          "text": [
            "129.2\n",
            "25.0\n"
          ]
        }
      ]
    },
    {
      "cell_type": "markdown",
      "source": [
        "\n",
        "\n",
        "---\n",
        "\n",
        "\n",
        "\n",
        "---\n",
        "\n"
      ],
      "metadata": {
        "id": "FJ0h8YwQE_I0"
      }
    },
    {
      "cell_type": "markdown",
      "source": [
        "##### Example 2: Password Strength Checker"
      ],
      "metadata": {
        "id": "L-f0FIXCFAUS"
      }
    },
    {
      "cell_type": "code",
      "source": [
        "def is_strong_password(password):\n",
        "  \"\"\"This Function Check if the Password is strong or not\"\"\" ## password must be minimum of 8 character !\n",
        "\n",
        "  if len(password)<8:\n",
        "    return False\n",
        "\n",
        "  if not any(char.isdigit() for char in password): ## whether the character have digit or not\n",
        "    return False\n",
        "\n",
        "  if not any(char.islower() for char in password):  ## whether the charcater id lower or not we have to check that !\n",
        "    return False\n",
        "\n",
        "  if not any(char.isupper() for char in password): ## wheter the character is upper or not have to check that !\n",
        "    return False\n",
        "\n",
        "  if not any(char in '!@#$%^&*()_+' for char in password):  ## if this is theere then its a weak password !\n",
        "    return False\n",
        "\n",
        "  return True\n",
        "\n",
        " ## Calling the Function\n",
        "\n",
        "\n",
        "\n",
        "print(is_strong_password(\"WeakPwd\"))\n",
        "print(is_strong_password(\"Str0ngPwd!\"))"
      ],
      "metadata": {
        "colab": {
          "base_uri": "https://localhost:8080/"
        },
        "id": "r_uS4vPGZAXu",
        "outputId": "3df634ab-b8dc-471d-e046-6ffeafb866a0"
      },
      "execution_count": 52,
      "outputs": [
        {
          "output_type": "stream",
          "name": "stdout",
          "text": [
            "False\n",
            "True\n"
          ]
        }
      ]
    },
    {
      "cell_type": "markdown",
      "source": [
        "\n",
        "\n",
        "---\n",
        "\n",
        "\n",
        "\n",
        "---\n",
        "\n"
      ],
      "metadata": {
        "id": "hW2AWkTZKjQL"
      }
    },
    {
      "cell_type": "markdown",
      "source": [
        "##### Example 3: Calculate the Total Cost Of Items In a Shopping Cart"
      ],
      "metadata": {
        "id": "XghdjAK1KjGz"
      }
    },
    {
      "cell_type": "code",
      "source": [
        "def calculate_total_cost(cart):\n",
        "    total_cost = 0\n",
        "    for item in cart:\n",
        "      total_cost = item['price']* item['quantity']\n",
        "    return total_cost\n",
        "\n",
        "## Example Cart Data\n",
        "\n",
        "cart = [\n",
        "    {'name' : 'Apple', 'price': 0.5, 'quantity': 4},\n",
        "    {'name' : 'Kela', 'price': 0.2, 'quantity': 5},\n",
        "    {'name' : 'Orange', 'price': 0.4, 'quantity': 3}\n",
        "]\n",
        "\n",
        "\n",
        "\n",
        "## Calling the function\n",
        "\n",
        "total_cost = calculate_total_cost(cart)\n",
        "print(total_cost)"
      ],
      "metadata": {
        "colab": {
          "base_uri": "https://localhost:8080/"
        },
        "id": "fzNsRIlUZAVU",
        "outputId": "0a349d56-6b47-4fb9-a236-2b05d6615eb7"
      },
      "execution_count": 54,
      "outputs": [
        {
          "output_type": "stream",
          "name": "stdout",
          "text": [
            "1.2000000000000002\n"
          ]
        }
      ]
    },
    {
      "cell_type": "markdown",
      "source": [
        "\n",
        "\n",
        "---\n",
        "\n",
        "\n",
        "\n",
        "---\n",
        "\n"
      ],
      "metadata": {
        "id": "GmbiA_ihNNbd"
      }
    },
    {
      "cell_type": "markdown",
      "source": [
        "##### Example 4: Check IF a String Is Palindrome"
      ],
      "metadata": {
        "id": "yYLGKMT_NTMz"
      }
    },
    {
      "cell_type": "code",
      "source": [
        "## tracker track lik whether in front it is equal or from back it is different !  \"\"aba\"\"\"\n",
        "\n",
        "def is_palindrome(s):\n",
        "  s = s.lower().replace(\" \",\" \")\n",
        "  return s==s[::-1]  ## reverse of this specific string itself\n",
        "\n",
        "  ## if both of them are equal then it is definitely palindrome\n",
        "\n",
        "print(is_palindrome(\"A man a plan a canal Panama\"))\n",
        "print(is_palindrome(\"Heyey\"))"
      ],
      "metadata": {
        "colab": {
          "base_uri": "https://localhost:8080/"
        },
        "id": "PRyZHk28ZAS9",
        "outputId": "df054a5a-3270-4e02-ebfa-893fdac4291e"
      },
      "execution_count": 57,
      "outputs": [
        {
          "output_type": "stream",
          "name": "stdout",
          "text": [
            "False\n",
            "False\n"
          ]
        }
      ]
    },
    {
      "cell_type": "code",
      "source": [
        "def is_palindrome(s):\n",
        "    s=s.lower().replace(\" \",\"\")\n",
        "    return s==s[::-1]\n",
        "\n",
        "print(is_palindrome(\"A man a plan a canal Panama\"))\n",
        "print(is_palindrome(\"He\"))"
      ],
      "metadata": {
        "colab": {
          "base_uri": "https://localhost:8080/"
        },
        "id": "5UIgbYE5ZAQp",
        "outputId": "817f7841-a50b-4574-bf40-5ba8b08cc7e2"
      },
      "execution_count": 61,
      "outputs": [
        {
          "output_type": "stream",
          "name": "stdout",
          "text": [
            "True\n",
            "False\n"
          ]
        }
      ]
    },
    {
      "cell_type": "markdown",
      "source": [
        "\n",
        "\n",
        "---\n",
        "\n",
        "\n",
        "\n",
        "---\n",
        "\n"
      ],
      "metadata": {
        "id": "8YXdclrCLO4w"
      }
    },
    {
      "cell_type": "markdown",
      "source": [
        "##### Example 5: Calculate the factorials of a number using recursion"
      ],
      "metadata": {
        "id": "ndIBmJYYLTLa"
      }
    },
    {
      "cell_type": "code",
      "source": [
        "## FACTORIAL FUNCTION !\n",
        "\n",
        "def factorial(n):\n",
        "  if n == 0:\n",
        "    return 1\n",
        "  else:\n",
        "    return n * factorial(n-1)\n",
        "\n",
        "\n",
        "print(factorial(5))"
      ],
      "metadata": {
        "colab": {
          "base_uri": "https://localhost:8080/"
        },
        "id": "6Qc6-SPnZAOI",
        "outputId": "4e5bc608-167a-4936-fe83-781caab91262"
      },
      "execution_count": 1,
      "outputs": [
        {
          "output_type": "stream",
          "name": "stdout",
          "text": [
            "120\n"
          ]
        }
      ]
    },
    {
      "cell_type": "markdown",
      "source": [
        "\n",
        "\n",
        "---\n",
        "\n",
        "\n",
        "\n",
        "---\n",
        "\n"
      ],
      "metadata": {
        "id": "4T7gQwoGayzP"
      }
    },
    {
      "cell_type": "markdown",
      "source": [
        "##### Example 6: A Function To Read A File and count the frequency of each word"
      ],
      "metadata": {
        "id": "r8Vrhlnia4mA"
      }
    },
    {
      "cell_type": "markdown",
      "source": [
        "repeat and revise this code for better understanding !\n"
      ],
      "metadata": {
        "id": "dfTig9QKe2kj"
      }
    },
    {
      "cell_type": "code",
      "source": [
        "def count_word_frequency(file_path):\n",
        "  word_count={}\n",
        "  with open(file_path, 'r')as file: ## r = read mode\n",
        "    for line in file:\n",
        "      words=line.split()\n",
        "      for word in words:\n",
        "        word=word.lower().strip('.,!?;:\"\\'')\n",
        "        word_count[word]=word_count.get(word,0)+1\n",
        "  return word_count\n",
        "\n",
        "filepath = \"/content/sample.txt\"\n",
        "\n",
        "word_frequency = count_word_frequency('/content/sample.txt')\n",
        "\n",
        "print(word_frequency)"
      ],
      "metadata": {
        "colab": {
          "base_uri": "https://localhost:8080/"
        },
        "id": "w1GfamWDZAL5",
        "outputId": "8f338a08-0e89-4a4e-fc36-2f6d68d26ff1"
      },
      "execution_count": 6,
      "outputs": [
        {
          "output_type": "stream",
          "name": "stdout",
          "text": [
            "{'hello': 1, 'nice': 1, 'to': 1, 'meet': 1, 'you': 1}\n"
          ]
        }
      ]
    },
    {
      "cell_type": "markdown",
      "source": [
        "\n",
        "\n",
        "---\n",
        "\n",
        "\n",
        "\n",
        "---\n",
        "\n"
      ],
      "metadata": {
        "id": "InMmmmU3e-h2"
      }
    },
    {
      "cell_type": "markdown",
      "source": [
        "\n",
        "##### Example 7: Validate Email Address"
      ],
      "metadata": {
        "id": "RBjUaAsBfUUl"
      }
    },
    {
      "cell_type": "code",
      "source": [
        "import re\n",
        "\n",
        "# Email validation function\n",
        "def is_valid_email(email):\n",
        "    \"\"\"This function checks if the email is valid.\"\"\"\n",
        "    pattern = r'^[a-zA-Z0-9_.+-]+@[a-zA-Z0-9-]+\\.[a-zA-Z0-9-.]+$'\n",
        "    return re.match(pattern, email) is not None\n",
        "\n",
        "# Calling the function\n",
        "print(is_valid_email(\"test@example.com\"))  # Output: True\n",
        "print(is_valid_email(\"invalid-email\"))  # Output: False\n"
      ],
      "metadata": {
        "colab": {
          "base_uri": "https://localhost:8080/"
        },
        "id": "c4qcMJ7RZAJx",
        "outputId": "f072f066-ea8b-4946-db83-276b6aefa24f"
      },
      "execution_count": 7,
      "outputs": [
        {
          "output_type": "stream",
          "name": "stdout",
          "text": [
            "True\n",
            "False\n"
          ]
        }
      ]
    },
    {
      "cell_type": "code",
      "source": [],
      "metadata": {
        "id": "SWpwxWYOZAHj"
      },
      "execution_count": null,
      "outputs": []
    },
    {
      "cell_type": "code",
      "source": [
        "## FOR BETTER UNDERSTANDING MUST REVISE THE EXAMPLE 6 AND EXAMPLE 7 !\n",
        "## AGAIN  AND AGAIN !"
      ],
      "metadata": {
        "id": "4tdyzb5fZAFF"
      },
      "execution_count": 9,
      "outputs": []
    },
    {
      "cell_type": "markdown",
      "source": [],
      "metadata": {
        "id": "QwZKUba3Y9Kg"
      }
    }
  ]
}