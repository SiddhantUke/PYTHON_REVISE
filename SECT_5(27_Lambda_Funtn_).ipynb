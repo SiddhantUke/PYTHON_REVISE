{
  "nbformat": 4,
  "nbformat_minor": 0,
  "metadata": {
    "colab": {
      "provenance": [],
      "authorship_tag": "ABX9TyMrtl/Jn4tsF1w0TaI+v+qG",
      "include_colab_link": true
    },
    "kernelspec": {
      "name": "python3",
      "display_name": "Python 3"
    },
    "language_info": {
      "name": "python"
    }
  },
  "cells": [
    {
      "cell_type": "markdown",
      "metadata": {
        "id": "view-in-github",
        "colab_type": "text"
      },
      "source": [
        "<a href=\"https://colab.research.google.com/github/SiddhantUke/PYTHON_REVISE/blob/main/SECT_5(27_Lambda_Funtn_).ipynb\" target=\"_parent\"><img src=\"https://colab.research.google.com/assets/colab-badge.svg\" alt=\"Open In Colab\"/></a>"
      ]
    },
    {
      "cell_type": "markdown",
      "source": [
        "## Lambda Functions in Python\n",
        "\n",
        "Lambda functions are small anonymous functions defined using the lambda keyword. They can have any number of arguments but only one expression. They are commonly used for short operations or as arguments to higher-order functions."
      ],
      "metadata": {
        "id": "wtwSN4LNio2W"
      }
    },
    {
      "cell_type": "code",
      "source": [
        "## SYNTAX\n",
        "\n",
        "lambda argument:expression\n"
      ],
      "metadata": {
        "id": "6RAJrn89iGEN",
        "outputId": "7e62f908-3824-4061-dd41-23a13359eb97",
        "colab": {
          "base_uri": "https://localhost:8080/"
        }
      },
      "execution_count": 31,
      "outputs": [
        {
          "output_type": "execute_result",
          "data": {
            "text/plain": [
              "<function __main__.<lambda>(argument)>"
            ]
          },
          "metadata": {},
          "execution_count": 31
        }
      ]
    },
    {
      "cell_type": "code",
      "source": [
        "def addition(a,b):\n",
        "  return a+b  ## basic functn with just has one expression !\n",
        "\n",
        "addition(4,5)"
      ],
      "metadata": {
        "id": "TdrCgGF2iGAt",
        "outputId": "71ab5304-ec49-4f6a-c267-653006272674",
        "colab": {
          "base_uri": "https://localhost:8080/"
        }
      },
      "execution_count": 18,
      "outputs": [
        {
          "output_type": "execute_result",
          "data": {
            "text/plain": [
              "9"
            ]
          },
          "metadata": {},
          "execution_count": 18
        }
      ]
    },
    {
      "cell_type": "code",
      "source": [
        "addition = lambda a,b:a+b\n",
        "\n",
        "type(addition)\n",
        "\n",
        "print(addition(5,6))  ## for calling this functn we have to give parameter for this funtn !"
      ],
      "metadata": {
        "id": "wgDCsdHAiF-_",
        "outputId": "db823c7b-79d4-4e94-f450-80041bcf8cba",
        "colab": {
          "base_uri": "https://localhost:8080/"
        }
      },
      "execution_count": 22,
      "outputs": [
        {
          "output_type": "stream",
          "name": "stdout",
          "text": [
            "11\n"
          ]
        }
      ]
    },
    {
      "cell_type": "code",
      "source": [
        "def even(num):\n",
        "  if num%2 == 0:\n",
        "    return True\n",
        "  else:\n",
        "    return False\n",
        "\n",
        "\n",
        "even(23)"
      ],
      "metadata": {
        "id": "YhichOv7iF8p",
        "outputId": "4acfb1b3-741e-41b4-e059-7709865b951e",
        "colab": {
          "base_uri": "https://localhost:8080/"
        }
      },
      "execution_count": 29,
      "outputs": [
        {
          "output_type": "execute_result",
          "data": {
            "text/plain": [
              "True"
            ]
          },
          "metadata": {},
          "execution_count": 29
        }
      ]
    },
    {
      "cell_type": "markdown",
      "source": [
        "#### HOW WE WILL DO THIS WITH THE HELP OF LAMBDA FUNCTN !\n"
      ],
      "metadata": {
        "id": "K61rGPSrlZ1B"
      }
    },
    {
      "cell_type": "code",
      "source": [
        "even1 = lambda num:num%2 == 0 ## we can write any variable here whether it is any thing !\n",
        "even1(13)"
      ],
      "metadata": {
        "id": "pqpBc8t2iF6V",
        "outputId": "f7bddf79-246e-4890-aa12-78d9f9e29828",
        "colab": {
          "base_uri": "https://localhost:8080/"
        }
      },
      "execution_count": 35,
      "outputs": [
        {
          "output_type": "execute_result",
          "data": {
            "text/plain": [
              "False"
            ]
          },
          "metadata": {},
          "execution_count": 35
        }
      ]
    },
    {
      "cell_type": "markdown",
      "source": [
        "### Taking multiple parameter !"
      ],
      "metadata": {
        "id": "5F5KEho9mKdE"
      }
    },
    {
      "cell_type": "code",
      "source": [
        "# def additionn(x,y,z):\n",
        "#   return x+y+z\n",
        "\n",
        "# add=additionn(12,16,18)\n",
        "# print(add)\n",
        "\n",
        "\n",
        "## HOW With lambda functn !\n",
        "\n",
        "addition = lambda x,y,z :x+y+z\n",
        "addition(22,26,28)\n"
      ],
      "metadata": {
        "id": "g0jrJmu_iF4X",
        "outputId": "1d8b3f36-201e-4142-c9a1-b330eb554fef",
        "colab": {
          "base_uri": "https://localhost:8080/"
        }
      },
      "execution_count": 42,
      "outputs": [
        {
          "output_type": "stream",
          "name": "stdout",
          "text": [
            "46\n"
          ]
        },
        {
          "output_type": "execute_result",
          "data": {
            "text/plain": [
              "76"
            ]
          },
          "metadata": {},
          "execution_count": 42
        }
      ]
    },
    {
      "cell_type": "markdown",
      "source": [
        "\n",
        "\n",
        "---\n",
        "\n",
        "\n",
        "\n",
        "---\n",
        "\n"
      ],
      "metadata": {
        "id": "_CBQILtZnQax"
      }
    },
    {
      "cell_type": "markdown",
      "source": [
        "## map()- applies a function to all items in a list\n",
        "\n",
        "\n",
        "# REPEAT THIS TWO CODES !\n",
        "### FOR BETTER UNDERSTANDING !\n"
      ],
      "metadata": {
        "id": "pIAx_J19nSBF"
      }
    },
    {
      "cell_type": "code",
      "source": [
        "numbers=[1,2,3,4,5,6]\n",
        "def square(number):\n",
        "    return number**2\n",
        "\n",
        "square(2)"
      ],
      "metadata": {
        "id": "ozvALUPyiF2F",
        "outputId": "ccf8ae74-bd3b-42f0-80e4-1a83af680fd2",
        "colab": {
          "base_uri": "https://localhost:8080/"
        }
      },
      "execution_count": 43,
      "outputs": [
        {
          "output_type": "execute_result",
          "data": {
            "text/plain": [
              "4"
            ]
          },
          "metadata": {},
          "execution_count": 43
        }
      ]
    },
    {
      "cell_type": "code",
      "source": [
        "list(map(lambda x:x**2,numbers))\n"
      ],
      "metadata": {
        "id": "XKsAnV1iiFz8",
        "outputId": "e1cfe748-3199-4d3c-fc0b-2beceaf67d8f",
        "colab": {
          "base_uri": "https://localhost:8080/"
        }
      },
      "execution_count": 44,
      "outputs": [
        {
          "output_type": "execute_result",
          "data": {
            "text/plain": [
              "[1, 4, 9, 16, 25, 36]"
            ]
          },
          "metadata": {},
          "execution_count": 44
        }
      ]
    },
    {
      "cell_type": "code",
      "source": [],
      "metadata": {
        "id": "0onKs28CiFwo"
      },
      "execution_count": null,
      "outputs": []
    },
    {
      "cell_type": "code",
      "source": [],
      "metadata": {
        "id": "CNTRL9j5iFue"
      },
      "execution_count": null,
      "outputs": []
    },
    {
      "cell_type": "code",
      "source": [],
      "metadata": {
        "id": "Yp-FFhLFiFRj"
      },
      "execution_count": null,
      "outputs": []
    },
    {
      "cell_type": "code",
      "source": [],
      "metadata": {
        "id": "eyTZ8baHiFN3"
      },
      "execution_count": null,
      "outputs": []
    },
    {
      "cell_type": "code",
      "source": [],
      "metadata": {
        "id": "lra2TbSLiFL7"
      },
      "execution_count": null,
      "outputs": []
    },
    {
      "cell_type": "code",
      "source": [],
      "metadata": {
        "id": "1E9doOyqiFIL"
      },
      "execution_count": null,
      "outputs": []
    },
    {
      "cell_type": "code",
      "source": [],
      "metadata": {
        "id": "fnjUWeW4iFGK"
      },
      "execution_count": null,
      "outputs": []
    },
    {
      "cell_type": "code",
      "source": [],
      "metadata": {
        "id": "Ig6YXUaIiFDF"
      },
      "execution_count": null,
      "outputs": []
    },
    {
      "cell_type": "code",
      "source": [],
      "metadata": {
        "id": "1B6G-Y_JiFA7"
      },
      "execution_count": null,
      "outputs": []
    }
  ]
}