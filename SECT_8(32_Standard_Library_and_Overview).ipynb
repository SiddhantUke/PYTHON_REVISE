{
  "cells": [
    {
      "cell_type": "markdown",
      "metadata": {
        "id": "view-in-github",
        "colab_type": "text"
      },
      "source": [
        "<a href=\"https://colab.research.google.com/github/SiddhantUke/PYTHON_REVISE/blob/main/SECT_8(32_Standard_Library_and_Overview).ipynb\" target=\"_parent\"><img src=\"https://colab.research.google.com/assets/colab-badge.svg\" alt=\"Open In Colab\"/></a>"
      ]
    },
    {
      "cell_type": "markdown",
      "metadata": {
        "id": "hyIp-khncDHp"
      },
      "source": [
        "### Standard Library Overview\n",
        "\n",
        "Python's Standard Library is a vast collection of modules and packages that come bundled with Python, providing a wide range of functionalities out of the box. Here's an overview of some of the most commonly used modules and packages in the Python Standard Library."
      ]
    },
    {
      "cell_type": "markdown",
      "metadata": {
        "id": "sa6VvTrfcGfE"
      },
      "source": [
        "\\\n",
        "\n",
        "---\n",
        "\n"
      ]
    },
    {
      "cell_type": "markdown",
      "metadata": {
        "id": "jOa57QUScL4F"
      },
      "source": [
        "##### Introduction to Functions\n",
        "Definition:\n",
        "\n",
        "A function is a block of code that performs a specific task.\n",
        "Functions help in organizing code, reusing code, and improving readability.\n",
        "\n"
      ]
    },
    {
      "cell_type": "code",
      "execution_count": 1,
      "metadata": {
        "id": "PRyZHk28ZAS9",
        "colab": {
          "base_uri": "https://localhost:8080/"
        },
        "outputId": "83a5d5ad-84e2-4229-f907-7737dbfb26d3"
      },
      "outputs": [
        {
          "output_type": "stream",
          "name": "stdout",
          "text": [
            "array('i', [1, 2, 3, 4])\n"
          ]
        }
      ],
      "source": [
        "import array\n",
        "arr=array.array('i',[1,2,3,4])\n",
        "print(arr)"
      ]
    },
    {
      "cell_type": "code",
      "execution_count": 2,
      "metadata": {
        "id": "5UIgbYE5ZAQp",
        "colab": {
          "base_uri": "https://localhost:8080/"
        },
        "outputId": "52a999fb-0387-4f26-e412-8c7814c593ca"
      },
      "outputs": [
        {
          "output_type": "stream",
          "name": "stdout",
          "text": [
            "1\n"
          ]
        }
      ],
      "source": [
        "arr = array.array('i', [1, 2, 3, 4, 5]) ## yaha import kiya array ko  and array functn diya then !\n",
        "\n",
        "print(arr[0])\n",
        "\n",
        "\n",
        "# 'i' = type code for integer\n",
        "\n",
        "# arr[0] = first element"
      ]
    },
    {
      "cell_type": "code",
      "execution_count": 4,
      "metadata": {
        "id": "6Qc6-SPnZAOI",
        "colab": {
          "base_uri": "https://localhost:8080/"
        },
        "outputId": "2d416424-2024-4b65-f26b-42b71be34956"
      },
      "outputs": [
        {
          "output_type": "stream",
          "name": "stdout",
          "text": [
            "2.0\n",
            "3.141592653589793\n"
          ]
        }
      ],
      "source": [
        "import math\n",
        "print(math.sqrt(4))\n",
        "print(math.pi)"
      ]
    },
    {
      "cell_type": "markdown",
      "source": [
        "\n",
        "\n",
        "---\n",
        "\n",
        "\n",
        "\n",
        "---\n",
        "\n"
      ],
      "metadata": {
        "id": "TWdZZbhWslsW"
      }
    },
    {
      "cell_type": "markdown",
      "source": [
        "In Python, the random module is used to generate random numbers or make random choices — useful in simulations, games, testing, and more."
      ],
      "metadata": {
        "id": "42ExUDLusjwU"
      }
    },
    {
      "cell_type": "code",
      "execution_count": 11,
      "metadata": {
        "id": "3v4nENegZAC2",
        "colab": {
          "base_uri": "https://localhost:8080/"
        },
        "outputId": "01997968-1f3a-4c0a-e568-969f57c6a8aa"
      },
      "outputs": [
        {
          "output_type": "stream",
          "name": "stdout",
          "text": [
            "6\n",
            "apple\n"
          ]
        }
      ],
      "source": [
        "## random\n",
        "\n",
        "import random\n",
        "\n",
        "print(random.randint(1,10))  ## provide  any random integers baseed on the value that we gives ~\n",
        "\n",
        "print(random.choice(['apple','banana','cherry'])) ##  when execute it automcaticlly pick the fruit !"
      ]
    },
    {
      "cell_type": "markdown",
      "source": [
        "\n",
        "\n",
        "---\n",
        "\n",
        "\n",
        "\n",
        "---\n",
        "\n"
      ],
      "metadata": {
        "id": "bhNcnSkKuKXF"
      }
    },
    {
      "cell_type": "markdown",
      "source": [
        "FILE AND DIRECTORY ACCESS !\n",
        "\n",
        "ACTUCALLY FOR FILE HANDLIMG !\n",
        "\n"
      ],
      "metadata": {
        "id": "Zd4jClebuM6X"
      }
    },
    {
      "cell_type": "code",
      "execution_count": 14,
      "metadata": {
        "id": "tKPyx3cBZAAg",
        "colab": {
          "base_uri": "https://localhost:8080/"
        },
        "outputId": "cd640420-7bc9-4832-8e7a-893a040043db"
      },
      "outputs": [
        {
          "output_type": "stream",
          "name": "stdout",
          "text": [
            "/content\n"
          ]
        }
      ],
      "source": [
        "import os\n",
        "\n",
        "print(os.getcwd()) ##get current working directory !"
      ]
    },
    {
      "cell_type": "code",
      "source": [
        "## in that working location suppose i want to create a folder !\n",
        "\n",
        "\n",
        "os.mkdir(\"test_dir\") ## for creating a folder we have to do like this !"
      ],
      "metadata": {
        "id": "5eTGPySywwyJ"
      },
      "execution_count": 15,
      "outputs": []
    },
    {
      "cell_type": "markdown",
      "source": [
        "\n",
        "\n",
        "---\n",
        "\n",
        "\n",
        "\n",
        "---\n",
        "\n"
      ],
      "metadata": {
        "id": "YzDBM59Oxvzz"
      }
    },
    {
      "cell_type": "code",
      "execution_count": null,
      "metadata": {
        "id": "zu9u46-OY_-Q"
      },
      "outputs": [],
      "source": [
        "## Lets Suppose we want to do some high level operation on file !\n"
      ]
    },
    {
      "cell_type": "code",
      "execution_count": 18,
      "metadata": {
        "id": "sDmq3tz6Y_8A",
        "colab": {
          "base_uri": "https://localhost:8080/",
          "height": 36
        },
        "outputId": "cb7a430c-36e9-4729-8dd8-c18f32c9982e"
      },
      "outputs": [
        {
          "output_type": "execute_result",
          "data": {
            "text/plain": [
              "'destination.txt'"
            ],
            "application/vnd.google.colaboratory.intrinsic+json": {
              "type": "string"
            }
          },
          "metadata": {},
          "execution_count": 18
        }
      ],
      "source": [
        "\n",
        "\n",
        "## High level operations on files and collection of files\n",
        "\n",
        "import shutil\n",
        "shutil.copyfile('source.txt','destination.txt')\n",
        "\n",
        "\n"
      ]
    },
    {
      "cell_type": "markdown",
      "source": [
        "\n",
        "\n",
        "---\n",
        "\n"
      ],
      "metadata": {
        "id": "FJNVR-hbzCK2"
      }
    },
    {
      "cell_type": "markdown",
      "source": [
        "data SerializATION"
      ],
      "metadata": {
        "id": "bPUt2tfIzFHX"
      }
    },
    {
      "cell_type": "code",
      "source": [],
      "metadata": {
        "id": "tHyW0VEYzh8Q"
      },
      "execution_count": null,
      "outputs": []
    },
    {
      "cell_type": "code",
      "execution_count": 17,
      "metadata": {
        "id": "Myd58PlAY_5x"
      },
      "outputs": [],
      "source": [
        "## CONVERTINF DICTIONARY INTO A JSON\n",
        "\n",
        "## WHENEVER WE ACTUCALLY WORK WITH JSON IT IS IMPORTANT TO WORK WITH API SO HELP TO CONVERT INTO JSON.\n",
        "\n"
      ]
    },
    {
      "cell_type": "code",
      "execution_count": 25,
      "metadata": {
        "id": "5-YtW8riY_2-",
        "colab": {
          "base_uri": "https://localhost:8080/"
        },
        "outputId": "1099b62e-e3de-4194-eb39-383f50627f5b"
      },
      "outputs": [
        {
          "output_type": "stream",
          "name": "stdout",
          "text": [
            "{\"name\": \"kkakarrot\", \"age\": 25, \"is_engineer\": true}\n",
            "<class 'str'>\n",
            "{'name': 'kkakarrot', 'age': 25, 'is_engineer': True}\n",
            "<class 'dict'>\n"
          ]
        }
      ],
      "source": [
        "## THIS HAPPEND WHEN ANY API ACTUCALLY COMES IN PICTURE SO WE HAVE TO\n",
        "\n",
        "\n",
        "import json\n",
        "\n",
        "data = {\n",
        "    \"name\": \"kkakarrot\",\n",
        "    \"age\": 25,\n",
        "    \"is_engineer\": True\n",
        "}\n",
        "\n",
        "json_string = json.dumps(data)\n",
        "print(json_string)\n",
        "print(type(json_string))\n",
        "\n",
        "## ------------------>>>>>    CONVERT THIS INTO DICTIONARY !\n",
        "\n",
        "parsed_data = json.loads(json_string)\n",
        "print(parsed_data)\n",
        "print(type(parsed_data))\n"
      ]
    },
    {
      "cell_type": "markdown",
      "source": [
        "\n",
        "\n",
        "---\n",
        "\n"
      ],
      "metadata": {
        "id": "clOmrr474Kx4"
      }
    },
    {
      "cell_type": "markdown",
      "source": [
        "csv\n",
        "\n",
        "```\n",
        "#Mode\tDescription\n",
        "\n",
        "\"r\"\tRead (file must exist)\n",
        "\n",
        "\"w\"\tWrite (overwrite or create)\n",
        "\n",
        "\"a\"\tAppend (write at end)\n",
        "\n",
        "\"r+\"\tRead + Write (file must exist)\n",
        "\n",
        "\"w+\"\tWrite + Read (overwrite/create)\n",
        "\n",
        "\"a+\"\tAppend + Read\n",
        "```\n",
        "\n"
      ],
      "metadata": {
        "id": "IitLOoNu4MKf"
      }
    },
    {
      "cell_type": "code",
      "execution_count": 29,
      "metadata": {
        "id": "hamJKPRYY_1B",
        "colab": {
          "base_uri": "https://localhost:8080/"
        },
        "outputId": "80005250-dbfa-4c60-c7fe-3640650056e8"
      },
      "outputs": [
        {
          "output_type": "stream",
          "name": "stdout",
          "text": [
            "['name', 'age']\n",
            "['Siddu', '25']\n"
          ]
        }
      ],
      "source": [
        "## csv\n",
        "\n",
        "import csv\n",
        "\n",
        "with open (\"example.csv\", mode=\"w\", newline=\"\") as file:\n",
        "  writer = csv.writer(file)\n",
        "  writer.writerow(['name','age'])\n",
        "  writer.writerow(['Siddu','25'])\n",
        "\n",
        "  ## actucally created a csv file for this record !\n",
        "\n",
        "with open('example.csv',mode='r') as file:\n",
        "  reader = csv.reader(file)\n",
        "  for row in reader:\n",
        "    print(row)"
      ]
    },
    {
      "cell_type": "markdown",
      "source": [
        "\n",
        "\n",
        "---\n",
        "\n",
        "\n",
        "\n",
        "---\n",
        "\n"
      ],
      "metadata": {
        "id": "Q4XvpXBC7aau"
      }
    },
    {
      "cell_type": "markdown",
      "source": [
        "#### DATE AND TIME LIBRARY !"
      ],
      "metadata": {
        "id": "c_PWvM3j7dLk"
      }
    },
    {
      "cell_type": "code",
      "execution_count": 51,
      "metadata": {
        "id": "-RRNVP5oY8Gy",
        "colab": {
          "base_uri": "https://localhost:8080/"
        },
        "outputId": "d1003e68-3ac7-4f90-aac2-0665645dd052"
      },
      "outputs": [
        {
          "output_type": "stream",
          "name": "stdout",
          "text": [
            "2025-06-08 09:49:29.008923\n",
            "2025-06-07 09:49:29.008923\n"
          ]
        }
      ],
      "source": [
        "from datetime import datetime,timedelta\n",
        "\n",
        "now =  datetime.now() ## specially  use  the current date !\n",
        "print(now)\n",
        "\n",
        "\n",
        "## what about yesterday time delta !\n",
        "\n",
        "yesterday = now-timedelta(days=1)\n",
        "print(yesterday)"
      ]
    },
    {
      "cell_type": "code",
      "execution_count": 52,
      "metadata": {
        "id": "kO3b8I3qY8zx",
        "colab": {
          "base_uri": "https://localhost:8080/"
        },
        "outputId": "dd4e5431-6bae-4659-96f0-a12a2f7a155f"
      },
      "outputs": [
        {
          "output_type": "stream",
          "name": "stdout",
          "text": [
            "1749376335.3725579\n",
            "1749376337.373011\n"
          ]
        }
      ],
      "source": [
        "##  STANDARD LIBRARY IE COMMON SO\n",
        "\n",
        "## TIME\n",
        "\n",
        "import time\n",
        "print(time.time())\n",
        "time.sleep(2)\n",
        "print(time.time())"
      ]
    },
    {
      "cell_type": "markdown",
      "source": [
        "#### specificallly for the match the speci"
      ],
      "metadata": {
        "id": "81ALcMem9UEk"
      }
    },
    {
      "cell_type": "code",
      "execution_count": null,
      "metadata": {
        "id": "ibC6o0ZhY8-_"
      },
      "outputs": [],
      "source": [
        "## Regular expresiion\n",
        "import re\n",
        "\n",
        "pattern=r'\\d+' ## d = digit !\n",
        "\n",
        "text='There are 123 apples 456'\n",
        "\n",
        "match=re.search(pattern,text)\n",
        "\n",
        "print(match.group())"
      ]
    },
    {
      "cell_type": "code",
      "execution_count": null,
      "metadata": {
        "id": "_zDWfYRZY9B2"
      },
      "outputs": [],
      "source": []
    },
    {
      "cell_type": "markdown",
      "metadata": {
        "id": "QwZKUba3Y9Kg"
      },
      "source": [
        "#### Conclusion\n",
        "\n",
        "Python's Standard Library is extensive and provides tools for almost any task you can think of, from file handling to web services, from data serialization to concurrent execution. Familiarizing yourself with the modules and packages available in the Standard Library can significantly enhance your ability to write efficient and effective Python programs."
      ]
    }
  ],
  "metadata": {
    "colab": {
      "provenance": [],
      "authorship_tag": "ABX9TyNwnfsophM+EAG4zn4SGRsQ",
      "include_colab_link": true
    },
    "kernelspec": {
      "display_name": "Python 3",
      "name": "python3"
    },
    "language_info": {
      "name": "python"
    }
  },
  "nbformat": 4,
  "nbformat_minor": 0
}