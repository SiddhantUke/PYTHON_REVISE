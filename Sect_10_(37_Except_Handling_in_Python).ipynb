{
  "nbformat": 4,
  "nbformat_minor": 0,
  "metadata": {
    "colab": {
      "provenance": [],
      "authorship_tag": "ABX9TyMyTRqPujLBPEXlT879jxvv",
      "include_colab_link": true
    },
    "kernelspec": {
      "name": "python3",
      "display_name": "Python 3"
    },
    "language_info": {
      "name": "python"
    }
  },
  "cells": [
    {
      "cell_type": "markdown",
      "metadata": {
        "id": "view-in-github",
        "colab_type": "text"
      },
      "source": [
        "<a href=\"https://colab.research.google.com/github/SiddhantUke/PYTHON_REVISE/blob/main/Sect_10_(37_Except_Handling_in_Python).ipynb\" target=\"_parent\"><img src=\"https://colab.research.google.com/assets/colab-badge.svg\" alt=\"Open In Colab\"/></a>"
      ]
    },
    {
      "cell_type": "markdown",
      "source": [
        "### Understanding Exceptions\n",
        "\n",
        "Exception handling in Python allows you to handle errors gracefully and take corrective actions without stopping the execution of the program. This lesson will cover the basics of exceptions, including how to use try, except, else, and finally blocks."
      ],
      "metadata": {
        "id": "DLmtSPWOrgo_"
      }
    },
    {
      "cell_type": "markdown",
      "source": [
        "\n",
        "\n",
        "---\n",
        "\n",
        "### What Are Exceptions?\n",
        "\n",
        "Exceptions are events that disrupt the normal flow of a program. They occur when an error is encountered during program execution.\n",
        "\n",
        "Common exceptions include:\n",
        "\n",
        "ZeroDivisionError: Dividing by zero.\n",
        "\n",
        "FileNotFoundError: File not found.\n",
        "\n",
        "ValueError: Invalid value.\n",
        "\n",
        "TypeError: Invalid type.\n",
        "\n",
        "---\n",
        "\n"
      ],
      "metadata": {
        "id": "p7S1G-o1_Aic"
      }
    },
    {
      "cell_type": "code",
      "source": [
        "a=b\n",
        "\n",
        "\n",
        "## this error we get !\n",
        "\n",
        "# name error we can say so this also one type of handling exception\n"
      ],
      "metadata": {
        "colab": {
          "base_uri": "https://localhost:8080/",
          "height": 219
        },
        "id": "ZhmxwLyN_AW_",
        "outputId": "8fb422e1-8f2f-41d2-b445-a009a2f9aacc"
      },
      "execution_count": 35,
      "outputs": [
        {
          "output_type": "error",
          "ename": "NameError",
          "evalue": "name 'b' is not defined",
          "traceback": [
            "\u001b[0;31m---------------------------------------------------------------------------\u001b[0m",
            "\u001b[0;31mNameError\u001b[0m                                 Traceback (most recent call last)",
            "\u001b[0;32m<ipython-input-35-cd529c541de0>\u001b[0m in \u001b[0;36m<cell line: 0>\u001b[0;34m()\u001b[0m\n\u001b[0;32m----> 1\u001b[0;31m \u001b[0ma\u001b[0m\u001b[0;34m=\u001b[0m\u001b[0mb\u001b[0m\u001b[0;34m\u001b[0m\u001b[0;34m\u001b[0m\u001b[0m\n\u001b[0m\u001b[1;32m      2\u001b[0m \u001b[0;34m\u001b[0m\u001b[0m\n\u001b[1;32m      3\u001b[0m \u001b[0;34m\u001b[0m\u001b[0m\n\u001b[1;32m      4\u001b[0m \u001b[0;31m## this error we get !\u001b[0m\u001b[0;34m\u001b[0m\u001b[0;34m\u001b[0m\u001b[0m\n\u001b[1;32m      5\u001b[0m \u001b[0;34m\u001b[0m\u001b[0m\n",
            "\u001b[0;31mNameError\u001b[0m: name 'b' is not defined"
          ]
        }
      ]
    },
    {
      "cell_type": "code",
      "source": [
        "## real picture comes here !\n",
        "\n",
        "## in try we have to put there that where we get an error !\n",
        "\n",
        "try:\n",
        "  a=b\n",
        "\n",
        "except:\n",
        "  print(\"is  tarah se exception handle karte hai taaki code run ho smoothly and apne ko dikkt na jaaye ! \")"
      ],
      "metadata": {
        "colab": {
          "base_uri": "https://localhost:8080/"
        },
        "id": "w7CkMX16_AT3",
        "outputId": "01ec2a54-cb1d-4328-cff7-bcd38039437f"
      },
      "execution_count": 33,
      "outputs": [
        {
          "output_type": "stream",
          "name": "stdout",
          "text": [
            "is  tarah se exception handle karte hai taaki code run ho smoothly and apne ko dikkt na jaaye ! \n"
          ]
        }
      ]
    },
    {
      "cell_type": "code",
      "source": [
        "\n",
        "## real picture comes here !\n",
        "\n",
        "## in try we have to put there that where we get an error !\n",
        "\n",
        "try:\n",
        "  a=b\n",
        "\n",
        "except:\n",
        "  print(\"is  tarah se exception handle karte hai taaki code run ho smoothly and apne ko dikkt na jaaye ! \")"
      ],
      "metadata": {
        "id": "73fLOlZT_ARt"
      },
      "execution_count": null,
      "outputs": []
    },
    {
      "cell_type": "code",
      "source": [
        "## real picture comes here !\n",
        "\n",
        "## in try we have to put there that where we get an error !\n",
        "\n",
        "try:\n",
        "  a=b\n",
        "\n",
        "except NameError as ex:\n",
        "  print(ex)\n",
        "\n",
        "  ## why is this ?\n",
        "\n",
        "  # we use name error that actucally catching this exception !\n",
        "\n",
        "\n",
        "  # ex is just an alias for handling the exception"
      ],
      "metadata": {
        "colab": {
          "base_uri": "https://localhost:8080/"
        },
        "id": "iEbPTy7J_APf",
        "outputId": "eb1f8f67-b69e-4abe-c0f1-e3ea8503c336"
      },
      "execution_count": 39,
      "outputs": [
        {
          "output_type": "stream",
          "name": "stdout",
          "text": [
            "name 'b' is not defined\n"
          ]
        }
      ]
    },
    {
      "cell_type": "code",
      "source": [],
      "metadata": {
        "id": "6vk_qptGyVnB"
      },
      "execution_count": null,
      "outputs": []
    },
    {
      "cell_type": "markdown",
      "source": [
        "\n",
        "\n",
        "---\n",
        "ZERO DIVISION ERROR !\n",
        "\n",
        "\n",
        "\n",
        "---\n",
        "\n",
        "\n"
      ],
      "metadata": {
        "id": "4jmP8qao_AE_"
      }
    },
    {
      "cell_type": "code",
      "source": [
        "result = 1/0"
      ],
      "metadata": {
        "colab": {
          "base_uri": "https://localhost:8080/",
          "height": 146
        },
        "id": "f5SFJFTo-_3o",
        "outputId": "87b67172-dd90-470b-b34e-08bf5df3d1d6"
      },
      "execution_count": 38,
      "outputs": [
        {
          "output_type": "error",
          "ename": "ZeroDivisionError",
          "evalue": "division by zero",
          "traceback": [
            "\u001b[0;31m---------------------------------------------------------------------------\u001b[0m",
            "\u001b[0;31mZeroDivisionError\u001b[0m                         Traceback (most recent call last)",
            "\u001b[0;32m<ipython-input-38-e324c61ec471>\u001b[0m in \u001b[0;36m<cell line: 0>\u001b[0;34m()\u001b[0m\n\u001b[0;32m----> 1\u001b[0;31m \u001b[0mresult\u001b[0m \u001b[0;34m=\u001b[0m \u001b[0;36m1\u001b[0m\u001b[0;34m/\u001b[0m\u001b[0;36m0\u001b[0m\u001b[0;34m\u001b[0m\u001b[0;34m\u001b[0m\u001b[0m\n\u001b[0m",
            "\u001b[0;31mZeroDivisionError\u001b[0m: division by zero"
          ]
        }
      ]
    },
    {
      "cell_type": "code",
      "source": [
        "try:\n",
        "  result = 1/0\n",
        "except ZeroDivisionError as ex:\n",
        "  print(ex)\n",
        "  print(\"Please Enter the denominator greater than 0\")"
      ],
      "metadata": {
        "colab": {
          "base_uri": "https://localhost:8080/"
        },
        "id": "gRjxPBdN-_0p",
        "outputId": "e8e3e463-35ca-4f2d-fd86-38890d3a1a42"
      },
      "execution_count": 40,
      "outputs": [
        {
          "output_type": "stream",
          "name": "stdout",
          "text": [
            "division by zero\n",
            "Please Enter the denominator greater than 0\n"
          ]
        }
      ]
    },
    {
      "cell_type": "markdown",
      "source": [],
      "metadata": {
        "id": "wzysIQG2-_pl"
      }
    },
    {
      "cell_type": "code",
      "source": [
        "try:\n",
        "  result = 1/2\n",
        "  a=b\n",
        "except ZeroDivisionError as ex:\n",
        "  print(ex)\n",
        "  print(\"Please Enter the denominator greater than 0\")"
      ],
      "metadata": {
        "colab": {
          "base_uri": "https://localhost:8080/",
          "height": 219
        },
        "id": "xxKKDMli-_Sf",
        "outputId": "c2ee539f-9718-457b-b44b-dc4e64fc89ad"
      },
      "execution_count": 41,
      "outputs": [
        {
          "output_type": "error",
          "ename": "NameError",
          "evalue": "name 'b' is not defined",
          "traceback": [
            "\u001b[0;31m---------------------------------------------------------------------------\u001b[0m",
            "\u001b[0;31mNameError\u001b[0m                                 Traceback (most recent call last)",
            "\u001b[0;32m<ipython-input-41-f3c6545241f3>\u001b[0m in \u001b[0;36m<cell line: 0>\u001b[0;34m()\u001b[0m\n\u001b[1;32m      1\u001b[0m \u001b[0;32mtry\u001b[0m\u001b[0;34m:\u001b[0m\u001b[0;34m\u001b[0m\u001b[0;34m\u001b[0m\u001b[0m\n\u001b[1;32m      2\u001b[0m   \u001b[0mresult\u001b[0m \u001b[0;34m=\u001b[0m \u001b[0;36m1\u001b[0m\u001b[0;34m/\u001b[0m\u001b[0;36m2\u001b[0m\u001b[0;34m\u001b[0m\u001b[0;34m\u001b[0m\u001b[0m\n\u001b[0;32m----> 3\u001b[0;31m   \u001b[0ma\u001b[0m\u001b[0;34m=\u001b[0m\u001b[0mb\u001b[0m\u001b[0;34m\u001b[0m\u001b[0;34m\u001b[0m\u001b[0m\n\u001b[0m\u001b[1;32m      4\u001b[0m \u001b[0;32mexcept\u001b[0m \u001b[0mZeroDivisionError\u001b[0m \u001b[0;32mas\u001b[0m \u001b[0mex\u001b[0m\u001b[0;34m:\u001b[0m\u001b[0;34m\u001b[0m\u001b[0;34m\u001b[0m\u001b[0m\n\u001b[1;32m      5\u001b[0m   \u001b[0mprint\u001b[0m\u001b[0;34m(\u001b[0m\u001b[0mex\u001b[0m\u001b[0;34m)\u001b[0m\u001b[0;34m\u001b[0m\u001b[0;34m\u001b[0m\u001b[0m\n",
            "\u001b[0;31mNameError\u001b[0m: name 'b' is not defined"
          ]
        }
      ]
    },
    {
      "cell_type": "markdown",
      "source": [
        "how we handle this kind of error handling exception !\n"
      ],
      "metadata": {
        "id": "Nk1TJsYpzgnf"
      }
    },
    {
      "cell_type": "code",
      "source": [
        "try:\n",
        "  result = 1/2\n",
        "  a=b\n",
        "except ZeroDivisionError as ex:\n",
        "  print(ex)\n",
        "  print(\"Please Enter the denominator greater than 0\")\n",
        "\n",
        "except Exception as ex1:     ## this handle any kind of exception any error can handle !\n",
        "\n",
        "  print(ex1)\n",
        "  print('Main exception got caught here ')"
      ],
      "metadata": {
        "colab": {
          "base_uri": "https://localhost:8080/"
        },
        "id": "LBzvjWJ0-_Q0",
        "outputId": "22314697-fdd3-45f1-db54-3883d527b7bd"
      },
      "execution_count": 49,
      "outputs": [
        {
          "output_type": "stream",
          "name": "stdout",
          "text": [
            "name 'b' is not defined\n",
            "Main exception got caught here \n"
          ]
        }
      ]
    },
    {
      "cell_type": "markdown",
      "source": [
        "\n",
        "\n",
        "---\n",
        "\n",
        "\n",
        "\n",
        "---\n",
        "\n"
      ],
      "metadata": {
        "id": "CvRnh-LS1FJ5"
      }
    },
    {
      "cell_type": "code",
      "source": [
        "## Situation k hissb s ! error handle ho rahe and baat krte hai ! ki ! kaisa to ye dekh skte value\n",
        " ## 0  -----> number\n",
        " ## string -------> Sidd\n",
        "\n",
        "\n",
        "try:\n",
        "    num=int(input(\"Enter a number \"))\n",
        "    result=10/num\n",
        "except ValueError:\n",
        "    print(\"This is not a valid number\")\n",
        "except ZeroDivisionError:\n",
        "    print(\"enter denominator greater than 0\")"
      ],
      "metadata": {
        "colab": {
          "base_uri": "https://localhost:8080/"
        },
        "id": "AtXgXxuv-_Oj",
        "outputId": "3b3b291d-cbaa-441b-81f2-c5b1d6a2ca84"
      },
      "execution_count": 54,
      "outputs": [
        {
          "output_type": "stream",
          "name": "stdout",
          "text": [
            "Enter a number sidd\n",
            "This is not a valid number\n"
          ]
        }
      ]
    },
    {
      "cell_type": "code",
      "source": [
        "\n",
        "\n",
        "try:\n",
        "    num=int(input(\"Enter a number\"))\n",
        "    result=10/num\n",
        "except ValueError:\n",
        "    print(\"This is not a valid number\")\n",
        "except ZeroDivisionError:\n",
        "    print(\"enter denominator greater than 0\")\n",
        "\n",
        "except Exception as ex:\n",
        "  print(ex)"
      ],
      "metadata": {
        "colab": {
          "base_uri": "https://localhost:8080/"
        },
        "id": "LXTnj5uq-_MK",
        "outputId": "39aabeb3-4c08-4515-ac25-732669ec57d4"
      },
      "execution_count": 55,
      "outputs": [
        {
          "output_type": "stream",
          "name": "stdout",
          "text": [
            "Enter a numberSidd\n",
            "This is not a valid number\n"
          ]
        }
      ]
    },
    {
      "cell_type": "code",
      "source": [],
      "metadata": {
        "id": "eq02M4Vn1XCT"
      },
      "execution_count": null,
      "outputs": []
    },
    {
      "cell_type": "code",
      "source": [],
      "metadata": {
        "id": "Gow0Qs9U2B1D"
      },
      "execution_count": null,
      "outputs": []
    },
    {
      "cell_type": "markdown",
      "source": [
        "\n",
        "\n",
        "---\n",
        "LETS SEE\n",
        "\n",
        "\n",
        "---\n",
        "\n",
        "\n",
        "TRY\n",
        "\n",
        "\n",
        "\n",
        "---\n",
        "\n",
        "EXCEPT\n",
        "\n",
        "\n",
        "\n",
        "---\n",
        "ELSE BLOCK !\n",
        "\n",
        "\n",
        "\n",
        "---\n",
        "\n",
        "\n"
      ],
      "metadata": {
        "id": "qiviuovh-_Aa"
      }
    },
    {
      "cell_type": "code",
      "source": [
        "## try,except,else block\n",
        "try:\n",
        "    num=int(input(\"Enter a number:\"))\n",
        "    result=10/num\n",
        "\n",
        "except ValueError:\n",
        "    print(\"That's not a valid number!\")\n",
        "\n",
        "except ZeroDivisionError:\n",
        "    print(\"You can't divide by zero!\")\n",
        "\n",
        "## if both the error are not coming then we can say this try ! error will executed successfully !\n",
        "\n",
        "\n",
        "except Exception as ex:\n",
        "  print(ex)\n",
        "\n",
        "\n",
        "## suppose we want to catch the result value here !\n",
        "# after code/ try wala execute hota hai ! then wo else block wala bhi aayenga !\n",
        "\n",
        "else :\n",
        "  print(f'the result is {result}')  ## it has to get executed doesnt matter !\n",
        "\n",
        "\n"
      ],
      "metadata": {
        "colab": {
          "base_uri": "https://localhost:8080/"
        },
        "id": "bjEflcZ1--1H",
        "outputId": "ec1006b0-1cc0-43ff-a1c9-5d6494701a63"
      },
      "execution_count": 61,
      "outputs": [
        {
          "output_type": "stream",
          "name": "stdout",
          "text": [
            "Enter a number:0\n",
            "You can't divide by zero!\n"
          ]
        }
      ]
    },
    {
      "cell_type": "code",
      "source": [],
      "metadata": {
        "id": "pXBrJjIV3you"
      },
      "execution_count": null,
      "outputs": []
    },
    {
      "cell_type": "markdown",
      "source": [
        "try\n",
        "\n",
        "---\n",
        "\n",
        "except\n",
        "\n",
        "\n",
        "---\n",
        "else and  finally !\n",
        "\n",
        "\n",
        "---\n",
        "\n"
      ],
      "metadata": {
        "id": "Y9JC8Gb63uTO"
      }
    },
    {
      "cell_type": "code",
      "source": [
        "\n",
        "## try,except,else and finally\n",
        "try:\n",
        "    num = int(input(\"Enter a number: \"))\n",
        "    result = 10 / num\n",
        "except ValueError:\n",
        "    print(\"That's not a valid number!\")\n",
        "except ZeroDivisionError:\n",
        "    print(\"You can't divide by zero!\")\n",
        "except Exception as ex:\n",
        "    print(ex)\n",
        "else:\n",
        "    print(f\"The result is {result}\") ## else only executed only when the error is not there !\n",
        "finally:\n",
        "    print(\"Execution complete.\")     ## whether error is comes or not it has to executed no matter what !\n",
        "\n",
        ""
      ],
      "metadata": {
        "colab": {
          "base_uri": "https://localhost:8080/"
        },
        "id": "jbJyQLR3--x_",
        "outputId": "284c8eed-6f24-4174-cc44-76ba24520f8a"
      },
      "execution_count": 63,
      "outputs": [
        {
          "output_type": "stream",
          "name": "stdout",
          "text": [
            "Enter a number: SDodkak\n",
            "That's not a valid number!\n",
            "Execution complete.\n"
          ]
        }
      ]
    },
    {
      "cell_type": "code",
      "source": [
        "## where this finally block we actucally need to use !\n"
      ],
      "metadata": {
        "id": "DWN8bgYS--wL"
      },
      "execution_count": null,
      "outputs": []
    },
    {
      "cell_type": "markdown",
      "source": [
        "\n",
        "### File handling and Exception HAndling (REPEAT)"
      ],
      "metadata": {
        "id": "6RwpOeI55N5-"
      }
    },
    {
      "cell_type": "code",
      "source": [
        " ### File handling and Exception HAndling\n",
        "\n",
        "try:\n",
        "    file=open('example1.txt','r')\n",
        "    content=file.read()\n",
        "    a=b\n",
        "    print(content)\n",
        "\n",
        "except FileNotFoundError:\n",
        "    print(\"The file does not exists\")\n",
        "except Exception as ex:\n",
        "    print(ex)\n",
        "\n",
        "finally:\n",
        "    if 'file' in locals() or not file.closed():\n",
        "        file.close()\n",
        "        print('file close')"
      ],
      "metadata": {
        "colab": {
          "base_uri": "https://localhost:8080/"
        },
        "id": "JyvxO2lU--uE",
        "outputId": "215a4982-2449-4cef-963e-6e18b0f8bd3a"
      },
      "execution_count": 64,
      "outputs": [
        {
          "output_type": "stream",
          "name": "stdout",
          "text": [
            "The file does not exists\n",
            "file close\n"
          ]
        }
      ]
    }
  ]
}