{
  "nbformat": 4,
  "nbformat_minor": 0,
  "metadata": {
    "colab": {
      "provenance": [],
      "authorship_tag": "ABX9TyPwbO6AnpYKDpFymLSun5dq",
      "include_colab_link": true
    },
    "kernelspec": {
      "name": "python3",
      "display_name": "Python 3"
    },
    "language_info": {
      "name": "python"
    }
  },
  "cells": [
    {
      "cell_type": "markdown",
      "metadata": {
        "id": "view-in-github",
        "colab_type": "text"
      },
      "source": [
        "<a href=\"https://colab.research.google.com/github/SiddhantUke/PYTHON_REVISE/blob/main/SECTION_4_(22_DICTIONARIES).ipynb\" target=\"_parent\"><img src=\"https://colab.research.google.com/assets/colab-badge.svg\" alt=\"Open In Colab\"/></a>"
      ]
    },
    {
      "cell_type": "markdown",
      "source": [
        "##INBUILT DATA STRUCTURES IN PYTHON"
      ],
      "metadata": {
        "id": "LHgoGsTGCqIf"
      }
    },
    {
      "cell_type": "markdown",
      "source": [
        "\n",
        "\n",
        "---\n",
        "\n"
      ],
      "metadata": {
        "id": "LY-S7MRLvhNO"
      }
    },
    {
      "cell_type": "markdown",
      "source": [
        "## Dictionaries\n",
        "\n",
        "\n",
        "Introduction to Dictionaries\n",
        "Creating Dictionaries\n",
        "Accessing Dictionary Elements\n",
        "Modifying Dictionary Elements\n",
        "Dictionary Methods\n",
        "Iterating Over Dictionaries\n",
        "Nested Dictionaries\n",
        "Dictionary Comprehensions\n",
        "Practical Examples and Common Errors"
      ],
      "metadata": {
        "id": "Qq9-SEyrP2qT"
      }
    },
    {
      "cell_type": "markdown",
      "source": [
        "\n",
        "\n",
        "---\n",
        "\n"
      ],
      "metadata": {
        "id": "2Y4IIzUgP5fn"
      }
    },
    {
      "cell_type": "markdown",
      "source": [
        "### Introduction to Dictionaries\n",
        "\n",
        "Dictionaries are unordered collections of items. They store data in key-value pairs. Keys must be unique and immutable (e.g., strings, numbers, or tuples), while values can be of any type."
      ],
      "metadata": {
        "id": "9WHMbs4qP-jF"
      }
    },
    {
      "cell_type": "code",
      "source": [
        "## Creating Dictionaries\n",
        "\n",
        "empty_dict={} ## FOR THIS WE HAVE TO CREATE A FLOWER BRACKET !\n",
        "print(type(empty_dict))\n",
        "\n",
        "\n",
        "\n",
        "\n",
        "## 2ND WAYS\n",
        "\n",
        "empty_dict=dict()\n",
        "empty_dict"
      ],
      "metadata": {
        "colab": {
          "base_uri": "https://localhost:8080/"
        },
        "id": "Wt_2YEx1PIid",
        "outputId": "03f47bee-83db-4f98-d4cc-d0b0d247e78a"
      },
      "execution_count": 29,
      "outputs": [
        {
          "output_type": "stream",
          "name": "stdout",
          "text": [
            "<class 'dict'>\n"
          ]
        },
        {
          "output_type": "execute_result",
          "data": {
            "text/plain": [
              "{}"
            ]
          },
          "metadata": {},
          "execution_count": 29
        }
      ]
    },
    {
      "cell_type": "code",
      "source": [
        "student={\"name\":\"Krish\",\"age\":32,\"grade\":24}\n",
        "print(student)\n",
        "print(type(student))\n",
        "\n",
        "\n",
        "## name / age / grade ----------. REPRESENTED KEY"
      ],
      "metadata": {
        "colab": {
          "base_uri": "https://localhost:8080/"
        },
        "id": "z5NrE2ZmPIe4",
        "outputId": "cbba69ec-75f7-4d3d-b73f-47a3dd7cafb4"
      },
      "execution_count": 30,
      "outputs": [
        {
          "output_type": "stream",
          "name": "stdout",
          "text": [
            "{'name': 'Krish', 'age': 32, 'grade': 24}\n",
            "<class 'dict'>\n"
          ]
        }
      ]
    },
    {
      "cell_type": "code",
      "source": [
        "# Single key is Always used\n",
        "student={\"name\":\"Krish\",\"age\":32,\"name\":24} ## DO NOT CREATE  KEY WITH THE SAME NAME AND IF WE CREATE THEN THE LAST VALUE ACTUCALLY DISPLACED !\n",
        "print(student)"
      ],
      "metadata": {
        "colab": {
          "base_uri": "https://localhost:8080/"
        },
        "id": "aUpiQvMIPIcw",
        "outputId": "b18f99a0-a2f2-4c22-fe07-70fc29f22c55"
      },
      "execution_count": 31,
      "outputs": [
        {
          "output_type": "stream",
          "name": "stdout",
          "text": [
            "{'name': 24, 'age': 32}\n"
          ]
        }
      ]
    },
    {
      "cell_type": "markdown",
      "source": [
        "\n",
        "\n",
        "---\n",
        "\n"
      ],
      "metadata": {
        "id": "P-vZp47AKMLs"
      }
    },
    {
      "cell_type": "code",
      "source": [
        "\n",
        "## accessing Dictionary Elements\n",
        "\n",
        "student={\"name\":\"kakarot\",\"age\":32,\"grade\":'A'}\n",
        "print(student)"
      ],
      "metadata": {
        "colab": {
          "base_uri": "https://localhost:8080/"
        },
        "id": "4RziCLdqPIab",
        "outputId": "5f004d04-6886-4fd9-959e-c92927644663"
      },
      "execution_count": 41,
      "outputs": [
        {
          "output_type": "stream",
          "name": "stdout",
          "text": [
            "{'name': 'kakarot', 'age': 32, 'grade': 'A'}\n"
          ]
        }
      ]
    },
    {
      "cell_type": "code",
      "source": [
        "## Accessing Dictionary elements\n",
        "\n",
        "print(student['grade'])\n",
        "print(student['age'])\n",
        "\n",
        "## Accessing using get() method\n",
        "\n",
        "print(student.get('grade'))\n",
        "print(student.get('last_name'))\n",
        "print(student.get('last_name',\"Not Available\")) ## -------> its a default value that replaced the last name none value."
      ],
      "metadata": {
        "colab": {
          "base_uri": "https://localhost:8080/"
        },
        "id": "J8hABL6hPIYF",
        "outputId": "25ed41f5-9685-408d-eaf4-2843862536f8"
      },
      "execution_count": 35,
      "outputs": [
        {
          "output_type": "stream",
          "name": "stdout",
          "text": [
            "A\n",
            "32\n",
            "A\n",
            "None\n",
            "Not Available\n"
          ]
        }
      ]
    },
    {
      "cell_type": "markdown",
      "source": [
        "\n",
        "\n",
        "---\n",
        "\n"
      ],
      "metadata": {
        "id": "0bxARz2-K7de"
      }
    },
    {
      "cell_type": "code",
      "source": [
        "\n",
        "## Modifying Dicitonary Elements\n",
        "\n",
        "## Dictionary are mutable,so you can add, update or delete elements\n",
        "\n",
        "\n",
        "print(student)"
      ],
      "metadata": {
        "colab": {
          "base_uri": "https://localhost:8080/"
        },
        "id": "jUwTTF_PPIWD",
        "outputId": "f067951d-c85c-4d98-a0b7-b3683b1ca914"
      },
      "execution_count": 36,
      "outputs": [
        {
          "output_type": "stream",
          "name": "stdout",
          "text": [
            "{'name': 'Krish', 'age': 32, 'grade': 'A'}\n"
          ]
        }
      ]
    },
    {
      "cell_type": "code",
      "source": [
        "student[\"age\"]=33  ##update value for the key\n",
        "print(student)\n",
        "\n",
        "## --------------------------------------------------------------------------\n",
        "\n",
        "student[\"address\"]=\"India\" ## added a new key and value\n",
        "print(student)"
      ],
      "metadata": {
        "colab": {
          "base_uri": "https://localhost:8080/"
        },
        "id": "e6my2f8sPIUH",
        "outputId": "86e222d8-d4c6-4126-b51f-c793817415a1"
      },
      "execution_count": 42,
      "outputs": [
        {
          "output_type": "stream",
          "name": "stdout",
          "text": [
            "{'name': 'kakarot', 'age': 33, 'grade': 'A'}\n",
            "{'name': 'kakarot', 'age': 33, 'grade': 'A', 'address': 'India'}\n"
          ]
        }
      ]
    },
    {
      "cell_type": "code",
      "source": [
        "del student['grade'] ## delete key and value pair\n",
        "\n",
        "print(student)"
      ],
      "metadata": {
        "colab": {
          "base_uri": "https://localhost:8080/"
        },
        "id": "JPTQ92-MPISH",
        "outputId": "4f52a443-1a49-4755-e8a5-15965f397379"
      },
      "execution_count": 43,
      "outputs": [
        {
          "output_type": "stream",
          "name": "stdout",
          "text": [
            "{'name': 'kakarot', 'age': 33, 'address': 'India'}\n"
          ]
        }
      ]
    },
    {
      "cell_type": "code",
      "source": [
        "## Dictionary methods\n",
        "\n",
        "keys=student.keys() ##get all the keys\n",
        "print(keys)\n",
        "\n",
        "\n",
        "values=student.values() ##get all values\n",
        "print(values)\n",
        "\n",
        "\n",
        "\n",
        "items=student.items() ##get all key value pairs\n",
        "print(items)"
      ],
      "metadata": {
        "colab": {
          "base_uri": "https://localhost:8080/"
        },
        "id": "5G6UuvQFPIQM",
        "outputId": "0ef7ef29-8f54-49b7-a795-3c64f52a6cf6"
      },
      "execution_count": 44,
      "outputs": [
        {
          "output_type": "stream",
          "name": "stdout",
          "text": [
            "dict_keys(['name', 'age', 'address'])\n",
            "dict_values(['kakarot', 33, 'India'])\n",
            "dict_items([('name', 'kakarot'), ('age', 33), ('address', 'India')])\n"
          ]
        }
      ]
    },
    {
      "cell_type": "markdown",
      "source": [
        "\n",
        "\n",
        "---\n",
        "\n"
      ],
      "metadata": {
        "id": "or64YOklNXJ8"
      }
    },
    {
      "cell_type": "code",
      "source": [],
      "metadata": {
        "id": "iJdj5xgXO_dA"
      },
      "execution_count": null,
      "outputs": []
    },
    {
      "cell_type": "code",
      "source": [
        "\n",
        "## shallow copy\n",
        "\n",
        "\n",
        "student_copy=student\n",
        "print(student)\n",
        "print(student_copy)"
      ],
      "metadata": {
        "colab": {
          "base_uri": "https://localhost:8080/"
        },
        "id": "jbDKDdLuMOVD",
        "outputId": "462acbed-355e-4ecf-a30c-76254a11c1c7"
      },
      "execution_count": 45,
      "outputs": [
        {
          "output_type": "stream",
          "name": "stdout",
          "text": [
            "{'name': 'kakarot', 'age': 33, 'address': 'India'}\n",
            "{'name': 'kakarot', 'age': 33, 'address': 'India'}\n"
          ]
        }
      ]
    },
    {
      "cell_type": "code",
      "source": [
        "student[\"name\"]=\"vegeta \" ##no change if we change the first then automatically second copy will change as well.\n",
        "print(student)\n",
        "print(student_copy)"
      ],
      "metadata": {
        "colab": {
          "base_uri": "https://localhost:8080/"
        },
        "id": "RsdoPo3oPIOL",
        "outputId": "11ae9ed3-0665-40a6-f3ed-16827b15c0d8"
      },
      "execution_count": 47,
      "outputs": [
        {
          "output_type": "stream",
          "name": "stdout",
          "text": [
            "{'name': 'vegeta ', 'age': 33, 'address': 'India'}\n",
            "{'name': 'vegeta ', 'age': 33, 'address': 'India'}\n"
          ]
        }
      ]
    },
    {
      "cell_type": "code",
      "source": [
        "\n",
        "student_copy1=student.copy() ## shallow copy\n",
        "print(student_copy1)\n",
        "print(student)"
      ],
      "metadata": {
        "colab": {
          "base_uri": "https://localhost:8080/"
        },
        "id": "SjlTXUhPPIL1",
        "outputId": "c9cf94de-8445-4821-e0ff-f6847cf67b40"
      },
      "execution_count": 57,
      "outputs": [
        {
          "output_type": "stream",
          "name": "stdout",
          "text": [
            "{'name': 'sidd', 'age': 33, 'address': 'India'}\n",
            "{'name': 'sidd', 'age': 33, 'address': 'India'}\n"
          ]
        }
      ]
    },
    {
      "cell_type": "code",
      "source": [
        "\n",
        "student[\"name\"]=\"sidd\"\n",
        "\n",
        "print(student_copy1) ## we need to focus on variable while doing this operation !\n",
        "\n",
        "print(student)"
      ],
      "metadata": {
        "colab": {
          "base_uri": "https://localhost:8080/"
        },
        "id": "vEyeSWaYPIJb",
        "outputId": "c67dea75-9f92-45ac-d5ee-72f4e7c32ba2"
      },
      "execution_count": 58,
      "outputs": [
        {
          "output_type": "stream",
          "name": "stdout",
          "text": [
            "{'name': 'sidd', 'age': 33, 'address': 'India'}\n",
            "{'name': 'sidd', 'age': 33, 'address': 'India'}\n"
          ]
        }
      ]
    },
    {
      "cell_type": "markdown",
      "source": [
        "\n",
        "\n",
        "---\n",
        "\n"
      ],
      "metadata": {
        "id": "BdtWNmP4REeV"
      }
    },
    {
      "cell_type": "code",
      "source": [
        "\n",
        "### Iterating Over Dictionaries\n",
        "## You can use loops to iterate over dictionatries, keys,values,or items\n",
        "\n",
        "## Iterating over keys\n",
        "\n",
        "\n",
        "for keys in student.keys(): ## alternate method !!\n",
        "\n",
        "    print(keys)"
      ],
      "metadata": {
        "colab": {
          "base_uri": "https://localhost:8080/"
        },
        "id": "U5EqUDzsPIG2",
        "outputId": "32952864-cf6a-4bd2-f198-d77a3eea441b"
      },
      "execution_count": 61,
      "outputs": [
        {
          "output_type": "stream",
          "name": "stdout",
          "text": [
            "name\n",
            "age\n",
            "address\n"
          ]
        }
      ]
    },
    {
      "cell_type": "code",
      "source": [
        "## Iterate over values\n",
        "for value in student.values():\n",
        "    print(value)"
      ],
      "metadata": {
        "colab": {
          "base_uri": "https://localhost:8080/"
        },
        "id": "vq3aMPKpPIES",
        "outputId": "f197e14f-28af-4349-d0a6-9e79ac53f72b"
      },
      "execution_count": 62,
      "outputs": [
        {
          "output_type": "stream",
          "name": "stdout",
          "text": [
            "sidd\n",
            "33\n",
            "India\n"
          ]
        }
      ]
    },
    {
      "cell_type": "code",
      "source": [
        "\n",
        "## Iterate over key value pairs\n",
        "for key,value in student.items():\n",
        "    print(f\"{key}:{value}\")"
      ],
      "metadata": {
        "colab": {
          "base_uri": "https://localhost:8080/"
        },
        "id": "w4NOQH4WPIB3",
        "outputId": "a37fe8cd-87b6-40b3-c269-14b1c6db7aaf"
      },
      "execution_count": 63,
      "outputs": [
        {
          "output_type": "stream",
          "name": "stdout",
          "text": [
            "name:sidd\n",
            "age:33\n",
            "address:India\n"
          ]
        }
      ]
    },
    {
      "cell_type": "markdown",
      "source": [
        "\n",
        "\n",
        "---\n",
        "\n"
      ],
      "metadata": {
        "id": "WbHt5JsLR4ym"
      }
    },
    {
      "cell_type": "code",
      "source": [
        "\n",
        "## Nested Disctionaries\n",
        "\n",
        "\n",
        "## Dictionaries inside another dictionaries !\n",
        "\n",
        "\n",
        "students={\n",
        "    \"student1\":{\"name\":\"Krish\",\"age\":32},\n",
        "    \"student2\":{\"name\":\"Peter\",\"age\":35}\n",
        "}\n",
        "print(students)"
      ],
      "metadata": {
        "colab": {
          "base_uri": "https://localhost:8080/"
        },
        "id": "CpK78cPCPH_R",
        "outputId": "5c98171d-edae-4c0c-e438-fbb087315bec"
      },
      "execution_count": 64,
      "outputs": [
        {
          "output_type": "stream",
          "name": "stdout",
          "text": [
            "{'student1': {'name': 'Krish', 'age': 32}, 'student2': {'name': 'Peter', 'age': 35}}\n"
          ]
        }
      ]
    },
    {
      "cell_type": "code",
      "source": [
        "\n",
        "## Access nested dictionaries elementss\n",
        "print(students[\"student2\"][\"name\"])\n",
        "print(students[\"student2\"][\"age\"])"
      ],
      "metadata": {
        "colab": {
          "base_uri": "https://localhost:8080/"
        },
        "id": "aJGAxHoeSeNm",
        "outputId": "41995f89-43ee-4eda-8a85-d62877a869dc"
      },
      "execution_count": 65,
      "outputs": [
        {
          "output_type": "stream",
          "name": "stdout",
          "text": [
            "Peter\n",
            "35\n"
          ]
        }
      ]
    },
    {
      "cell_type": "code",
      "source": [
        "students.items()"
      ],
      "metadata": {
        "colab": {
          "base_uri": "https://localhost:8080/"
        },
        "id": "rS2P5UlTT1sY",
        "outputId": "41c13329-dfa4-4135-ba11-06ddd790ef71"
      },
      "execution_count": 66,
      "outputs": [
        {
          "output_type": "execute_result",
          "data": {
            "text/plain": [
              "dict_items([('student1', {'name': 'Krish', 'age': 32}), ('student2', {'name': 'Peter', 'age': 35})])"
            ]
          },
          "metadata": {},
          "execution_count": 66
        }
      ]
    },
    {
      "cell_type": "markdown",
      "source": [
        "\n",
        "\n",
        "---\n",
        "\n"
      ],
      "metadata": {
        "id": "CCFL5mqlTOpO"
      }
    },
    {
      "cell_type": "code",
      "source": [
        "## Iterating over nested dictionaries\n",
        "\n",
        "## REPEATATION FOR REVISION AGAIN AND AGAIN LEETCODE !\n",
        "\n",
        "\n",
        "for student_id,student_info in students.items():\n",
        "\n",
        "    print(f\"{student_id}:{student_info}\")\n",
        "\n",
        "    for key,value in student_info.items():\n",
        "\n",
        "        print(f\"{key}:{value}\")"
      ],
      "metadata": {
        "colab": {
          "base_uri": "https://localhost:8080/"
        },
        "id": "MJeOFA9mPH9R",
        "outputId": "c7c45602-c77d-4451-940c-1de60272998b"
      },
      "execution_count": 68,
      "outputs": [
        {
          "output_type": "stream",
          "name": "stdout",
          "text": [
            "student1:{'name': 'Krish', 'age': 32}\n",
            "name:Krish\n",
            "age:32\n",
            "student2:{'name': 'Peter', 'age': 35}\n",
            "name:Peter\n",
            "age:35\n"
          ]
        }
      ]
    },
    {
      "cell_type": "code",
      "source": [
        "## Dictionary Comphrehension\n",
        "\n",
        "squares={x:x**2 for x in range(5)}\n",
        "\n",
        "## x -----> key\n",
        "## x -----> value\n",
        "\n",
        "print(squares)\n",
        "\n",
        "## write in simple for loop  and then convert it into dictionaries !"
      ],
      "metadata": {
        "colab": {
          "base_uri": "https://localhost:8080/"
        },
        "id": "a26O1UIzPH6P",
        "outputId": "6e7795f8-b867-43b9-9282-d9d1590b9ea8"
      },
      "execution_count": 69,
      "outputs": [
        {
          "output_type": "stream",
          "name": "stdout",
          "text": [
            "{0: 0, 1: 1, 2: 4, 3: 9, 4: 16}\n"
          ]
        }
      ]
    },
    {
      "cell_type": "code",
      "source": [
        "\n",
        "## Condition dictionary comprehension\n",
        "\n",
        "\n",
        "evens={x:x**2 for x in range(10) if x%2==0}\n",
        "print(evens)"
      ],
      "metadata": {
        "colab": {
          "base_uri": "https://localhost:8080/"
        },
        "id": "-t9WkLpEPH3-",
        "outputId": "a8597fba-d966-468f-9079-8f1308c662f0"
      },
      "execution_count": 70,
      "outputs": [
        {
          "output_type": "stream",
          "name": "stdout",
          "text": [
            "{0: 0, 2: 4, 4: 16, 6: 36, 8: 64}\n"
          ]
        }
      ]
    },
    {
      "cell_type": "markdown",
      "source": [
        "\n",
        "\n",
        "---\n",
        "\n"
      ],
      "metadata": {
        "id": "hUlqZSIXVArI"
      }
    },
    {
      "cell_type": "markdown",
      "source": [
        "REVISE\n"
      ],
      "metadata": {
        "id": "2HjlxeerZ9fV"
      }
    },
    {
      "cell_type": "code",
      "source": [
        "## PRACTICAL EXAMPLE !\n",
        "\n",
        "## reVISE !\n",
        "\n",
        "## USE DICTIONARIES TO COUNT THE FREQUENCY OF ELEMENT  IN LIST.\n",
        "\n",
        "\n",
        "numbers=[1,2,2,3,3,3,4,4,4,4]\n",
        "frequency={}\n",
        "\n",
        "for number in numbers:\n",
        "    if number in frequency:\n",
        "        frequency[number]+=1\n",
        "    else:\n",
        "        frequency[number]=1\n",
        "print(frequency)"
      ],
      "metadata": {
        "colab": {
          "base_uri": "https://localhost:8080/"
        },
        "id": "MvdCly1FU_vX",
        "outputId": "a9ec538b-866e-44bc-cbf9-effffb3e4da7"
      },
      "execution_count": 71,
      "outputs": [
        {
          "output_type": "stream",
          "name": "stdout",
          "text": [
            "{1: 1, 2: 2, 3: 3, 4: 4}\n"
          ]
        }
      ]
    },
    {
      "cell_type": "code",
      "source": [
        "\n",
        "## Merge 2 dictionaries into one\n",
        "\n",
        "dict1={\"a\":1,\"b\":2}\n",
        "dict2={\"b\":3,\"c\":4}\n",
        "\n",
        "merged_dict={**dict1,**dict2} ## MERGED LINE !\n",
        "\n",
        "\n",
        "print(merged_dict)"
      ],
      "metadata": {
        "colab": {
          "base_uri": "https://localhost:8080/"
        },
        "id": "0xc94T3iPH1z",
        "outputId": "dddab654-dbb2-4901-9995-921dd0d1f5f1"
      },
      "execution_count": 72,
      "outputs": [
        {
          "output_type": "stream",
          "name": "stdout",
          "text": [
            "{'a': 1, 'b': 3, 'c': 4}\n"
          ]
        }
      ]
    },
    {
      "cell_type": "markdown",
      "source": [
        "\n",
        "Conclusion\n",
        "\n",
        "\n",
        "Dictionaries are powerful tools in Python for managing key-value pairs. They are used in a variety of real-world scenarios, such as counting word frequency, grouping data, storing configuration settings, managing phonebooks, tracking inventory, and caching results. Understanding how to leverage dictionaries effectively can greatly enhance the efficiency and readability of your code."
      ],
      "metadata": {
        "id": "A_PZSCZcaiUg"
      }
    },
    {
      "cell_type": "code",
      "source": [],
      "metadata": {
        "id": "UpEmrDO7PHzb"
      },
      "execution_count": null,
      "outputs": []
    },
    {
      "cell_type": "code",
      "source": [],
      "metadata": {
        "id": "SZeKnzGxPHxM"
      },
      "execution_count": null,
      "outputs": []
    },
    {
      "cell_type": "code",
      "source": [],
      "metadata": {
        "id": "nJIFArg0PHu5"
      },
      "execution_count": null,
      "outputs": []
    }
  ]
}