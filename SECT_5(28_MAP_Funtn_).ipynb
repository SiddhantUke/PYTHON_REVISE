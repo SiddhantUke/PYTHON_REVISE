{
  "nbformat": 4,
  "nbformat_minor": 0,
  "metadata": {
    "colab": {
      "provenance": [],
      "authorship_tag": "ABX9TyMMaJmJ+Zozq+Wpjv/6aJTD",
      "include_colab_link": true
    },
    "kernelspec": {
      "name": "python3",
      "display_name": "Python 3"
    },
    "language_info": {
      "name": "python"
    }
  },
  "cells": [
    {
      "cell_type": "markdown",
      "metadata": {
        "id": "view-in-github",
        "colab_type": "text"
      },
      "source": [
        "<a href=\"https://colab.research.google.com/github/SiddhantUke/PYTHON_REVISE/blob/main/SECT_5(28_MAP_Funtn_).ipynb\" target=\"_parent\"><img src=\"https://colab.research.google.com/assets/colab-badge.svg\" alt=\"Open In Colab\"/></a>"
      ]
    },
    {
      "cell_type": "markdown",
      "source": [
        "## The map() Function in Python\n",
        "\n",
        "The map() function applies a given function to all items in an input list (or any other iterable) and returns a map object (an iterator). This is particularly useful for transforming data in a list comprehensively."
      ],
      "metadata": {
        "id": "wtwSN4LNio2W"
      }
    },
    {
      "cell_type": "markdown",
      "source": [
        "map(function, iterable)"
      ],
      "metadata": {
        "id": "axeYvOL2I75o"
      }
    },
    {
      "cell_type": "code",
      "source": [
        "## 1ST METHOD\n",
        "\n",
        "def square(x):\n",
        "  return x*x\n",
        "\n",
        "square(4)\n",
        "\n",
        "\n",
        "\n",
        "## how we will do this in map functn\n",
        "\n",
        "numbers=[1,2,3,4,5,6,7,8] ## want to apply above operation for this same operation how it will happend !\n",
        "\n",
        "\n",
        "list(map(square,numbers))  ## for converting that map funtn  into list we haev to add listen before the syntax !\n"
      ],
      "metadata": {
        "colab": {
          "base_uri": "https://localhost:8080/"
        },
        "id": "CNTRL9j5iFue",
        "outputId": "9c8b788e-ff78-4da1-d138-f8bdb3e09319"
      },
      "execution_count": 8,
      "outputs": [
        {
          "output_type": "execute_result",
          "data": {
            "text/plain": [
              "[1, 4, 9, 16, 25, 36, 49, 64]"
            ]
          },
          "metadata": {},
          "execution_count": 8
        }
      ]
    },
    {
      "cell_type": "markdown",
      "source": [
        "\n",
        "\n",
        "---\n",
        "\n",
        "\n",
        "\n",
        "---\n",
        "\n"
      ],
      "metadata": {
        "id": "P6P6N0mpHQlD"
      }
    },
    {
      "cell_type": "markdown",
      "source": [],
      "metadata": {
        "id": "Q5Mm_cNxJ4CA"
      }
    },
    {
      "cell_type": "code",
      "source": [
        "## HERE WE APPLY LAMBDA FUNTN WITH MAP FUNCTN !\n",
        "\n",
        "numbers=[1,2,3,4,5,6,7,8]\n",
        "\n",
        "## instead of that we use lambda functn !\n",
        "\n",
        "list(map(lambda x:x*x,numbers))"
      ],
      "metadata": {
        "colab": {
          "base_uri": "https://localhost:8080/"
        },
        "id": "Yp-FFhLFiFRj",
        "outputId": "a3376860-adf9-4b25-9dc7-a816fbec6174"
      },
      "execution_count": 10,
      "outputs": [
        {
          "output_type": "execute_result",
          "data": {
            "text/plain": [
              "[1, 4, 9, 16, 25, 36, 49, 64]"
            ]
          },
          "metadata": {},
          "execution_count": 10
        }
      ]
    },
    {
      "cell_type": "code",
      "source": [
        "## Can we map Multiple iterables !\n",
        "\n",
        "## take each and every element and keep on addign them !\n",
        "\n",
        "numbers1=[5,8,7]\n",
        "numbers2=[7,7,9]\n",
        "\n",
        "added_numbers=list(map(lambda x,y:x+y,numbers1,numbers2))\n",
        "\n",
        "print(added_numbers)"
      ],
      "metadata": {
        "colab": {
          "base_uri": "https://localhost:8080/"
        },
        "id": "eyTZ8baHiFN3",
        "outputId": "9086b38d-bed9-48b1-f512-72b9e0bc517b"
      },
      "execution_count": 12,
      "outputs": [
        {
          "output_type": "stream",
          "name": "stdout",
          "text": [
            "[12, 15, 16]\n"
          ]
        }
      ]
    },
    {
      "cell_type": "code",
      "source": [],
      "metadata": {
        "id": "lra2TbSLiFL7"
      },
      "execution_count": null,
      "outputs": []
    },
    {
      "cell_type": "code",
      "source": [
        "\n",
        "## map() to convert a list of strings to integers\n",
        "# Use map to convert strings to integers\n",
        "\n",
        "\n",
        "str_numbers = ['1', '2', '3', '4', '5']\n",
        "\n",
        "int_numbers = list(map(int, str_numbers)) ## type casting  made with this\n",
        "\n",
        "print(int_numbers)  # Output: [1, 2, 3, 4, 5]"
      ],
      "metadata": {
        "colab": {
          "base_uri": "https://localhost:8080/"
        },
        "id": "1E9doOyqiFIL",
        "outputId": "4aff5e9a-3cf3-497c-a7fe-a19cd3e4f4b6"
      },
      "execution_count": 13,
      "outputs": [
        {
          "output_type": "stream",
          "name": "stdout",
          "text": [
            "[1, 2, 3, 4, 5]\n"
          ]
        }
      ]
    },
    {
      "cell_type": "code",
      "source": [
        "words=['apple','banana','cherry']\\\n",
        "\n",
        "upper_word=list(map(str.upper,words))\n",
        "\n",
        "print(upper_word)"
      ],
      "metadata": {
        "colab": {
          "base_uri": "https://localhost:8080/"
        },
        "id": "fnjUWeW4iFGK",
        "outputId": "4853e0f6-b337-4885-e4cd-93f91d2933e7"
      },
      "execution_count": 14,
      "outputs": [
        {
          "output_type": "stream",
          "name": "stdout",
          "text": [
            "['APPLE', 'BANANA', 'CHERRY']\n"
          ]
        }
      ]
    },
    {
      "cell_type": "code",
      "source": [
        "def get_name(person):\n",
        "    return person['name']\n",
        "\n",
        "people=[\n",
        "    {'name':'Vegeta ','age':32},\n",
        "    {'name':'Kakarot','age':33}\n",
        "]\n",
        "list(map(get_name,people))"
      ],
      "metadata": {
        "colab": {
          "base_uri": "https://localhost:8080/"
        },
        "id": "Ig6YXUaIiFDF",
        "outputId": "bcac8cc7-a94e-4fe3-ac44-6f9e22d47198"
      },
      "execution_count": 17,
      "outputs": [
        {
          "output_type": "execute_result",
          "data": {
            "text/plain": [
              "['Vegeta ', 'Kakarot']"
            ]
          },
          "metadata": {},
          "execution_count": 17
        }
      ]
    },
    {
      "cell_type": "markdown",
      "source": [
        "## Conclusion\n",
        "\n",
        "The map() function is a powerful tool for applying transformations to iterable data structures. It can be used with regular functions, lambda functions, and even multiple iterables, providing a versatile approach to data processing in Python. By understanding and utilizing map(), you can write more efficient and readable code."
      ],
      "metadata": {
        "id": "EWKbsqxwOCtG"
      }
    },
    {
      "cell_type": "code",
      "source": [],
      "metadata": {
        "id": "1B6G-Y_JiFA7"
      },
      "execution_count": null,
      "outputs": []
    }
  ]
}